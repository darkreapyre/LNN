{
 "cells": [
  {
   "cell_type": "markdown",
   "metadata": {},
   "source": [
    "## Test Creating an Invocation Counter top prevent mutant Lambda Functions from Executing\n",
    "### DynamoDB Initialization"
   ]
  },
  {
   "cell_type": "code",
   "execution_count": 1,
   "metadata": {
    "collapsed": true
   },
   "outputs": [],
   "source": [
    "# Import Libraries needed by the Lambda Function\n",
    "import sys\n",
    "import numpy as np\n",
    "import h5py\n",
    "import scipy\n",
    "import os\n",
    "from os import environ\n",
    "import json\n",
    "from json import dumps, loads\n",
    "from boto3 import client, resource, Session\n",
    "import botocore\n",
    "import uuid\n",
    "import io\n",
    "import redis\n",
    "from redis import StrictRedis as redis"
   ]
  },
  {
   "cell_type": "code",
   "execution_count": 2,
   "metadata": {
    "collapsed": true
   },
   "outputs": [],
   "source": [
    "# Global Variables\n",
    "rgn = 'us-west-2'\n",
    "s3_client = client('s3', region_name=rgn) # S3 access\n",
    "s3_resource = resource('s3')\n",
    "sns_client = client('sns', region_name=rgn) # SNS\n",
    "redis_client = client('elasticache', region_name=rgn)\n",
    "#Retrieve the Elasticache Cluster endpoint\n",
    "cc = redis_client.describe_cache_clusters(ShowCacheNodeInfo=True)\n",
    "endpoint = cc['CacheClusters'][0]['CacheNodes'][0]['Endpoint']['Address']\n",
    "lambda_client = client('lambda', region_name=rgn) # Lambda invocations\n",
    "dynamo_client = client('dynamodb', region_name=rgn)\n",
    "dynamo_resource = resource('dynamodb', region_name=rgn)\n"
   ]
  },
  {
   "cell_type": "code",
   "execution_count": 3,
   "metadata": {},
   "outputs": [],
   "source": [
    "# Initialize DynamoDB Tables\n",
    "table_list = ['TrainerLambda', 'NeuronLambda']\n",
    "for t in table_list:\n",
    "    list_response = dynamo_client.list_tables()\n",
    "    if t in list_response['TableNames']:\n",
    "        dynamo_client.delete_table(TableName=t)\n",
    "        waiter = dynamo_client.get_waiter('table_not_exists')\n",
    "        waiter.wait(TableName=t)\n",
    "    \n",
    "    # Create a new table\n",
    "    table = dynamo_resource.create_table(\n",
    "        TableName=t,\n",
    "        KeySchema=[\n",
    "            {\n",
    "                'AttributeName': 'invID',\n",
    "                'KeyType': 'HASH'\n",
    "            },\n",
    "        ],\n",
    "        AttributeDefinitions=[\n",
    "            {\n",
    "                'AttributeName': 'invID',\n",
    "                'AttributeType': 'S'\n",
    "            },\n",
    "        ],\n",
    "        ProvisionedThroughput={\n",
    "            'ReadCapacityUnits': 10,\n",
    "            'WriteCapacityUnits': 10\n",
    "        }\n",
    "    )\n",
    "    table.meta.client.get_waiter('table_exists').wait(TableName=t)"
   ]
  },
  {
   "cell_type": "code",
   "execution_count": 4,
   "metadata": {
    "collapsed": true
   },
   "outputs": [],
   "source": [
    "def inv_counter(name, invID, task):\n",
    "    \"\"\"\n",
    "    Manages the Counter assigned to a unique Lambda Invocation ID, by\n",
    "    either setting it to 0, updating it to 1 or querying the value.\n",
    "   \n",
    "    Arguments:\n",
    "    name -- The Name of the function being invoked\n",
    "    invID -- The unique invocation ID created for the specific invokation\n",
    "    task -- Task to perfoirm: set | get | update\n",
    "    \"\"\"\n",
    "    table = dynamo_resource.Table(name)\n",
    "    if task == 'set':\n",
    "        table.put_item(\n",
    "            Item={\n",
    "                'invID': invID,\n",
    "                'cnt': 0\n",
    "            }\n",
    "        )\n",
    "        \n",
    "    elif task == 'get':\n",
    "        task_response = table.get_item(\n",
    "            Key={\n",
    "                'invID': invID\n",
    "            }\n",
    "        )\n",
    "        \n",
    "        item = task_response['Item']\n",
    "        \n",
    "        return int(item['cnt'])\n",
    "        \n",
    "    elif task == 'update':\n",
    "        task_response = table.update_item(\n",
    "            Key={\n",
    "                'invID': invID\n",
    "            },\n",
    "            UpdateExpression='SET cnt = :val1',\n",
    "            ExpressionAttributeValues={\n",
    "                ':val1': 1\n",
    "            }\n",
    "        )\n"
   ]
  },
  {
   "cell_type": "markdown",
   "metadata": {},
   "source": [
    "### Invoking a Function"
   ]
  },
  {
   "cell_type": "code",
   "execution_count": 5,
   "metadata": {
    "collapsed": true
   },
   "outputs": [],
   "source": [
    "# Sample Command to run just befor invoking a new Lambda\n",
    "payload = {}\n",
    "invID = str(uuid.uuid4()).split('-')[0]\n",
    "name = \"TrainerLambda\" #Name of the Lambda fucntion to be invoked\n",
    "task = 'set'\n",
    "inv_counter(name, invID, task)\n",
    "payload['invID'] = invID"
   ]
  },
  {
   "cell_type": "code",
   "execution_count": 6,
   "metadata": {},
   "outputs": [
    {
     "name": "stdout",
     "output_type": "stream",
     "text": [
      "Invokation ID: f566e400\n"
     ]
    }
   ],
   "source": [
    "print(\"Invokation ID: {}\".format(payload['invID']))"
   ]
  },
  {
   "cell_type": "markdown",
   "metadata": {},
   "source": [
    "### After Invocation (First Time)"
   ]
  },
  {
   "cell_type": "code",
   "execution_count": 7,
   "metadata": {
    "collapsed": true
   },
   "outputs": [],
   "source": [
    "# Sammple Command to run at the beginning of every Lambda Handler\n",
    "invID = payload['invID']\n",
    "#invID = event.get('InvID')\n",
    "name = \"TrainerLambda\" #Name of the current Lambda function that was invoked\n",
    "task = 'get'\n",
    "cnt = inv_counter(name, invID, task) #should be 0 for a new function invoked\n",
    "if cnt == 0:\n",
    "    task = 'update'\n",
    "    inv_counter(name, invID, task)\n",
    "else:\n",
    "    sys.exit()"
   ]
  },
  {
   "cell_type": "markdown",
   "metadata": {},
   "source": [
    "### After Invocation (Mutant Lambda)"
   ]
  },
  {
   "cell_type": "code",
   "execution_count": 8,
   "metadata": {},
   "outputs": [
    {
     "ename": "SystemExit",
     "evalue": "",
     "output_type": "error",
     "traceback": [
      "An exception has occurred, use %tb to see the full traceback.\n",
      "\u001b[0;31mSystemExit\u001b[0m\n"
     ]
    },
    {
     "name": "stderr",
     "output_type": "stream",
     "text": [
      "/usr/local/lib/python3.6/site-packages/IPython/core/interactiveshell.py:2870: UserWarning: To exit: use 'exit', 'quit', or Ctrl-D.\n",
      "  warn(\"To exit: use 'exit', 'quit', or Ctrl-D.\", stacklevel=1)\n"
     ]
    }
   ],
   "source": [
    "# Sammple Command to run at the beginning of every Lambda Handler\n",
    "invID = payload['invID']\n",
    "#invID = event.get('InvID')\n",
    "name = \"TrainerLambda\" #Name of the current Lambda function that was invoked\n",
    "task = 'get'\n",
    "cnt = inv_counter(name, invID, task) #should be 0 for a new function invoked\n",
    "if cnt == 0:\n",
    "    task = 'update'\n",
    "    inv_counter(name, invID, task)\n",
    "else:\n",
    "    sys.exit()"
   ]
  },
  {
   "cell_type": "code",
   "execution_count": null,
   "metadata": {
    "collapsed": true
   },
   "outputs": [],
   "source": []
  }
 ],
 "metadata": {
  "kernelspec": {
   "display_name": "Python 3",
   "language": "python",
   "name": "python3"
  },
  "language_info": {
   "codemirror_mode": {
    "name": "ipython",
    "version": 3
   },
   "file_extension": ".py",
   "mimetype": "text/x-python",
   "name": "python",
   "nbconvert_exporter": "python",
   "pygments_lexer": "ipython3",
   "version": "3.6.1"
  }
 },
 "nbformat": 4,
 "nbformat_minor": 2
}
