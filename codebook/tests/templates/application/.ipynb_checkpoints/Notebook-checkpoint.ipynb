{
 "cells": [
  {
   "cell_type": "markdown",
   "metadata": {},
   "source": [
    "# Deep Neural Network for Image Classification: Application\n",
    "\n",
    "When you finish this, you will have finished the last programming assignment of Week 4, and also the last programming assignment of this course! \n",
    "\n",
    "You will use use the functions you'd implemented in the previous assignment to build a deep network, and apply it to cat vs non-cat classification. Hopefully, you will see an improvement in accuracy relative to your previous logistic regression implementation.  \n",
    "\n",
    "**After this assignment you will be able to:**\n",
    "- Build and apply a deep neural network to supervised learning. \n",
    "\n",
    "Let's get started!"
   ]
  },
  {
   "cell_type": "markdown",
   "metadata": {},
   "source": [
    "## 1 - Packages"
   ]
  },
  {
   "cell_type": "markdown",
   "metadata": {},
   "source": [
    "Let's first import all the packages that you will need during this assignment. \n",
    "- [numpy](www.numpy.org) is the fundamental package for scientific computing with Python.\n",
    "- [matplotlib](http://matplotlib.org) is a library to plot graphs in Python.\n",
    "- [h5py](http://www.h5py.org) is a common package to interact with a dataset that is stored on an H5 file.\n",
    "- [PIL](http://www.pythonware.com/products/pil/) and [scipy](https://www.scipy.org/) are used here to test your model with your own picture at the end.\n",
    "- dnn_app_utils provides the functions implemented in the \"Building your Deep Neural Network: Step by Step\" assignment to this notebook.\n",
    "- np.random.seed(1) is used to keep all the random function calls consistent. It will help us grade your work."
   ]
  },
  {
   "cell_type": "code",
   "execution_count": 1,
   "metadata": {
    "collapsed": true
   },
   "outputs": [],
   "source": [
    "import time\n",
    "import numpy as np\n",
    "import h5py\n",
    "import matplotlib.pyplot as plt\n",
    "import scipy\n",
    "from PIL import Image\n",
    "from scipy import ndimage\n",
    "from dnn_app_utils_v2 import *\n",
    "\n",
    "%matplotlib inline\n",
    "plt.rcParams['figure.figsize'] = (5.0, 4.0) # set default size of plots\n",
    "plt.rcParams['image.interpolation'] = 'nearest'\n",
    "plt.rcParams['image.cmap'] = 'gray'\n",
    "\n",
    "%load_ext autoreload\n",
    "%autoreload 2\n",
    "\n",
    "np.random.seed(1)"
   ]
  },
  {
   "cell_type": "markdown",
   "metadata": {},
   "source": [
    "## 2 - Dataset\n",
    "\n",
    "You will use the same \"Cat vs non-Cat\" dataset as in \"Logistic Regression as a Neural Network\" (Assignment 2). The model you had built had 70% test accuracy on classifying cats vs non-cats images. Hopefully, your new model will perform a better!\n",
    "\n",
    "**Problem Statement**: You are given a dataset (\"data.h5\") containing:\n",
    "    - a training set of m_train images labelled as cat (1) or non-cat (0)\n",
    "    - a test set of m_test images labelled as cat and non-cat\n",
    "    - each image is of shape (num_px, num_px, 3) where 3 is for the 3 channels (RGB).\n",
    "\n",
    "Let's get more familiar with the dataset. Load the data by running the cell below."
   ]
  },
  {
   "cell_type": "code",
   "execution_count": 2,
   "metadata": {
    "collapsed": true
   },
   "outputs": [],
   "source": [
    "train_x_orig, train_y, test_x_orig, test_y, classes = load_data()"
   ]
  },
  {
   "cell_type": "markdown",
   "metadata": {},
   "source": [
    "The following code will show you an image in the dataset. Feel free to change the index and re-run the cell multiple times to see other images. "
   ]
  },
  {
   "cell_type": "code",
   "execution_count": 3,
   "metadata": {},
   "outputs": [
    {
     "name": "stdout",
     "output_type": "stream",
     "text": [
      "y = 0. It's a non-cat picture.\n"
     ]
    },
    {
     "data": {
      "image/png": "[encoded data removed]",
      "text/plain": [
       "<matplotlib.figure.Figure at 0x7feb40fbe208>"
      ]
     },
     "metadata": {},
     "output_type": "display_data"
    }
   ],
   "source": [
    "# Example of a picture\n",
    "index = 10\n",
    "plt.imshow(train_x_orig[index])\n",
    "print (\"y = \" + str(train_y[0,index]) + \". It's a \" + classes[train_y[0,index]].decode(\"utf-8\") +  \" picture.\")"
   ]
  },
  {
   "cell_type": "code",
   "execution_count": 4,
   "metadata": {},
   "outputs": [
    {
     "name": "stdout",
     "output_type": "stream",
     "text": [
      "Number of training examples: 209\n",
      "Number of testing examples: 50\n",
      "Each image is of size: (64, 64, 3)\n",
      "train_x_orig shape: (209, 64, 64, 3)\n",
      "train_y shape: (1, 209)\n",
      "test_x_orig shape: (50, 64, 64, 3)\n",
      "test_y shape: (1, 50)\n"
     ]
    }
   ],
   "source": [
    "# Explore your dataset \n",
    "m_train = train_x_orig.shape[0]\n",
    "num_px = train_x_orig.shape[1]\n",
    "m_test = test_x_orig.shape[0]\n",
    "\n",
    "print (\"Number of training examples: \" + str(m_train))\n",
    "print (\"Number of testing examples: \" + str(m_test))\n",
    "print (\"Each image is of size: (\" + str(num_px) + \", \" + str(num_px) + \", 3)\")\n",
    "print (\"train_x_orig shape: \" + str(train_x_orig.shape))\n",
    "print (\"train_y shape: \" + str(train_y.shape))\n",
    "print (\"test_x_orig shape: \" + str(test_x_orig.shape))\n",
    "print (\"test_y shape: \" + str(test_y.shape))"
   ]
  },
  {
   "cell_type": "markdown",
   "metadata": {},
   "source": [
    "As usual, you reshape and standardize the images before feeding them to the network. The code is given in the cell below.\n",
    "\n",
    "<img src=\"images/imvectorkiank.png\" style=\"width:450px;height:300px;\">\n",
    "\n",
    "<caption><center> <u>Figure 1</u>: Image to vector conversion. <br> </center></caption>"
   ]
  },
  {
   "cell_type": "code",
   "execution_count": 5,
   "metadata": {},
   "outputs": [
    {
     "name": "stdout",
     "output_type": "stream",
     "text": [
      "train_x's shape: (12288, 209)\n",
      "test_x's shape: (12288, 50)\n"
     ]
    }
   ],
   "source": [
    "# Reshape the training and test examples \n",
    "train_x_flatten = train_x_orig.reshape(train_x_orig.shape[0], -1).T   # The \"-1\" makes reshape flatten the remaining dimensions\n",
    "test_x_flatten = test_x_orig.reshape(test_x_orig.shape[0], -1).T\n",
    "\n",
    "# Standardize data to have feature values between 0 and 1.\n",
    "train_x = train_x_flatten/255.\n",
    "test_x = test_x_flatten/255.\n",
    "\n",
    "print (\"train_x's shape: \" + str(train_x.shape))\n",
    "print (\"test_x's shape: \" + str(test_x.shape))\n"
   ]
  },
  {
   "cell_type": "markdown",
   "metadata": {},
   "source": [
    "$12,288$ equals $64 \\times 64 \\times 3$ which is the size of one reshaped image vector."
   ]
  },
  {
   "cell_type": "markdown",
   "metadata": {},
   "source": [
    "## 3 - Architecture of your model"
   ]
  },
  {
   "cell_type": "markdown",
   "metadata": {},
   "source": [
    "Now that you are familiar with the dataset, it is time to build a deep neural network to distinguish cat images from non-cat images.\n",
    "\n",
    "You will build two different models:\n",
    "- A 2-layer neural network\n",
    "- An L-layer deep neural network\n",
    "\n",
    "You will then compare the performance of these models, and also try out different values for $L$. \n",
    "\n",
    "Let's look at the two architectures.\n",
    "\n",
    "### 3.1 - 2-layer neural network\n",
    "\n",
    "<img src=\"images/2layerNN_kiank.png\" style=\"width:650px;height:400px;\">\n",
    "<caption><center> <u>Figure 2</u>: 2-layer neural network. <br> The model can be summarized as: ***INPUT -> LINEAR -> RELU -> LINEAR -> SIGMOID -> OUTPUT***. </center></caption>\n",
    "\n",
    "<u>Detailed Architecture of figure 2</u>:\n",
    "- The input is a (64,64,3) image which is flattened to a vector of size $(12288,1)$. \n",
    "- The corresponding vector: $[x_0,x_1,...,x_{12287}]^T$ is then multiplied by the weight matrix $W^{[1]}$ of size $(n^{[1]}, 12288)$.\n",
    "- You then add a bias term and take its relu to get the following vector: $[a_0^{[1]}, a_1^{[1]},..., a_{n^{[1]}-1}^{[1]}]^T$.\n",
    "- You then repeat the same process.\n",
    "- You multiply the resulting vector by $W^{[2]}$ and add your intercept (bias). \n",
    "- Finally, you take the sigmoid of the result. If it is greater than 0.5, you classify it to be a cat."
   ]
  },
  {
   "cell_type": "markdown",
   "metadata": {},
   "source": [
    "### 3.2 - L-layer deep neural network\n",
    "\n",
    "It is hard to represent an L-layer deep neural network with the above representation. However, here is a simplified network representation:\n",
    "\n",
    "<img src=\"images/LlayerNN_kiank.png\" style=\"width:650px;height:400px;\">\n",
    "<caption><center> <u>Figure 3</u>: L-layer neural network. <br> The model can be summarized as: ***[LINEAR -> RELU] $\\times$ (L-1) -> LINEAR -> SIGMOID***</center></caption>\n",
    "\n",
    "<u>Detailed Architecture of figure 3</u>:\n",
    "- The input is a (64,64,3) image which is flattened to a vector of size (12288,1).\n",
    "- The corresponding vector: $[x_0,x_1,...,x_{12287}]^T$ is then multiplied by the weight matrix $W^{[1]}$ and then you add the intercept $b^{[1]}$. The result is called the linear unit.\n",
    "- Next, you take the relu of the linear unit. This process could be repeated several times for each $(W^{[l]}, b^{[l]})$ depending on the model architecture.\n",
    "- Finally, you take the sigmoid of the final linear unit. If it is greater than 0.5, you classify it to be a cat."
   ]
  },
  {
   "cell_type": "markdown",
   "metadata": {},
   "source": [
    "### 3.3 - General methodology\n",
    "\n",
    "As usual you will follow the Deep Learning methodology to build the model:\n",
    "    1. Initialize parameters / Define hyperparameters\n",
    "    2. Loop for num_iterations:\n",
    "        a. Forward propagation\n",
    "        b. Compute cost function\n",
    "        c. Backward propagation\n",
    "        d. Update parameters (using parameters, and grads from backprop) \n",
    "    4. Use trained parameters to predict labels\n",
    "\n",
    "Let's now implement those two models!"
   ]
  },
  {
   "cell_type": "markdown",
   "metadata": {},
   "source": [
    "## 4 - Two-layer neural network\n",
    "\n",
    "**Question**:  Use the helper functions you have implemented in the previous assignment to build a 2-layer neural network with the following structure: *LINEAR -> RELU -> LINEAR -> SIGMOID*. The functions you may need and their inputs are:\n",
    "```python\n",
    "def initialize_parameters(n_x, n_h, n_y):\n",
    "    ...\n",
    "    return parameters \n",
    "def linear_activation_forward(A_prev, W, b, activation):\n",
    "    ...\n",
    "    return A, cache\n",
    "def compute_cost(AL, Y):\n",
    "    ...\n",
    "    return cost\n",
    "def linear_activation_backward(dA, cache, activation):\n",
    "    ...\n",
    "    return dA_prev, dW, db\n",
    "def update_parameters(parameters, grads, learning_rate):\n",
    "    ...\n",
    "    return parameters\n",
    "```"
   ]
  },
  {
   "cell_type": "code",
   "execution_count": 6,
   "metadata": {
    "collapsed": true
   },
   "outputs": [],
   "source": [
    "### CONSTANTS DEFINING THE MODEL ####\n",
    "n_x = 12288     # num_px * num_px * 3\n",
    "n_h = 7\n",
    "n_y = 1\n",
    "layers_dims = (n_x, n_h, n_y)"
   ]
  },
  {
   "cell_type": "code",
   "execution_count": 7,
   "metadata": {
    "collapsed": true
   },
   "outputs": [],
   "source": [
    "# GRADED FUNCTION: two_layer_model\n",
    "\n",
    "def two_layer_model(X, Y, layers_dims, learning_rate = 0.0075, num_iterations = 3000, print_cost=False):\n",
    "    \"\"\"\n",
    "    Implements a two-layer neural network: LINEAR->RELU->LINEAR->SIGMOID.\n",
    "    \n",
    "    Arguments:\n",
    "    X -- input data, of shape (n_x, number of examples)\n",
    "    Y -- true \"label\" vector (containing 0 if cat, 1 if non-cat), of shape (1, number of examples)\n",
    "    layers_dims -- dimensions of the layers (n_x, n_h, n_y)\n",
    "    num_iterations -- number of iterations of the optimization loop\n",
    "    learning_rate -- learning rate of the gradient descent update rule\n",
    "    print_cost -- If set to True, this will print the cost every 100 iterations \n",
    "    \n",
    "    Returns:\n",
    "    parameters -- a dictionary containing W1, W2, b1, and b2\n",
    "    \"\"\"\n",
    "    \n",
    "    np.random.seed(1)\n",
    "    grads = {}\n",
    "    costs = []                              # to keep track of the cost\n",
    "    m = X.shape[1]                           # number of examples\n",
    "    (n_x, n_h, n_y) = layers_dims\n",
    "    \n",
    "    # Initialize parameters dictionary, by calling one of the functions you'd previously implemented\n",
    "    ### START CODE HERE ### (≈ 1 line of code)\n",
    "    parameters = initialize_parameters(n_x, n_h, n_y)\n",
    "    ### END CODE HERE ###\n",
    "    \n",
    "    # Get W1, b1, W2 and b2 from the dictionary parameters.\n",
    "    W1 = parameters[\"W1\"]\n",
    "    b1 = parameters[\"b1\"]\n",
    "    W2 = parameters[\"W2\"]\n",
    "    b2 = parameters[\"b2\"]\n",
    "    \n",
    "    # Loop (gradient descent)\n",
    "\n",
    "    for i in range(0, num_iterations):\n",
    "\n",
    "        # Forward propagation: LINEAR -> RELU -> LINEAR -> SIGMOID. Inputs: \"X, W1, b1\". Output: \"A1, cache1, A2, cache2\".\n",
    "        ### START CODE HERE ### (≈ 2 lines of code)\n",
    "        A1, cache1 = linear_activation_forward(X, W1, b1, \"relu\")\n",
    "        A2, cache2 = linear_activation_forward(A1, W2, b2, \"sigmoid\")\n",
    "        ### END CODE HERE ###\n",
    "        \n",
    "        # Compute cost\n",
    "        ### START CODE HERE ### (≈ 1 line of code)\n",
    "        cost = compute_cost(A2, Y)\n",
    "        ### END CODE HERE ###\n",
    "        \n",
    "        # Initializing backward propagation\n",
    "        dA2 = - (np.divide(Y, A2) - np.divide(1 - Y, 1 - A2))\n",
    "        \n",
    "        # Backward propagation. Inputs: \"dA2, cache2, cache1\". Outputs: \"dA1, dW2, db2; also dA0 (not used), dW1, db1\".\n",
    "        ### START CODE HERE ### (≈ 2 lines of code)\n",
    "        dA1, dW2, db2 = linear_activation_backward(dA2, cache2, \"sigmoid\")\n",
    "        dA0, dW1, db1 = linear_activation_backward(dA1, cache1, \"relu\")\n",
    "        ### END CODE HERE ###\n",
    "        \n",
    "        # Set grads['dWl'] to dW1, grads['db1'] to db1, grads['dW2'] to dW2, grads['db2'] to db2\n",
    "        grads['dW1'] = dW1\n",
    "        grads['db1'] = db1\n",
    "        grads['dW2'] = dW2\n",
    "        grads['db2'] = db2\n",
    "        \n",
    "        # Update parameters.\n",
    "        ### START CODE HERE ### (approx. 1 line of code)\n",
    "        parameters = update_parameters(parameters, grads, learning_rate)\n",
    "        ### END CODE HERE ###\n",
    "\n",
    "        # Retrieve W1, b1, W2, b2 from parameters\n",
    "        W1 = parameters[\"W1\"]\n",
    "        b1 = parameters[\"b1\"]\n",
    "        W2 = parameters[\"W2\"]\n",
    "        b2 = parameters[\"b2\"]\n",
    "        \n",
    "        # Print the cost every 100 training example\n",
    "        if print_cost and i % 100 == 0:\n",
    "            print(\"Cost after iteration {}: {}\".format(i, np.squeeze(cost)))\n",
    "        if print_cost and i % 100 == 0:\n",
    "            costs.append(cost)\n",
    "       \n",
    "    # plot the cost\n",
    "\n",
    "    plt.plot(np.squeeze(costs))\n",
    "    plt.ylabel('cost')\n",
    "    plt.xlabel('iterations (per tens)')\n",
    "    plt.title(\"Learning rate =\" + str(learning_rate))\n",
    "    plt.show()\n",
    "    \n",
    "    return parameters"
   ]
  },
  {
   "cell_type": "markdown",
   "metadata": {},
   "source": [
    "---\n",
    "**Intuition: Single epoch Forward**"
   ]
  },
  {
   "cell_type": "code",
   "execution_count": 8,
   "metadata": {},
   "outputs": [
    {
     "data": {
      "text/plain": [
       "{'W1': array([[ 0.01624345, -0.00611756, -0.00528172, ..., -0.00527214,\n",
       "         -0.0038034 ,  0.00949412],\n",
       "        [ 0.01009231,  0.00229889, -0.00664099, ...,  0.00689859,\n",
       "         -0.00488322,  0.0020761 ],\n",
       "        [-0.0035634 , -0.00195481,  0.00636803, ...,  0.00822751,\n",
       "         -0.00104425, -0.00657957]]),\n",
       " 'W2': array([[ 0.00630753,  0.00097317,  0.00031986]]),\n",
       " 'b1': array([[ 0.],\n",
       "        [ 0.],\n",
       "        [ 0.]]),\n",
       " 'b2': array([[ 0.]])}"
      ]
     },
     "execution_count": 8,
     "metadata": {},
     "output_type": "execute_result"
    }
   ],
   "source": [
    "# Build Parameters\n",
    "X = train_x\n",
    "Y = train_y\n",
    "n_x = 12288     # num_px * num_px * 3\n",
    "n_h = 3\n",
    "n_y = 1\n",
    "layers_dims = (n_x, n_h, n_y)\n",
    "np.random.seed(1)\n",
    "grads = {}\n",
    "costs = []                              # to keep track of the cost\n",
    "m = X.shape[1]                           # number of examples\n",
    "(n_x, n_h, n_y) = layers_dims\n",
    "parameters = initialize_parameters(n_x, n_h, n_y)\n",
    "parameters"
   ]
  },
  {
   "cell_type": "code",
   "execution_count": 9,
   "metadata": {
    "collapsed": true
   },
   "outputs": [],
   "source": [
    "# Get W1, b1, W2 and b2 from the dictionary parameters.\n",
    "W1 = parameters[\"W1\"]\n",
    "b1 = parameters[\"b1\"]\n",
    "W2 = parameters[\"W2\"]\n",
    "b2 = parameters[\"b2\"]"
   ]
  },
  {
   "cell_type": "code",
   "execution_count": 10,
   "metadata": {},
   "outputs": [
    {
     "name": "stdout",
     "output_type": "stream",
     "text": [
      "Z Shape: (3, 209)\n"
     ]
    },
    {
     "data": {
      "text/plain": [
       "(array([[ 0.06666667,  0.76862745,  0.32156863, ...,  0.56078431,\n",
       "          0.08627451,  0.03137255],\n",
       "        [ 0.12156863,  0.75294118,  0.27843137, ...,  0.60784314,\n",
       "          0.09411765,  0.10980392],\n",
       "        [ 0.21960784,  0.74509804,  0.26666667, ...,  0.64705882,\n",
       "          0.09019608,  0.20784314],\n",
       "        ..., \n",
       "        [ 0.        ,  0.32156863,  0.54117647, ...,  0.33333333,\n",
       "          0.01568627,  0.        ],\n",
       "        [ 0.        ,  0.31372549,  0.55294118, ...,  0.41960784,\n",
       "          0.01960784,  0.        ],\n",
       "        [ 0.        ,  0.31764706,  0.55686275, ...,  0.58431373,\n",
       "          0.        ,  0.        ]]),\n",
       " array([[ 0.01624345, -0.00611756, -0.00528172, ..., -0.00527214,\n",
       "         -0.0038034 ,  0.00949412],\n",
       "        [ 0.01009231,  0.00229889, -0.00664099, ...,  0.00689859,\n",
       "         -0.00488322,  0.0020761 ],\n",
       "        [-0.0035634 , -0.00195481,  0.00636803, ...,  0.00822751,\n",
       "         -0.00104425, -0.00657957]]),\n",
       " array([[ 0.],\n",
       "        [ 0.],\n",
       "        [ 0.]]))"
      ]
     },
     "execution_count": 10,
     "metadata": {},
     "output_type": "execute_result"
    }
   ],
   "source": [
    "# Forward propagation: LINEAR -> RELU -> LINEAR -> SIGMOID. Inputs: \"X, W1, b1\". Output: \"A1, cache1, A2, cache2\".\n",
    "### START CODE HERE ### (≈ 2 lines of code)\n",
    "# Run Forward for Layer 1\n",
    "Z, linear_cache = linear_forward(X, W1, b1)\n",
    "print(\"Z Shape: \" + str(Z.shape))\n",
    "linear_cache #(A, W, b)"
   ]
  },
  {
   "cell_type": "code",
   "execution_count": 11,
   "metadata": {},
   "outputs": [
    {
     "name": "stdout",
     "output_type": "stream",
     "text": [
      "A Shape: (3, 209)\n"
     ]
    },
    {
     "data": {
      "text/plain": [
       "(3, 209)"
      ]
     },
     "execution_count": 11,
     "metadata": {},
     "output_type": "execute_result"
    }
   ],
   "source": [
    "# Run activation for layer 1\n",
    "A, activation_cache = relu(Z)\n",
    "print(\"A Shape: \" + str(A.shape))\n",
    "activation_cache.shape # (Z)"
   ]
  },
  {
   "cell_type": "code",
   "execution_count": 12,
   "metadata": {},
   "outputs": [
    {
     "name": "stdout",
     "output_type": "stream",
     "text": [
      "A2 Shape: (1, 209)\n"
     ]
    }
   ],
   "source": [
    "# repeat the steps for LAyer 2\n",
    "A1 = A\n",
    "A2, cache2 = linear_activation_forward(A1, W2, b2, \"sigmoid\")\n",
    "print(\"A2 Shape: \" + str(A2.shape))"
   ]
  },
  {
   "cell_type": "code",
   "execution_count": 13,
   "metadata": {},
   "outputs": [
    {
     "data": {
      "text/plain": [
       "(2, 2)"
      ]
     },
     "execution_count": 13,
     "metadata": {},
     "output_type": "execute_result"
    }
   ],
   "source": [
    "# Try the wrapper funciton\n",
    "AL, caches = L_model_forward(X, parameters)\n",
    "tmp_caches = np.array(caches)\n",
    "tmp_caches.shape #(layer X, (Z, A))"
   ]
  },
  {
   "cell_type": "code",
   "execution_count": 14,
   "metadata": {},
   "outputs": [
    {
     "data": {
      "text/plain": [
       "array(0.6937816092192918)"
      ]
     },
     "execution_count": 14,
     "metadata": {},
     "output_type": "execute_result"
    }
   ],
   "source": [
    "# Compute Cost\n",
    "cost = compute_cost(AL, Y)\n",
    "cost"
   ]
  },
  {
   "cell_type": "markdown",
   "metadata": {},
   "source": [
    "**Intuition: Single epoc backward**"
   ]
  },
  {
   "cell_type": "code",
   "execution_count": 15,
   "metadata": {},
   "outputs": [
    {
     "data": {
      "text/plain": [
       "(1, 209)"
      ]
     },
     "execution_count": 15,
     "metadata": {},
     "output_type": "execute_result"
    }
   ],
   "source": [
    "# Initializing backward propagation\n",
    "grads = {}\n",
    "L = len(caches) # the number of layers\n",
    "m = AL.shape[1]\n",
    "Y = Y.reshape(AL.shape) # after this line, Y is the same shape as AL\n",
    "    \n",
    "# Initializing the backpropagation\n",
    "dAL = - (np.divide(Y, AL) - np.divide(1 - Y, 1 - AL))\n",
    "dAL.shape"
   ]
  },
  {
   "cell_type": "code",
   "execution_count": 16,
   "metadata": {},
   "outputs": [
    {
     "data": {
      "text/plain": [
       "array([[ 2.00061631,  2.00209923, -1.99623939,  2.00093492,  2.00115313,\n",
       "         2.00274826,  2.00149894, -1.99671432,  2.00557544,  2.00289027,\n",
       "         2.00602656, -1.99326771,  2.00458696, -1.99645194, -1.99713501,\n",
       "         2.01087721,  2.00729587,  2.00570292,  2.00317388, -1.99860213,\n",
       "         2.00327049,  2.0012782 ,  2.00602948,  2.00769341, -1.9928202 ,\n",
       "        -1.9995792 ,  2.00365067, -1.99798537,  2.0024144 , -1.99833133,\n",
       "         2.00428401,  2.00533305,  2.00589062,  2.0061319 ,  2.0033714 ,\n",
       "         2.00250435,  2.00298034,  2.00433932, -1.99789622,  2.00528615,\n",
       "         2.00178513, -1.99892172, -1.99231674,  2.00371209,  2.00891821,\n",
       "         2.00377644,  2.00453728, -1.99577304,  2.00338649,  2.00386343,\n",
       "        -1.99288355,  2.00589308,  2.00373852,  2.00635268, -1.99555444,\n",
       "         2.00664261, -1.99525978, -1.9913256 ,  2.00037508, -1.99699742,\n",
       "        -1.99882491, -1.99623144,  2.00540915,  2.00398459,  2.00604101,\n",
       "         2.00354995,  2.00336791,  2.00313576, -1.99370166,  2.00481252,\n",
       "         2.00502207, -1.99703305,  2.00312631,  2.00359118,  2.00246129,\n",
       "         2.00519022,  2.00255639,  2.00618979,  2.00239955,  2.00106468,\n",
       "         2.00471374,  2.00433457,  2.00459518, -1.99796748, -1.99402968,\n",
       "         2.00286529,  2.00290562,  2.00264709, -1.99471254,  2.00248099,\n",
       "         2.00733615,  2.00455868, -1.99700075, -1.9950978 , -1.99338086,\n",
       "         2.00593567,  2.00612464, -1.99620564,  2.00809298,  2.00416652,\n",
       "         2.00468695,  2.00459913, -1.9931662 ,  2.00356335, -1.99605543,\n",
       "         2.00334443, -1.99841656, -1.99512566, -1.99461763, -1.9962173 ,\n",
       "        -2.        , -1.99894018,  2.00531592,  2.00431816,  2.00526159,\n",
       "         2.00383356,  2.        , -1.99748824,  2.0022612 ,  2.00602443,\n",
       "         2.00334974, -1.99232044,  2.00363178,  2.00480181, -1.99645184,\n",
       "         2.003039  , -1.99715104,  2.00301956, -1.99448846, -1.99643813,\n",
       "         2.00446792,  2.00328514,  2.00523947, -2.        , -1.9977162 ,\n",
       "        -1.99486173, -1.99150852, -1.99713181,  2.00532333,  2.00304423,\n",
       "         2.00371265,  2.00693268, -1.99628849,  2.00122792, -1.99573243,\n",
       "        -1.99510866, -1.99297836,  2.00709169, -1.99907035, -1.99414676,\n",
       "         2.00771796,  2.00089984,  2.0043088 , -1.9957752 ,  2.00118666,\n",
       "         2.00507544, -1.99548946,  2.00315117,  2.00404141,  2.00413437,\n",
       "         2.00373018,  2.00540166, -1.99431478,  2.00321325, -1.99615627,\n",
       "         2.00208882, -1.99776268,  2.0047849 ,  2.0048394 , -1.99296967,\n",
       "        -1.99557165, -1.99317711,  2.00529267,  2.0063586 , -1.99301521,\n",
       "        -1.99422741,  2.00414287, -1.99569357,  2.00384622, -1.99697438,\n",
       "         2.00498785,  2.00424267,  2.00457569,  2.00453987,  2.00651431,\n",
       "        -1.99492555,  2.00444445,  2.00898181, -1.9944406 ,  2.0047084 ,\n",
       "         2.00573974,  2.00621361, -1.99222271,  2.0058721 ,  2.00403383,\n",
       "         2.00044763,  2.0045192 , -1.99500303,  2.00141029,  2.00467809,\n",
       "        -1.99478677,  2.00964966,  2.00314588,  2.00108765,  2.00798883,\n",
       "         2.00008945,  2.00269015,  2.00160375,  2.00113702]])"
      ]
     },
     "execution_count": 16,
     "metadata": {},
     "output_type": "execute_result"
    }
   ],
   "source": [
    "dAL"
   ]
  },
  {
   "cell_type": "code",
   "execution_count": 17,
   "metadata": {},
   "outputs": [
    {
     "name": "stdout",
     "output_type": "stream",
     "text": [
      "Layers: 2\n",
      "Layer: 1\n"
     ]
    },
    {
     "data": {
      "text/plain": [
       "(1, 209)"
      ]
     },
     "execution_count": 17,
     "metadata": {},
     "output_type": "execute_result"
    }
   ],
   "source": [
    "# Implement the backward propagation for the LINEAR->ACTIVATION layer.\n",
    "current_cache = caches[L-1] # shape as array = (2, 1)\n",
    "print(\"Layers: \"+ str(L))\n",
    "print(\"Layer: \" + str(L-1))\n",
    "linear_cache, activation_cache = current_cache\n",
    "activation_cache.shape"
   ]
  },
  {
   "cell_type": "code",
   "execution_count": 18,
   "metadata": {},
   "outputs": [
    {
     "data": {
      "text/plain": [
       "(1, 209)"
      ]
     },
     "execution_count": 18,
     "metadata": {},
     "output_type": "execute_result"
    }
   ],
   "source": [
    "# Backward prop of the activation layer (Sigmoid)\n",
    "dA = dAL\n",
    "dZ = sigmoid_backward(dA, activation_cache)\n",
    "dZ.shape"
   ]
  },
  {
   "cell_type": "code",
   "execution_count": 19,
   "metadata": {},
   "outputs": [
    {
     "data": {
      "text/plain": [
       "array([[ 0.50015403,  0.50052426, -0.49905808,  0.50023362,  0.50028812,\n",
       "         0.50068612,  0.50037445, -0.49917723,  0.50138999,  0.50072152,\n",
       "         0.50150211, -0.49831124,  0.50114412, -0.49911141, -0.49928273,\n",
       "         0.50270459,  0.50181734,  0.50142168,  0.50079221, -0.49965029,\n",
       "         0.50081629,  0.50031935,  0.50150284,  0.50191598, -0.49819858,\n",
       "        -0.49989478,  0.500911  , -0.49949583,  0.50060287, -0.49958248,\n",
       "         0.50106871,  0.50132972,  0.50146833,  0.50152829,  0.50084143,\n",
       "         0.5006253 ,  0.50074398,  0.50108248, -0.4994735 ,  0.50131805,\n",
       "         0.50044588, -0.49973028, -0.49807178,  0.5009263 ,  0.50221965,\n",
       "         0.50094233,  0.50113175, -0.49894102,  0.50084519,  0.500964  ,\n",
       "        -0.49821453,  0.50146894,  0.50093289,  0.50158314, -0.49888614,\n",
       "         0.50165516, -0.49881213, -0.49782195,  0.50009375, -0.49924823,\n",
       "        -0.49970605, -0.49905608,  0.50134864,  0.50099417,  0.5015057 ,\n",
       "         0.50088591,  0.50084056,  0.50078271, -0.49842044,  0.50120024,\n",
       "         0.50125237, -0.49925716,  0.50078036,  0.50089619,  0.50061457,\n",
       "         0.5012942 ,  0.50063828,  0.50154267,  0.50059917,  0.50026603,\n",
       "         0.50117567,  0.5010813 ,  0.50114616, -0.49949135, -0.49850295,\n",
       "         0.5007153 ,  0.50072535,  0.5006609 , -0.49867463,  0.50061948,\n",
       "         0.50182733,  0.50113708, -0.49924906, -0.49877144, -0.49833972,\n",
       "         0.50147953,  0.50152649, -0.49904961,  0.50201509,  0.50103946,\n",
       "         0.501169  ,  0.50114714, -0.49828569,  0.50088925, -0.49901191,\n",
       "         0.50083471, -0.49960383, -0.49877844, -0.49865078, -0.49905253,\n",
       "        -0.5       , -0.4997349 ,  0.50132546,  0.50107721,  0.50131195,\n",
       "         0.50095656,  0.5       , -0.49937127,  0.50056466,  0.50150158,\n",
       "         0.50083604, -0.49807271,  0.5009063 ,  0.50119758, -0.49911138,\n",
       "         0.5007586 , -0.49928674,  0.50075375, -0.49861831, -0.49910794,\n",
       "         0.50111449,  0.50081994,  0.50130645, -0.5       , -0.4994284 ,\n",
       "        -0.49871212, -0.49786808, -0.49928192,  0.5013273 ,  0.5007599 ,\n",
       "         0.50092644,  0.50172718, -0.4990704 ,  0.50030679, -0.49893083,\n",
       "        -0.49877417, -0.49823841,  0.50176666, -0.49976748, -0.49853239,\n",
       "         0.50192207,  0.50022486,  0.50107488, -0.49894156,  0.50029649,\n",
       "         0.50126565, -0.49886982,  0.50078655,  0.50100831,  0.50103146,\n",
       "         0.50093081,  0.50134678, -0.49857464,  0.50080202, -0.49903722,\n",
       "         0.50052166, -0.49944004,  0.50119337,  0.50120693, -0.49823622,\n",
       "        -0.49889045, -0.49828844,  0.50131968,  0.50158461, -0.49824768,\n",
       "        -0.49855267,  0.50103358, -0.49892107,  0.50095971, -0.49924245,\n",
       "         0.50124386,  0.50105842,  0.50114131,  0.5011324 ,  0.50162329,\n",
       "        -0.49872816,  0.50110865,  0.50223541, -0.49860628,  0.50117434,\n",
       "         0.50143083,  0.50154859, -0.49804809,  0.50146373,  0.50100643,\n",
       "         0.50011188,  0.50112725, -0.49874763,  0.50035232,  0.50116679,\n",
       "        -0.49869329,  0.50240083,  0.50078524,  0.50027176,  0.50198926,\n",
       "         0.50002236,  0.50067163,  0.50040062,  0.50028409]])"
      ]
     },
     "execution_count": 19,
     "metadata": {},
     "output_type": "execute_result"
    }
   ],
   "source": [
    "dZ"
   ]
  },
  {
   "cell_type": "code",
   "execution_count": 20,
   "metadata": {},
   "outputs": [
    {
     "name": "stdout",
     "output_type": "stream",
     "text": [
      "A_prev shape: (3, 209)\n",
      "W shape: (1, 3)\n",
      "b shape: (1, 1)\n"
     ]
    }
   ],
   "source": [
    "# Linear portion of backprop\n",
    "cache = linear_cache\n",
    "A_prev, W, b = cache\n",
    "# Cache of the forward propogation in the current layer\n",
    "print(\"A_prev shape: \" + str(A_prev.shape))\n",
    "print(\"W shape: \" + str(W.shape))\n",
    "print(\"b shape: \" + str(b.shape))"
   ]
  },
  {
   "cell_type": "code",
   "execution_count": 21,
   "metadata": {},
   "outputs": [
    {
     "data": {
      "text/plain": [
       "(209, 3)"
      ]
     },
     "execution_count": 21,
     "metadata": {},
     "output_type": "execute_result"
    }
   ],
   "source": [
    "A_prev.T.shape"
   ]
  },
  {
   "cell_type": "code",
   "execution_count": 22,
   "metadata": {},
   "outputs": [
    {
     "name": "stdout",
     "output_type": "stream",
     "text": [
      "dW Shape: (1, 3)\n",
      "db Shape: (1, 1)\n",
      "dA_prev Shape:(3, 209)\n"
     ]
    }
   ],
   "source": [
    "# caclculate gradients\n",
    "dW = 1./m * np.dot(dZ, A_prev.T)\n",
    "print(\"dW Shape: \" + str(dW.shape))\n",
    "db = 1./m * np.sum(dZ, axis=1, keepdims=True)\n",
    "print(\"db Shape: \" + str(db.shape))\n",
    "dA_prev = np.dot(W.T, dZ)\n",
    "print(\"dA_prev Shape:\" + str(dA_prev.shape))"
   ]
  },
  {
   "cell_type": "code",
   "execution_count": 23,
   "metadata": {},
   "outputs": [
    {
     "data": {
      "text/plain": [
       "{'dA2': array([[ 0.00315474,  0.00315707, -0.00314782,  0.00315524,  0.00315558,\n",
       "          0.00315809,  0.00315613, -0.00314857,  0.00316253,  0.00315831,\n",
       "          0.00316324, -0.00314311,  0.00316098, -0.00314816, -0.00314924,\n",
       "          0.00317082,  0.00316523,  0.00316273,  0.00315876, -0.00315156,\n",
       "          0.00315891,  0.00315578,  0.00316324,  0.00316585, -0.0031424 ,\n",
       "         -0.0031531 ,  0.00315951, -0.00315058,  0.00315757, -0.00315113,\n",
       "          0.0031605 ,  0.00316215,  0.00316303,  0.0031634 ,  0.00315907,\n",
       "          0.00315771,  0.00315846,  0.00316059, -0.00315044,  0.00316208,\n",
       "          0.00315658, -0.00315206, -0.0031416 ,  0.00315961,  0.00316776,\n",
       "          0.00315971,  0.0031609 , -0.00314708,  0.0031591 ,  0.00315984,\n",
       "         -0.0031425 ,  0.00316303,  0.00315965,  0.00316375, -0.00314674,\n",
       "          0.0031642 , -0.00314627, -0.00314003,  0.00315436, -0.00314902,\n",
       "         -0.00315191, -0.00314781,  0.00316227,  0.00316003,  0.00316326,\n",
       "          0.00315935,  0.00315907,  0.0031587 , -0.0031438 ,  0.00316133,\n",
       "          0.00316166, -0.00314908,  0.00315869,  0.00315942,  0.00315764,\n",
       "          0.00316193,  0.00315779,  0.00316349,  0.00315754,  0.00315544,\n",
       "          0.00316118,  0.00316058,  0.00316099, -0.00315056, -0.00314432,\n",
       "          0.00315828,  0.00315834,  0.00315793, -0.0031454 ,  0.00315767,\n",
       "          0.00316529,  0.00316094, -0.00314903, -0.00314601, -0.00314329,\n",
       "          0.0031631 ,  0.00316339, -0.00314777,  0.00316647,  0.00316032,\n",
       "          0.00316114,  0.003161  , -0.00314295,  0.00315937, -0.00314753,\n",
       "          0.00315903, -0.00315127, -0.00314606, -0.00314525, -0.00314779,\n",
       "         -0.00315376, -0.00315209,  0.00316212,  0.00316056,  0.00316204,\n",
       "          0.0031598 ,  0.00315376, -0.0031498 ,  0.00315733,  0.00316324,\n",
       "          0.00315904, -0.00314161,  0.00315948,  0.00316132, -0.00314816,\n",
       "          0.00315855, -0.00314927,  0.00315852, -0.00314505, -0.00314814,\n",
       "          0.00316079,  0.00315894,  0.003162  , -0.00315376, -0.00315016,\n",
       "         -0.00314564, -0.00314032, -0.00314923,  0.00316214,  0.00315856,\n",
       "          0.00315961,  0.00316466, -0.0031479 ,  0.0031557 , -0.00314702,\n",
       "         -0.00314603, -0.00314265,  0.00316491, -0.0031523 , -0.00314451,\n",
       "          0.00316589,  0.00315518,  0.00316054, -0.00314709,  0.00315563,\n",
       "          0.00316175, -0.00314664,  0.00315873,  0.00316012,  0.00316027,\n",
       "          0.00315964,  0.00316226, -0.00314477,  0.00315882, -0.00314769,\n",
       "          0.00315705, -0.00315023,  0.00316129,  0.00316138, -0.00314264,\n",
       "         -0.00314677, -0.00314297,  0.00316209,  0.00316376, -0.00314271,\n",
       "         -0.00314463,  0.00316028, -0.00314696,  0.00315982, -0.00314899,\n",
       "          0.00316161,  0.00316044,  0.00316096,  0.00316091,  0.003164  ,\n",
       "         -0.00314574,  0.00316076,  0.00316786, -0.00314497,  0.00316117,\n",
       "          0.00316279,  0.00316353, -0.00314145,  0.003163  ,  0.00316011,\n",
       "          0.00315447,  0.00316087, -0.00314586,  0.00315599,  0.00316112,\n",
       "         -0.00314552,  0.00316891,  0.00315872,  0.00315548,  0.00316631,\n",
       "          0.0031539 ,  0.003158  ,  0.00315629,  0.00315556],\n",
       "        [ 0.00048674,  0.0004871 , -0.00048567,  0.00048681,  0.00048687,\n",
       "          0.00048725,  0.00048695, -0.00048578,  0.00048794,  0.00048729,\n",
       "          0.00048805, -0.00048494,  0.0004877 , -0.00048572, -0.00048589,\n",
       "          0.00048922,  0.00048835,  0.00048797,  0.00048736, -0.00048624,\n",
       "          0.00048738,  0.0004869 ,  0.00048805,  0.00048845, -0.00048483,\n",
       "         -0.00048648,  0.00048747, -0.00048609,  0.00048717, -0.00048618,\n",
       "          0.00048763,  0.00048788,  0.00048801,  0.00048807,  0.0004874 ,\n",
       "          0.00048719,  0.00048731,  0.00048764, -0.00048607,  0.00048787,\n",
       "          0.00048702, -0.00048632, -0.00048471,  0.00048749,  0.00048875,\n",
       "          0.0004875 ,  0.00048769, -0.00048555,  0.00048741,  0.00048752,\n",
       "         -0.00048485,  0.00048801,  0.00048749,  0.00048813, -0.0004855 ,\n",
       "          0.0004882 , -0.00048543, -0.00048447,  0.00048668, -0.00048585,\n",
       "         -0.0004863 , -0.00048567,  0.0004879 ,  0.00048755,  0.00048805,\n",
       "          0.00048745,  0.0004874 ,  0.00048735, -0.00048505,  0.00048775,\n",
       "          0.0004878 , -0.00048586,  0.00048734,  0.00048746,  0.00048718,\n",
       "          0.00048784,  0.00048721,  0.00048809,  0.00048717,  0.00048684,\n",
       "          0.00048773,  0.00048764,  0.0004877 , -0.00048609, -0.00048513,\n",
       "          0.00048728,  0.00048729,  0.00048723, -0.0004853 ,  0.00048719,\n",
       "          0.00048836,  0.00048769, -0.00048585, -0.00048539, -0.00048497,\n",
       "          0.00048803,  0.00048807, -0.00048566,  0.00048855,  0.0004876 ,\n",
       "          0.00048772,  0.0004877 , -0.00048492,  0.00048745, -0.00048562,\n",
       "          0.0004874 , -0.0004862 , -0.0004854 , -0.00048527, -0.00048566,\n",
       "         -0.00048659, -0.00048633,  0.00048788,  0.00048763,  0.00048786,\n",
       "          0.00048752,  0.00048659, -0.00048597,  0.00048713,  0.00048805,\n",
       "          0.0004874 , -0.00048471,  0.00048747,  0.00048775, -0.00048572,\n",
       "          0.00048732, -0.00048589,  0.00048732, -0.00048524, -0.00048572,\n",
       "          0.00048767,  0.00048738,  0.00048786, -0.00048659, -0.00048603,\n",
       "         -0.00048533, -0.00048451, -0.00048589,  0.00048788,  0.00048732,\n",
       "          0.00048749,  0.00048827, -0.00048568,  0.00048688, -0.00048554,\n",
       "         -0.00048539, -0.00048487,  0.0004883 , -0.00048636, -0.00048516,\n",
       "          0.00048846,  0.0004868 ,  0.00048763, -0.00048556,  0.00048687,\n",
       "          0.00048782, -0.00048549,  0.00048735,  0.00048757,  0.00048759,\n",
       "          0.00048749,  0.0004879 , -0.0004852 ,  0.00048737, -0.00048565,\n",
       "          0.00048709, -0.00048604,  0.00048775,  0.00048776, -0.00048487,\n",
       "         -0.00048551, -0.00048492,  0.00048787,  0.00048813, -0.00048488,\n",
       "         -0.00048518,  0.00048759, -0.00048554,  0.00048752, -0.00048585,\n",
       "          0.0004878 ,  0.00048762,  0.0004877 ,  0.00048769,  0.00048817,\n",
       "         -0.00048535,  0.00048766,  0.00048876, -0.00048523,  0.00048773,\n",
       "          0.00048798,  0.00048809, -0.00048469,  0.00048801,  0.00048756,\n",
       "          0.00048669,  0.00048768, -0.00048537,  0.00048693,  0.00048772,\n",
       "         -0.00048531,  0.00048892,  0.00048735,  0.00048685,  0.00048852,\n",
       "          0.00048661,  0.00048724,  0.00048698,  0.00048686],\n",
       "        [ 0.00015998,  0.0001601 , -0.00015963,  0.00016001,  0.00016002,\n",
       "          0.00016015,  0.00016005, -0.00015967,  0.00016038,  0.00016016,\n",
       "          0.00016041, -0.00015939,  0.0001603 , -0.00015965, -0.0001597 ,\n",
       "          0.0001608 ,  0.00016051,  0.00016039,  0.00016018, -0.00015982,\n",
       "          0.00016019,  0.00016003,  0.00016041,  0.00016054, -0.00015935,\n",
       "         -0.0001599 ,  0.00016022, -0.00015977,  0.00016012, -0.0001598 ,\n",
       "          0.00016027,  0.00016036,  0.0001604 ,  0.00016042,  0.0001602 ,\n",
       "          0.00016013,  0.00016017,  0.00016028, -0.00015976,  0.00016035,\n",
       "          0.00016007, -0.00015984, -0.00015931,  0.00016023,  0.00016064,\n",
       "          0.00016023,  0.00016029, -0.00015959,  0.0001602 ,  0.00016024,\n",
       "         -0.00015936,  0.0001604 ,  0.00016023,  0.00016044, -0.00015957,\n",
       "          0.00016046, -0.00015955, -0.00015923,  0.00015996, -0.00015969,\n",
       "         -0.00015984, -0.00015963,  0.00016036,  0.00016025,  0.00016041,\n",
       "          0.00016021,  0.0001602 ,  0.00016018, -0.00015943,  0.00016031,\n",
       "          0.00016033, -0.00015969,  0.00016018,  0.00016022,  0.00016013,\n",
       "          0.00016035,  0.00016014,  0.00016042,  0.00016012,  0.00016002,\n",
       "          0.00016031,  0.00016028,  0.0001603 , -0.00015977, -0.00015945,\n",
       "          0.00016016,  0.00016016,  0.00016014, -0.00015951,  0.00016013,\n",
       "          0.00016052,  0.00016029, -0.00015969, -0.00015954, -0.0001594 ,\n",
       "          0.0001604 ,  0.00016042, -0.00015963,  0.00016058,  0.00016026,\n",
       "          0.0001603 ,  0.0001603 , -0.00015938,  0.00016022, -0.00015962,\n",
       "          0.0001602 , -0.0001598 , -0.00015954, -0.0001595 , -0.00015963,\n",
       "         -0.00015993, -0.00015985,  0.00016036,  0.00016028,  0.00016035,\n",
       "          0.00016024,  0.00015993, -0.00015973,  0.00016011,  0.00016041,\n",
       "          0.0001602 , -0.00015931,  0.00016022,  0.00016031, -0.00015965,\n",
       "          0.00016017, -0.0001597 ,  0.00016017, -0.00015949, -0.00015965,\n",
       "          0.00016029,  0.00016019,  0.00016035, -0.00015993, -0.00015975,\n",
       "         -0.00015952, -0.00015925, -0.0001597 ,  0.00016036,  0.00016017,\n",
       "          0.00016023,  0.00016048, -0.00015963,  0.00016003, -0.00015959,\n",
       "         -0.00015954, -0.00015937,  0.0001605 , -0.00015986, -0.00015946,\n",
       "          0.00016055,  0.00016   ,  0.00016027, -0.00015959,  0.00016003,\n",
       "          0.00016034, -0.00015957,  0.00016018,  0.00016025,  0.00016026,\n",
       "          0.00016023,  0.00016036, -0.00015948,  0.00016019, -0.00015962,\n",
       "          0.0001601 , -0.00015975,  0.00016031,  0.00016032, -0.00015937,\n",
       "         -0.00015958, -0.00015938,  0.00016035,  0.00016044, -0.00015937,\n",
       "         -0.00015947,  0.00016026, -0.00015959,  0.00016024, -0.00015969,\n",
       "          0.00016033,  0.00016027,  0.0001603 ,  0.00016029,  0.00016045,\n",
       "         -0.00015952,  0.00016029,  0.00016065, -0.00015949,  0.00016031,\n",
       "          0.00016039,  0.00016043, -0.00015931,  0.0001604 ,  0.00016025,\n",
       "          0.00015997,  0.00016029, -0.00015953,  0.00016004,  0.0001603 ,\n",
       "         -0.00015951,  0.0001607 ,  0.00016018,  0.00016002,  0.00016057,\n",
       "          0.00015994,  0.00016015,  0.00016006,  0.00016002]]),\n",
       " 'dW2': array([[ 0.09560426,  0.02514907,  0.03022212]]),\n",
       " 'db2': array([[ 0.15655664]])}"
      ]
     },
     "execution_count": 23,
     "metadata": {},
     "output_type": "execute_result"
    }
   ],
   "source": [
    "# Append to grads\n",
    "grads[\"dA\" + str(L)] = dA_prev\n",
    "grads[\"dW\" + str(L)] = dW\n",
    "grads[\"db\" + str(L)] = db\n",
    "grads"
   ]
  },
  {
   "cell_type": "code",
   "execution_count": 24,
   "metadata": {},
   "outputs": [
    {
     "data": {
      "text/plain": [
       "{'dA1': array([[  5.06737261e-05,   5.07112362e-05,  -5.54642073e-05, ...,\n",
       "           5.07261677e-05,   5.56134142e-05,   5.06869035e-05],\n",
       "        [ -1.96120275e-05,  -1.96265449e-05,   1.84525543e-05, ...,\n",
       "          -1.96323238e-05,  -1.85021944e-05,  -1.96171276e-05],\n",
       "        [ -1.56436626e-05,  -1.56552425e-05,   1.88347049e-05, ...,\n",
       "          -1.56598521e-05,  -1.88853730e-05,  -1.56477307e-05],\n",
       "        ..., \n",
       "        [ -1.53159730e-05,  -1.53273103e-05,   1.19319840e-05, ...,\n",
       "          -1.53318233e-05,  -1.19640828e-05,  -1.53199559e-05],\n",
       "        [ -1.21657702e-05,  -1.21747757e-05,   1.45107393e-05, ...,\n",
       "          -1.21783605e-05,  -1.45497753e-05,  -1.21689339e-05],\n",
       "        [  2.88988479e-05,   2.89202396e-05,  -2.98438192e-05, ...,\n",
       "           2.89287550e-05,   2.99241035e-05,   2.89063629e-05]]),\n",
       " 'dA2': array([[ 0.00315474,  0.00315707, -0.00314782,  0.00315524,  0.00315558,\n",
       "          0.00315809,  0.00315613, -0.00314857,  0.00316253,  0.00315831,\n",
       "          0.00316324, -0.00314311,  0.00316098, -0.00314816, -0.00314924,\n",
       "          0.00317082,  0.00316523,  0.00316273,  0.00315876, -0.00315156,\n",
       "          0.00315891,  0.00315578,  0.00316324,  0.00316585, -0.0031424 ,\n",
       "         -0.0031531 ,  0.00315951, -0.00315058,  0.00315757, -0.00315113,\n",
       "          0.0031605 ,  0.00316215,  0.00316303,  0.0031634 ,  0.00315907,\n",
       "          0.00315771,  0.00315846,  0.00316059, -0.00315044,  0.00316208,\n",
       "          0.00315658, -0.00315206, -0.0031416 ,  0.00315961,  0.00316776,\n",
       "          0.00315971,  0.0031609 , -0.00314708,  0.0031591 ,  0.00315984,\n",
       "         -0.0031425 ,  0.00316303,  0.00315965,  0.00316375, -0.00314674,\n",
       "          0.0031642 , -0.00314627, -0.00314003,  0.00315436, -0.00314902,\n",
       "         -0.00315191, -0.00314781,  0.00316227,  0.00316003,  0.00316326,\n",
       "          0.00315935,  0.00315907,  0.0031587 , -0.0031438 ,  0.00316133,\n",
       "          0.00316166, -0.00314908,  0.00315869,  0.00315942,  0.00315764,\n",
       "          0.00316193,  0.00315779,  0.00316349,  0.00315754,  0.00315544,\n",
       "          0.00316118,  0.00316058,  0.00316099, -0.00315056, -0.00314432,\n",
       "          0.00315828,  0.00315834,  0.00315793, -0.0031454 ,  0.00315767,\n",
       "          0.00316529,  0.00316094, -0.00314903, -0.00314601, -0.00314329,\n",
       "          0.0031631 ,  0.00316339, -0.00314777,  0.00316647,  0.00316032,\n",
       "          0.00316114,  0.003161  , -0.00314295,  0.00315937, -0.00314753,\n",
       "          0.00315903, -0.00315127, -0.00314606, -0.00314525, -0.00314779,\n",
       "         -0.00315376, -0.00315209,  0.00316212,  0.00316056,  0.00316204,\n",
       "          0.0031598 ,  0.00315376, -0.0031498 ,  0.00315733,  0.00316324,\n",
       "          0.00315904, -0.00314161,  0.00315948,  0.00316132, -0.00314816,\n",
       "          0.00315855, -0.00314927,  0.00315852, -0.00314505, -0.00314814,\n",
       "          0.00316079,  0.00315894,  0.003162  , -0.00315376, -0.00315016,\n",
       "         -0.00314564, -0.00314032, -0.00314923,  0.00316214,  0.00315856,\n",
       "          0.00315961,  0.00316466, -0.0031479 ,  0.0031557 , -0.00314702,\n",
       "         -0.00314603, -0.00314265,  0.00316491, -0.0031523 , -0.00314451,\n",
       "          0.00316589,  0.00315518,  0.00316054, -0.00314709,  0.00315563,\n",
       "          0.00316175, -0.00314664,  0.00315873,  0.00316012,  0.00316027,\n",
       "          0.00315964,  0.00316226, -0.00314477,  0.00315882, -0.00314769,\n",
       "          0.00315705, -0.00315023,  0.00316129,  0.00316138, -0.00314264,\n",
       "         -0.00314677, -0.00314297,  0.00316209,  0.00316376, -0.00314271,\n",
       "         -0.00314463,  0.00316028, -0.00314696,  0.00315982, -0.00314899,\n",
       "          0.00316161,  0.00316044,  0.00316096,  0.00316091,  0.003164  ,\n",
       "         -0.00314574,  0.00316076,  0.00316786, -0.00314497,  0.00316117,\n",
       "          0.00316279,  0.00316353, -0.00314145,  0.003163  ,  0.00316011,\n",
       "          0.00315447,  0.00316087, -0.00314586,  0.00315599,  0.00316112,\n",
       "         -0.00314552,  0.00316891,  0.00315872,  0.00315548,  0.00316631,\n",
       "          0.0031539 ,  0.003158  ,  0.00315629,  0.00315556],\n",
       "        [ 0.00048674,  0.0004871 , -0.00048567,  0.00048681,  0.00048687,\n",
       "          0.00048725,  0.00048695, -0.00048578,  0.00048794,  0.00048729,\n",
       "          0.00048805, -0.00048494,  0.0004877 , -0.00048572, -0.00048589,\n",
       "          0.00048922,  0.00048835,  0.00048797,  0.00048736, -0.00048624,\n",
       "          0.00048738,  0.0004869 ,  0.00048805,  0.00048845, -0.00048483,\n",
       "         -0.00048648,  0.00048747, -0.00048609,  0.00048717, -0.00048618,\n",
       "          0.00048763,  0.00048788,  0.00048801,  0.00048807,  0.0004874 ,\n",
       "          0.00048719,  0.00048731,  0.00048764, -0.00048607,  0.00048787,\n",
       "          0.00048702, -0.00048632, -0.00048471,  0.00048749,  0.00048875,\n",
       "          0.0004875 ,  0.00048769, -0.00048555,  0.00048741,  0.00048752,\n",
       "         -0.00048485,  0.00048801,  0.00048749,  0.00048813, -0.0004855 ,\n",
       "          0.0004882 , -0.00048543, -0.00048447,  0.00048668, -0.00048585,\n",
       "         -0.0004863 , -0.00048567,  0.0004879 ,  0.00048755,  0.00048805,\n",
       "          0.00048745,  0.0004874 ,  0.00048735, -0.00048505,  0.00048775,\n",
       "          0.0004878 , -0.00048586,  0.00048734,  0.00048746,  0.00048718,\n",
       "          0.00048784,  0.00048721,  0.00048809,  0.00048717,  0.00048684,\n",
       "          0.00048773,  0.00048764,  0.0004877 , -0.00048609, -0.00048513,\n",
       "          0.00048728,  0.00048729,  0.00048723, -0.0004853 ,  0.00048719,\n",
       "          0.00048836,  0.00048769, -0.00048585, -0.00048539, -0.00048497,\n",
       "          0.00048803,  0.00048807, -0.00048566,  0.00048855,  0.0004876 ,\n",
       "          0.00048772,  0.0004877 , -0.00048492,  0.00048745, -0.00048562,\n",
       "          0.0004874 , -0.0004862 , -0.0004854 , -0.00048527, -0.00048566,\n",
       "         -0.00048659, -0.00048633,  0.00048788,  0.00048763,  0.00048786,\n",
       "          0.00048752,  0.00048659, -0.00048597,  0.00048713,  0.00048805,\n",
       "          0.0004874 , -0.00048471,  0.00048747,  0.00048775, -0.00048572,\n",
       "          0.00048732, -0.00048589,  0.00048732, -0.00048524, -0.00048572,\n",
       "          0.00048767,  0.00048738,  0.00048786, -0.00048659, -0.00048603,\n",
       "         -0.00048533, -0.00048451, -0.00048589,  0.00048788,  0.00048732,\n",
       "          0.00048749,  0.00048827, -0.00048568,  0.00048688, -0.00048554,\n",
       "         -0.00048539, -0.00048487,  0.0004883 , -0.00048636, -0.00048516,\n",
       "          0.00048846,  0.0004868 ,  0.00048763, -0.00048556,  0.00048687,\n",
       "          0.00048782, -0.00048549,  0.00048735,  0.00048757,  0.00048759,\n",
       "          0.00048749,  0.0004879 , -0.0004852 ,  0.00048737, -0.00048565,\n",
       "          0.00048709, -0.00048604,  0.00048775,  0.00048776, -0.00048487,\n",
       "         -0.00048551, -0.00048492,  0.00048787,  0.00048813, -0.00048488,\n",
       "         -0.00048518,  0.00048759, -0.00048554,  0.00048752, -0.00048585,\n",
       "          0.0004878 ,  0.00048762,  0.0004877 ,  0.00048769,  0.00048817,\n",
       "         -0.00048535,  0.00048766,  0.00048876, -0.00048523,  0.00048773,\n",
       "          0.00048798,  0.00048809, -0.00048469,  0.00048801,  0.00048756,\n",
       "          0.00048669,  0.00048768, -0.00048537,  0.00048693,  0.00048772,\n",
       "         -0.00048531,  0.00048892,  0.00048735,  0.00048685,  0.00048852,\n",
       "          0.00048661,  0.00048724,  0.00048698,  0.00048686],\n",
       "        [ 0.00015998,  0.0001601 , -0.00015963,  0.00016001,  0.00016002,\n",
       "          0.00016015,  0.00016005, -0.00015967,  0.00016038,  0.00016016,\n",
       "          0.00016041, -0.00015939,  0.0001603 , -0.00015965, -0.0001597 ,\n",
       "          0.0001608 ,  0.00016051,  0.00016039,  0.00016018, -0.00015982,\n",
       "          0.00016019,  0.00016003,  0.00016041,  0.00016054, -0.00015935,\n",
       "         -0.0001599 ,  0.00016022, -0.00015977,  0.00016012, -0.0001598 ,\n",
       "          0.00016027,  0.00016036,  0.0001604 ,  0.00016042,  0.0001602 ,\n",
       "          0.00016013,  0.00016017,  0.00016028, -0.00015976,  0.00016035,\n",
       "          0.00016007, -0.00015984, -0.00015931,  0.00016023,  0.00016064,\n",
       "          0.00016023,  0.00016029, -0.00015959,  0.0001602 ,  0.00016024,\n",
       "         -0.00015936,  0.0001604 ,  0.00016023,  0.00016044, -0.00015957,\n",
       "          0.00016046, -0.00015955, -0.00015923,  0.00015996, -0.00015969,\n",
       "         -0.00015984, -0.00015963,  0.00016036,  0.00016025,  0.00016041,\n",
       "          0.00016021,  0.0001602 ,  0.00016018, -0.00015943,  0.00016031,\n",
       "          0.00016033, -0.00015969,  0.00016018,  0.00016022,  0.00016013,\n",
       "          0.00016035,  0.00016014,  0.00016042,  0.00016012,  0.00016002,\n",
       "          0.00016031,  0.00016028,  0.0001603 , -0.00015977, -0.00015945,\n",
       "          0.00016016,  0.00016016,  0.00016014, -0.00015951,  0.00016013,\n",
       "          0.00016052,  0.00016029, -0.00015969, -0.00015954, -0.0001594 ,\n",
       "          0.0001604 ,  0.00016042, -0.00015963,  0.00016058,  0.00016026,\n",
       "          0.0001603 ,  0.0001603 , -0.00015938,  0.00016022, -0.00015962,\n",
       "          0.0001602 , -0.0001598 , -0.00015954, -0.0001595 , -0.00015963,\n",
       "         -0.00015993, -0.00015985,  0.00016036,  0.00016028,  0.00016035,\n",
       "          0.00016024,  0.00015993, -0.00015973,  0.00016011,  0.00016041,\n",
       "          0.0001602 , -0.00015931,  0.00016022,  0.00016031, -0.00015965,\n",
       "          0.00016017, -0.0001597 ,  0.00016017, -0.00015949, -0.00015965,\n",
       "          0.00016029,  0.00016019,  0.00016035, -0.00015993, -0.00015975,\n",
       "         -0.00015952, -0.00015925, -0.0001597 ,  0.00016036,  0.00016017,\n",
       "          0.00016023,  0.00016048, -0.00015963,  0.00016003, -0.00015959,\n",
       "         -0.00015954, -0.00015937,  0.0001605 , -0.00015986, -0.00015946,\n",
       "          0.00016055,  0.00016   ,  0.00016027, -0.00015959,  0.00016003,\n",
       "          0.00016034, -0.00015957,  0.00016018,  0.00016025,  0.00016026,\n",
       "          0.00016023,  0.00016036, -0.00015948,  0.00016019, -0.00015962,\n",
       "          0.0001601 , -0.00015975,  0.00016031,  0.00016032, -0.00015937,\n",
       "         -0.00015958, -0.00015938,  0.00016035,  0.00016044, -0.00015937,\n",
       "         -0.00015947,  0.00016026, -0.00015959,  0.00016024, -0.00015969,\n",
       "          0.00016033,  0.00016027,  0.0001603 ,  0.00016029,  0.00016045,\n",
       "         -0.00015952,  0.00016029,  0.00016065, -0.00015949,  0.00016031,\n",
       "          0.00016039,  0.00016043, -0.00015931,  0.0001604 ,  0.00016025,\n",
       "          0.00015997,  0.00016029, -0.00015953,  0.00016004,  0.0001603 ,\n",
       "         -0.00015951,  0.0001607 ,  0.00016018,  0.00016002,  0.00016057,\n",
       "          0.00015994,  0.00016015,  0.00016006,  0.00016002]]),\n",
       " 'dW1': array([[  3.09779226e-04,   4.03674515e-04,   3.04203301e-04, ...,\n",
       "           3.26438246e-04,   3.95905227e-04,   2.11896581e-04],\n",
       "        [  3.41519859e-05,   4.19595877e-05,   2.95330386e-05, ...,\n",
       "           3.60863002e-05,   4.46388772e-05,   2.61346460e-05],\n",
       "        [  9.58954394e-06,   1.25392638e-05,   8.77721702e-06, ...,\n",
       "           1.29862567e-05,   1.48843073e-05,   8.43639846e-06]]),\n",
       " 'dW2': array([[ 0.09560426,  0.02514907,  0.03022212]]),\n",
       " 'db1': array([[  9.87484683e-04],\n",
       "        [  1.00765096e-04],\n",
       "        [  3.39456586e-05]]),\n",
       " 'db2': array([[ 0.15655664]])}"
      ]
     },
     "execution_count": 24,
     "metadata": {},
     "output_type": "execute_result"
    }
   ],
   "source": [
    "# Repeat for the rest of the layers\n",
    "for l in reversed(range(L-1)):\n",
    "    # lth layer: (RELU -> LINEAR) gradients.\n",
    "    current_cache = caches[l]\n",
    "    dA_prev_temp, dW_temp, db_temp = linear_activation_backward(grads[\"dA\" + str(l + 2)], current_cache, activation = \"relu\")\n",
    "    grads[\"dA\" + str(l + 1)] = dA_prev_temp\n",
    "    grads[\"dW\" + str(l + 1)] = dW_temp\n",
    "    grads[\"db\" + str(l + 1)] = db_temp\n",
    "grads"
   ]
  },
  {
   "cell_type": "markdown",
   "metadata": {
    "collapsed": true
   },
   "source": [
    "**Test L-Layer with 2 layers.**"
   ]
  },
  {
   "cell_type": "code",
   "execution_count": 26,
   "metadata": {},
   "outputs": [
    {
     "name": "stdout",
     "output_type": "stream",
     "text": [
      "Cost after iteration 0: 0.733446\n",
      "Cost after iteration 100: 0.677868\n",
      "Cost after iteration 200: 0.667331\n",
      "Cost after iteration 300: 0.660028\n",
      "Cost after iteration 400: 0.654540\n",
      "Cost after iteration 500: 0.649654\n",
      "Cost after iteration 600: 0.634313\n",
      "Cost after iteration 700: 0.611934\n",
      "Cost after iteration 800: 0.587547\n",
      "Cost after iteration 900: 0.559358\n",
      "Cost after iteration 1000: 0.532493\n",
      "Cost after iteration 1100: 0.506376\n",
      "Cost after iteration 1200: 0.479118\n",
      "Cost after iteration 1300: 0.458178\n",
      "Cost after iteration 1400: 0.467281\n",
      "Cost after iteration 1500: 0.408895\n",
      "Cost after iteration 1600: 0.395594\n",
      "Cost after iteration 1700: 0.367746\n",
      "Cost after iteration 1800: 0.350364\n",
      "Cost after iteration 1900: 0.340013\n",
      "Cost after iteration 2000: 0.326262\n",
      "Cost after iteration 2100: 0.318060\n",
      "Cost after iteration 2200: 0.310842\n",
      "Cost after iteration 2300: 0.303658\n",
      "Cost after iteration 2400: 0.298174\n",
      "Cost after iteration 2500: 0.293630\n",
      "Cost after iteration 2600: 0.289431\n",
      "Cost after iteration 2700: 0.285819\n",
      "Cost after iteration 2800: 0.282588\n",
      "Cost after iteration 2900: 0.285474\n",
      "Cost after iteration 3000: 0.277643\n",
      "Cost after iteration 3100: 0.271959\n",
      "Cost after iteration 3200: 0.266778\n",
      "Cost after iteration 3300: 0.263835\n",
      "Cost after iteration 3400: 0.261827\n"
     ]
    },
    {
     "data": {
      "image/png": "[encoded data removed]",
      "text/plain": [
       "<matplotlib.figure.Figure at 0x7feb138bca58>"
      ]
     },
     "metadata": {},
     "output_type": "display_data"
    }
   ],
   "source": [
    "### CONSTANTS ###\n",
    "layers_dims = [12288, 3, 1] #  2-layer model\n",
    "\n",
    "# GRADED FUNCTION: L_layer_model\n",
    "\n",
    "def L_layer_model(X, Y, layers_dims, learning_rate = 0.0075, num_iterations = 3000, print_cost=False):#lr was 0.009\n",
    "    \"\"\"\n",
    "    Implements a L-layer neural network: [LINEAR->RELU]*(L-1)->LINEAR->SIGMOID.\n",
    "    \n",
    "    Arguments:\n",
    "    X -- data, numpy array of shape (number of examples, num_px * num_px * 3)\n",
    "    Y -- true \"label\" vector (containing 0 if cat, 1 if non-cat), of shape (1, number of examples)\n",
    "    layers_dims -- list containing the input size and each layer size, of length (number of layers + 1).\n",
    "    learning_rate -- learning rate of the gradient descent update rule\n",
    "    num_iterations -- number of iterations of the optimization loop\n",
    "    print_cost -- if True, it prints the cost every 100 steps\n",
    "    \n",
    "    Returns:\n",
    "    parameters -- parameters learnt by the model. They can then be used to predict.\n",
    "    \"\"\"\n",
    "\n",
    "    np.random.seed(1)\n",
    "    costs = []                         # keep track of cost\n",
    "    \n",
    "    # Parameters initialization.\n",
    "    ### START CODE HERE ###\n",
    "    parameters = initialize_parameters_deep(layers_dims)\n",
    "    ### END CODE HERE ###\n",
    "    \n",
    "    # Loop (gradient descent)\n",
    "    for i in range(0, num_iterations):\n",
    "\n",
    "        # Forward propagation: [LINEAR -> RELU]*(L-1) -> LINEAR -> SIGMOID.\n",
    "        ### START CODE HERE ### (≈ 1 line of code)\n",
    "        AL, caches = L_model_forward(X, parameters)\n",
    "        ### END CODE HERE ###\n",
    "        \n",
    "        # Compute cost.\n",
    "        ### START CODE HERE ### (≈ 1 line of code)\n",
    "        cost = compute_cost(AL, Y)\n",
    "        ### END CODE HERE ###\n",
    "    \n",
    "        # Backward propagation.\n",
    "        ### START CODE HERE ### (≈ 1 line of code)\n",
    "        grads = L_model_backward(AL, Y, caches)\n",
    "        ### END CODE HERE ###\n",
    " \n",
    "        # Update parameters.\n",
    "        ### START CODE HERE ### (≈ 1 line of code)\n",
    "        parameters = update_parameters(parameters, grads, learning_rate)\n",
    "        ### END CODE HERE ###\n",
    "                \n",
    "        # Print the cost every 100 training example\n",
    "        if print_cost and i % 100 == 0:\n",
    "            print (\"Cost after iteration %i: %f\" %(i, cost))\n",
    "        if print_cost and i % 100 == 0:\n",
    "            costs.append(cost)\n",
    "            \n",
    "    # plot the cost\n",
    "    plt.plot(np.squeeze(costs))\n",
    "    plt.ylabel('cost')\n",
    "    plt.xlabel('iterations (per tens)')\n",
    "    plt.title(\"Learning rate =\" + str(learning_rate))\n",
    "    plt.show()\n",
    "    \n",
    "    return parameters\n",
    "\n",
    "parameters = L_layer_model(train_x, train_y, layers_dims, num_iterations = 3500, print_cost = True)"
   ]
  },
  {
   "cell_type": "markdown",
   "metadata": {},
   "source": [
    "---"
   ]
  },
  {
   "cell_type": "markdown",
   "metadata": {},
   "source": [
    "Run the cell below to train your parameters. See if your model runs. The cost should be decreasing. It may take up to 5 minutes to run 2500 iterations. Check if the \"Cost after iteration 0\" matches the expected output below, if not click on the square (⬛) on the upper bar of the notebook to stop the cell and try to find your error."
   ]
  },
  {
   "cell_type": "code",
   "execution_count": null,
   "metadata": {},
   "outputs": [],
   "source": [
    "parameters = two_layer_model(train_x, train_y, layers_dims = (n_x, n_h, n_y), num_iterations = 2500, print_cost=True)"
   ]
  },
  {
   "cell_type": "markdown",
   "metadata": {},
   "source": [
    "**Expected Output**:\n",
    "<table> \n",
    "    <tr>\n",
    "        <td> **Cost after iteration 0**</td>\n",
    "        <td> 0.6930497356599888 </td>\n",
    "    </tr>\n",
    "    <tr>\n",
    "        <td> **Cost after iteration 100**</td>\n",
    "        <td> 0.6464320953428849 </td>\n",
    "    </tr>\n",
    "    <tr>\n",
    "        <td> **...**</td>\n",
    "        <td> ... </td>\n",
    "    </tr>\n",
    "    <tr>\n",
    "        <td> **Cost after iteration 2400**</td>\n",
    "        <td> 0.048554785628770206 </td>\n",
    "    </tr>\n",
    "</table>"
   ]
  },
  {
   "cell_type": "markdown",
   "metadata": {},
   "source": [
    "Good thing you built a vectorized implementation! Otherwise it might have taken 10 times longer to train this.\n",
    "\n",
    "Now, you can use the trained parameters to classify images from the dataset. To see your predictions on the training and test sets, run the cell below."
   ]
  },
  {
   "cell_type": "code",
   "execution_count": null,
   "metadata": {},
   "outputs": [],
   "source": [
    "predictions_train = predict(train_x, train_y, parameters)"
   ]
  },
  {
   "cell_type": "markdown",
   "metadata": {},
   "source": [
    "**Expected Output**:\n",
    "<table> \n",
    "    <tr>\n",
    "        <td> **Accuracy**</td>\n",
    "        <td> 1.0 </td>\n",
    "    </tr>\n",
    "</table>"
   ]
  },
  {
   "cell_type": "code",
   "execution_count": null,
   "metadata": {},
   "outputs": [],
   "source": [
    "predictions_test = predict(test_x, test_y, parameters)"
   ]
  },
  {
   "cell_type": "markdown",
   "metadata": {},
   "source": [
    "**Expected Output**:\n",
    "\n",
    "<table> \n",
    "    <tr>\n",
    "        <td> **Accuracy**</td>\n",
    "        <td> 0.72 </td>\n",
    "    </tr>\n",
    "</table>"
   ]
  },
  {
   "cell_type": "markdown",
   "metadata": {},
   "source": [
    "**Note**: You may notice that running the model on fewer iterations (say 1500) gives better accuracy on the test set. This is called \"early stopping\" and we will talk about it in the next course. Early stopping is a way to prevent overfitting. \n",
    "\n",
    "Congratulations! It seems that your 2-layer neural network has better performance (72%) than the logistic regression implementation (70%, assignment week 2). Let's see if you can do even better with an $L$-layer model."
   ]
  },
  {
   "cell_type": "markdown",
   "metadata": {},
   "source": [
    "## 5 - L-layer Neural Network\n",
    "\n",
    "**Question**: Use the helper functions you have implemented previously to build an $L$-layer neural network with the following structure: *[LINEAR -> RELU]$\\times$(L-1) -> LINEAR -> SIGMOID*. The functions you may need and their inputs are:\n",
    "```python\n",
    "def initialize_parameters_deep(layer_dims):\n",
    "    ...\n",
    "    return parameters \n",
    "def L_model_forward(X, parameters):\n",
    "    ...\n",
    "    return AL, caches\n",
    "def compute_cost(AL, Y):\n",
    "    ...\n",
    "    return cost\n",
    "def L_model_backward(AL, Y, caches):\n",
    "    ...\n",
    "    return grads\n",
    "def update_parameters(parameters, grads, learning_rate):\n",
    "    ...\n",
    "    return parameters\n",
    "```"
   ]
  },
  {
   "cell_type": "code",
   "execution_count": null,
   "metadata": {
    "collapsed": true
   },
   "outputs": [],
   "source": [
    "### CONSTANTS ###\n",
    "layers_dims = [12288, 20, 7, 5, 1] #  5-layer model"
   ]
  },
  {
   "cell_type": "code",
   "execution_count": null,
   "metadata": {
    "collapsed": true
   },
   "outputs": [],
   "source": [
    "# GRADED FUNCTION: L_layer_model\n",
    "\n",
    "def L_layer_model(X, Y, layers_dims, learning_rate = 0.0075, num_iterations = 3000, print_cost=False):#lr was 0.009\n",
    "    \"\"\"\n",
    "    Implements a L-layer neural network: [LINEAR->RELU]*(L-1)->LINEAR->SIGMOID.\n",
    "    \n",
    "    Arguments:\n",
    "    X -- data, numpy array of shape (number of examples, num_px * num_px * 3)\n",
    "    Y -- true \"label\" vector (containing 0 if cat, 1 if non-cat), of shape (1, number of examples)\n",
    "    layers_dims -- list containing the input size and each layer size, of length (number of layers + 1).\n",
    "    learning_rate -- learning rate of the gradient descent update rule\n",
    "    num_iterations -- number of iterations of the optimization loop\n",
    "    print_cost -- if True, it prints the cost every 100 steps\n",
    "    \n",
    "    Returns:\n",
    "    parameters -- parameters learnt by the model. They can then be used to predict.\n",
    "    \"\"\"\n",
    "\n",
    "    np.random.seed(1)\n",
    "    costs = []                         # keep track of cost\n",
    "    \n",
    "    # Parameters initialization.\n",
    "    ### START CODE HERE ###\n",
    "    parameters = initialize_parameters_deep(layers_dims)\n",
    "    ### END CODE HERE ###\n",
    "    \n",
    "    # Loop (gradient descent)\n",
    "    for i in range(0, num_iterations):\n",
    "\n",
    "        # Forward propagation: [LINEAR -> RELU]*(L-1) -> LINEAR -> SIGMOID.\n",
    "        ### START CODE HERE ### (≈ 1 line of code)\n",
    "        AL, caches = L_model_forward(X, parameters)\n",
    "        ### END CODE HERE ###\n",
    "        \n",
    "        # Compute cost.\n",
    "        ### START CODE HERE ### (≈ 1 line of code)\n",
    "        cost = compute_cost(AL, Y)\n",
    "        ### END CODE HERE ###\n",
    "    \n",
    "        # Backward propagation.\n",
    "        ### START CODE HERE ### (≈ 1 line of code)\n",
    "        grads = L_model_backward(AL, Y, caches)\n",
    "        ### END CODE HERE ###\n",
    " \n",
    "        # Update parameters.\n",
    "        ### START CODE HERE ### (≈ 1 line of code)\n",
    "        parameters = update_parameters(parameters, grads, learning_rate)\n",
    "        ### END CODE HERE ###\n",
    "                \n",
    "        # Print the cost every 100 training example\n",
    "        if print_cost and i % 100 == 0:\n",
    "            print (\"Cost after iteration %i: %f\" %(i, cost))\n",
    "        if print_cost and i % 100 == 0:\n",
    "            costs.append(cost)\n",
    "            \n",
    "    # plot the cost\n",
    "    plt.plot(np.squeeze(costs))\n",
    "    plt.ylabel('cost')\n",
    "    plt.xlabel('iterations (per tens)')\n",
    "    plt.title(\"Learning rate =\" + str(learning_rate))\n",
    "    plt.show()\n",
    "    \n",
    "    return parameters"
   ]
  },
  {
   "cell_type": "markdown",
   "metadata": {},
   "source": [
    "You will now train the model as a 5-layer neural network. \n",
    "\n",
    "Run the cell below to train your model. The cost should decrease on every iteration. It may take up to 5 minutes to run 2500 iterations. Check if the \"Cost after iteration 0\" matches the expected output below, if not click on the square (⬛) on the upper bar of the notebook to stop the cell and try to find your error."
   ]
  },
  {
   "cell_type": "code",
   "execution_count": null,
   "metadata": {},
   "outputs": [],
   "source": [
    "parameters = L_layer_model(train_x, train_y, layers_dims, num_iterations = 2500, print_cost = True)"
   ]
  },
  {
   "cell_type": "markdown",
   "metadata": {},
   "source": [
    "**Expected Output**:\n",
    "<table> \n",
    "    <tr>\n",
    "        <td> **Cost after iteration 0**</td>\n",
    "        <td> 0.771749 </td>\n",
    "    </tr>\n",
    "    <tr>\n",
    "        <td> **Cost after iteration 100**</td>\n",
    "        <td> 0.672053 </td>\n",
    "    </tr>\n",
    "    <tr>\n",
    "        <td> **...**</td>\n",
    "        <td> ... </td>\n",
    "    </tr>\n",
    "    <tr>\n",
    "        <td> **Cost after iteration 2400**</td>\n",
    "        <td> 0.092878 </td>\n",
    "    </tr>\n",
    "</table>"
   ]
  },
  {
   "cell_type": "code",
   "execution_count": null,
   "metadata": {},
   "outputs": [],
   "source": [
    "pred_train = predict(train_x, train_y, parameters)"
   ]
  },
  {
   "cell_type": "markdown",
   "metadata": {},
   "source": [
    "<table>\n",
    "    <tr>\n",
    "    <td>\n",
    "    **Train Accuracy**\n",
    "    </td>\n",
    "    <td>\n",
    "    0.985645933014\n",
    "    </td>\n",
    "    </tr>\n",
    "</table>"
   ]
  },
  {
   "cell_type": "code",
   "execution_count": null,
   "metadata": {},
   "outputs": [],
   "source": [
    "pred_test = predict(test_x, test_y, parameters)"
   ]
  },
  {
   "cell_type": "markdown",
   "metadata": {},
   "source": [
    "**Expected Output**:\n",
    "\n",
    "<table> \n",
    "    <tr>\n",
    "        <td> **Test Accuracy**</td>\n",
    "        <td> 0.8 </td>\n",
    "    </tr>\n",
    "</table>"
   ]
  },
  {
   "cell_type": "markdown",
   "metadata": {},
   "source": [
    "Congrats! It seems that your 5-layer neural network has better performance (80%) than your 2-layer neural network (72%) on the same test set. \n",
    "\n",
    "This is good performance for this task. Nice job! \n",
    "\n",
    "Though in the next course on \"Improving deep neural networks\" you will learn how to obtain even higher accuracy by systematically searching for better hyperparameters (learning_rate, layers_dims, num_iterations, and others you'll also learn in the next course). "
   ]
  },
  {
   "cell_type": "markdown",
   "metadata": {},
   "source": [
    "##  6) Results Analysis\n",
    "\n",
    "First, let's take a look at some images the L-layer model labeled incorrectly. This will show a few mislabeled images. "
   ]
  },
  {
   "cell_type": "code",
   "execution_count": null,
   "metadata": {},
   "outputs": [],
   "source": [
    "print_mislabeled_images(classes, test_x, test_y, pred_test)"
   ]
  },
  {
   "cell_type": "markdown",
   "metadata": {},
   "source": [
    "**A few type of images the model tends to do poorly on include:** \n",
    "- Cat body in an unusual position\n",
    "- Cat appears against a background of a similar color\n",
    "- Unusual cat color and species\n",
    "- Camera Angle\n",
    "- Brightness of the picture\n",
    "- Scale variation (cat is very large or small in image) "
   ]
  },
  {
   "cell_type": "markdown",
   "metadata": {},
   "source": [
    "## 7) Test with your own image (optional/ungraded exercise) ##\n",
    "\n",
    "Congratulations on finishing this assignment. You can use your own image and see the output of your model. To do that:\n",
    "    1. Click on \"File\" in the upper bar of this notebook, then click \"Open\" to go on your Coursera Hub.\n",
    "    2. Add your image to this Jupyter Notebook's directory, in the \"images\" folder\n",
    "    3. Change your image's name in the following code\n",
    "    4. Run the code and check if the algorithm is right (1 = cat, 0 = non-cat)!"
   ]
  },
  {
   "cell_type": "code",
   "execution_count": null,
   "metadata": {},
   "outputs": [],
   "source": [
    "## START CODE HERE ##\n",
    "my_image = \"my_image.jpg\" # change this to the name of your image file \n",
    "my_label_y = [1] # the true class of your image (1 -> cat, 0 -> non-cat)\n",
    "## END CODE HERE ##\n",
    "\n",
    "fname = \"images/\" + my_image\n",
    "image = np.array(ndimage.imread(fname, flatten=False))\n",
    "my_image = scipy.misc.imresize(image, size=(num_px,num_px)).reshape((num_px*num_px*3,1))\n",
    "my_predicted_image = predict(my_image, my_label_y, parameters)\n",
    "\n",
    "plt.imshow(image)\n",
    "print (\"y = \" + str(np.squeeze(my_predicted_image)) + \", your L-layer model predicts a \\\"\" + classes[int(np.squeeze(my_predicted_image)),].decode(\"utf-8\") +  \"\\\" picture.\")"
   ]
  },
  {
   "cell_type": "markdown",
   "metadata": {},
   "source": [
    "**References**:\n",
    "\n",
    "- for auto-reloading external module: http://stackoverflow.com/questions/1907993/autoreload-of-modules-in-ipython"
   ]
  }
 ],
 "metadata": {
  "coursera": {
   "course_slug": "neural-networks-deep-learning",
   "graded_item_id": "TSPse",
   "launcher_item_id": "24mxX"
  },
  "kernelspec": {
   "display_name": "Python 3",
   "language": "python",
   "name": "python3"
  },
  "language_info": {
   "codemirror_mode": {
    "name": "ipython",
    "version": 3
   },
   "file_extension": ".py",
   "mimetype": "text/x-python",
   "name": "python",
   "nbconvert_exporter": "python",
   "pygments_lexer": "ipython3",
   "version": "3.6.1"
  }
 },
 "nbformat": 4,
 "nbformat_minor": 2
}
