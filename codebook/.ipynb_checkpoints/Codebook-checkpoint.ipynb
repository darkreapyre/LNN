{
 "cells": [
  {
   "cell_type": "markdown",
   "metadata": {},
   "source": [
    "# Lambda Neural Network: 0.2  (L-Layer)\n",
    "## Overview\n",
    "The Lambda Neural Network is a solution for generating a Cloud Native image classification Neural Network, using idempotent Amazon Web Services ([AWS](https://aws.amazon.com/what-is-aws/)) [Lambda](https://aws.amazon.com/lambda/) Functions. The LNN framework should conform to leveraging multiple Layers (excluding a single layer) with multiple neurons per layer. But for the sake of this version, the following *Codebook* will implement a **2-Layer** Neural Network as follows:\n",
    "\n",
    "<img src=\"images/2layerNN_kiank.png\" style=\"width:700px;height:400;\">\n",
    "\n",
    "The Neural Network Model (shown above) can be summarized as:\n",
    "\n",
    "***INPUT --> LINEAR/RELU --> LINEAR/SIGMOID --> OUTPUT***\n",
    "- The **Input** is a $(64, 64, 3)$ image what is flattened to a vector $(12288, 1)$. See the **Data Overview** Section.\n",
    "- The corresponding vector: $[x_{0}, x_{1}, \\dots, x_{12287}]^T$ is then multiplied by the **weight matrix** $W^{[1]}$ of size $(n^{[1]}, 12288)$.\n",
    "- The **bias** term is then added to take the **Relu** (non-linear activation) to get a vector of size $[a^{[1]}_0, a^{[2]}_1, \\dots, a^{[1]}_{n^{[1]}-1}]^T$.\n",
    "- The process is then repeatred for the next layer, by taking the resulting vector and multiplying it by the weight matrix $W^{[2]}$ and then adding the intercept (**bias**).\n",
    "- Lastly, the **sigmoid** activation is applied to the result. If the result is greater then $0.5$, it is classified as a **Cat**.\n",
    "\n",
    "Therefore, the **Network Model Parameters** (*parameters.json*) for the above process are as follows:\n",
    "\n",
    "```json\n",
    "{\n",
    "    \"epochs\": 25,\n",
    "    \"layers\": 2,\n",
    "    \"activations\": {\n",
    "        \"layer1\": \"relu\",\n",
    "        \"layer2\": \"sigmoid\"\n",
    "    },\n",
    "    \"neurons\": {\n",
    "        \"layer1\": 3,\n",
    "        \"layer2\": 1\n",
    "    },\n",
    "    \"weight\": 0.01,\n",
    "    \"bias\": 0.01,\n",
    "    \"learning_rate\": 0.0075\n",
    "}\n",
    "```"
   ]
  },
  {
   "cell_type": "markdown",
   "metadata": {},
   "source": [
    "## Neural Network Implementation\n",
    "To implement the Neural Network using the **LNN** framework and the above Network configuration, the workflow is comprised of six key steps:  \n",
    "1. Network Initialization.\n",
    "2. Forward Propagation.\n",
    "3. Calculate the Loss (Cost Function).\n",
    "4. Backward Propagation.\n",
    "5. Parameter Optmization (Gradient Descent).\n",
    "\n",
    "The outcome of the above stages provides the optimal model parameters, for use in final prediction, as can be seen in the process diagram below.  \n",
    "\n",
    "<img src=\"images/final_outline.png\" style=\"width:700px;height:600;\">\n",
    "\n",
    "The next sections will further deascribe each phase in more detail."
   ]
  },
  {
   "cell_type": "markdown",
   "metadata": {},
   "source": [
    "### Network Initialization\n",
    "For an **L-Layer** network, the *Weights* and *Bias* must be initialized for each inidivual layer, therfore the dimensions for these matricies must match to the dimensions of each layer. For example, if $n^{[l]}$ is the number of hidden units (neurons) in layer $l$ and the size of the input $X$ is $(12288, 209)$, for $m = 209$ training examples, then:\n",
    "\n",
    "<table style=\\\"width:100%\\\">\n",
    "    <tr>\n",
    "        <td>  </td>\n",
    "        <td> **Shape of W** </td>\n",
    "        <td> **Shape of b**  </td>\n",
    "        <td> **Activation** </td>\n",
    "        <td> **Shape of Activation** </td>\n",
    "    <tr>\n",
    "    <tr>\n",
    "        <td> **Layer 1** </td>\n",
    "        <td> $(n^{[1]},12288)$ </td>\n",
    "        <td> $(n^{[1]},1)$ </td>\n",
    "        <td> $Z^{[1]} = W^{[1]}  X + b^{[1]} $ </td>\n",
    "        <td> $(n^{[1]},209)$ </td>\n",
    "        <tr>\n",
    "    <tr>\n",
    "        <td> **Layer 2** </td>\n",
    "        <td> $(n^{[2]}, n^{[1]})$  </td>\n",
    "        <td> $(n^{[2]},1)$ </td>\n",
    "        <td>$Z^{[2]} = W^{[2]} A^{[1]} + b^{[2]}$ </td>\n",
    "        <td> $(n^{[2]}, 209)$ </td>\n",
    "    <tr>\n",
    "    <tr>\n",
    "        <td> $\\vdots$ </td>\n",
    "        <td> $\\vdots$ </td>\n",
    "        <td> $\\vdots$ </td>\n",
    "        <td> $\\vdots$ </td>\n",
    "        <td> $\\vdots$ </td>\n",
    "    <tr>\n",
    "    <tr>\n",
    "        <td> **Layer L-1** </td>\n",
    "        <td> $(n^{[L-1]}, n^{[L-2]})$ </td>\n",
    "        <td> $(n^{[L-1]}, 1)$  </td>\n",
    "        <td>$Z^{[L-1]} =  W^{[L-1]} A^{[L-2]} + b^{[L-1]}$ </td>\n",
    "        <td> $(n^{[L-1]}, 209)$ </td>\n",
    "    <tr>\n",
    "    <tr>\n",
    "        <td> **Layer L** </td>\n",
    "        <td> $(n^{[L]}, n^{[L-1]})$ </td>\n",
    "        <td> $(n^{[L]}, 1)$ </td>\n",
    "        <td> $Z^{[L]} =  W^{[L]} A^{[L-1]} + b^{[L]}$</td>\n",
    "        <td> $(n^{[L]}, 209)$  </td>\n",
    "    <tr>\n",
    "</table>"
   ]
  },
  {
   "cell_type": "markdown",
   "metadata": {},
   "source": [
    "When we compute $W X + b$ in python, it carries out broadcasting. For example, if:  \n",
    "\n",
    "$$\n",
    "W = \\begin{bmatrix}\n",
    "j  & k  & l \\\\\\\n",
    "m  & n & o  \\\\\\\n",
    "p  & q & r\n",
    "\\end{bmatrix}\n",
    "X = \\begin{bmatrix}\n",
    "a  & b  & c \\\\\\\n",
    "d  & e & f \\\\\\\n",
    "g  & h & i \n",
    "\\end{bmatrix}\n",
    "b =\\begin{bmatrix}\n",
    "s  \\\\\\\n",
    "t  \\\\\\\n",
    "u\n",
    "\\end{bmatrix}$$\n",
    "\n",
    "Then $WX + b$ will be:\n",
    "\n",
    "$$\n",
    "WX + b = \\begin{bmatrix}\n",
    "(ja + kd + lg) + s  & (jb + ke + lh) + s  & (jc + kf + li)+ s\\\\\\\n",
    "(ma + nd + og) + t & (mb + ne + oh) + t & (mc + nf + oi) + t\\\\\\\n",
    "(pa + qd + rg) + u & (pb + qe + rh) + u & (pc + qf + ri)+ u\n",
    "\\end{bmatrix}$$"
   ]
  },
  {
   "cell_type": "markdown",
   "metadata": {},
   "source": [
    "To start the initialization process, the *Weights* are initialized randomly using a \"standard\" normal distribution with a mean of $0$ and a standard deviation of $1$. To further constrain the weights to be close to zero **but** not exactly zero (for *symmetry breaking*), each random weight is multiplied by $0.01$. The *Bias* is initialized to zero but also multiplied by $0.01$."
   ]
  },
  {
   "cell_type": "markdown",
   "metadata": {},
   "source": [
    "### Forward Propogation\n",
    "The *Forward Propogation* step of the process is comprised of two separate pieces, the **Linear** activation and the **Non-Linear** activation to constrain the outputs between $0$ and $1$.   \n",
    "#### Linear Activation\n",
    "The *Linear* part of the activation computes the following equation:  \n",
    "$$Z^{[l]} = W^{[l]} \\cdot A^{[l]} + b^{[l]}$$\n",
    ">**Note:** It is important to cach the Linear Activations ($Z$) for later use in he Backward Propagation process.\n",
    "\n",
    "Where $A^{[0]} = X$\n",
    "#### Non-Linear Activation\n",
    "The **L-Layer** Neural Network implements two differnt non-linear activation functions:\n",
    "- **Rectified Linear Unit (ReLU):** The mathematical formula for the *ReLU* function is $A = ReLU(Z) = max(0, Z)$.\n",
    "- **Sigmoid:** The methematical formula for the *Sigmoid* function is $\\sigma(Z) = \\sigma(W\\cdot A+b) = \\frac{1}{1 + e^{(-z)}}$."
   ]
  },
  {
   "cell_type": "markdown",
   "metadata": {},
   "source": [
    "### Loss\n",
    "**Cross Entropy** is commonly-used in binary classification (labels are assumed to take values $0$ or $1$) as a loss function which is computed by:\n",
    "\n",
    "$$\\mathcal{L} = -\\frac{1}{m} \\sum\\limits_{i = 1}^{m} \\big[y^{(i)}\\cdot\\log\\left(a^{[L] (i)}\\right) + (1-y^{(i)})\\cdot\\log\\left(1-a^{[L](i)}\\right)\\big]$$\n",
    "\n",
    "Where $a^{[L](i)}$ is the last layer of the network and is synonymous with $\\hat{y}$.\n",
    "\n",
    "Cross entropy measures the divergence between two probability distribution, if the cross entropy is large, which means that the difference between two distribution is large, while if the cross entropy is small, which means that two distribution is similar to each other. Generally, comparing to quadratic cost function, cross entropy cost function has the advantages that fast convergence and is more likely to reach the global optimization. For the mathematical details, see [wikipedia](https://en.wikipedia.org/wiki/Cross_entropy)."
   ]
  },
  {
   "cell_type": "markdown",
   "metadata": {},
   "source": [
    "### Backward Propagation\n",
    "*Backward Propagation* is used to calculate the the gradient of the *Loss* function with respect to the various paramaters, as follows:\n",
    "\n",
    "<img src=\"images/backprop_kiank.png\" style=\"width:900px;height:1200;\">\n",
    "\n",
    "#### Non-Linear Derivative\n",
    "As with *Forward Propagation*, there are two derivative non-linear activation functions for *Sigmoid* and *ReLU* respectivley. If $g(\\cdot)$ is the activations function, then the derivative of *Sigmoid* and *ReLU* compute:\n",
    "$$dZ^{[l]} = \\frac{\\partial\\mathcal{L}}{\\partial Z^{[l]}} = dA^{[l]} \\cdot g^{'}(Z^{[l]})$$\n",
    "\n",
    "#### Linear Derivative\n",
    "Once the derivative of the non-linear activation is computed, the derivatives of $W^{[l]}$, $b^{[l]}$ and $A^{[l]}$, are computed using the input $dZ^{[l]}$, to get , $dW^{[l]}$, $db^{[l]}$, $dA^{[l-1]}$ as follows:\n",
    "\n",
    "$$ dW^{[l]} = \\frac{\\partial \\mathcal{L} }{\\partial W^{[l]}} = \\frac{1}{m} dZ^{[l]} A^{[l-1] T}$$  \n",
    "$$ db^{[l]} = \\frac{\\partial \\mathcal{L} }{\\partial b^{[l]}} = \\frac{1}{m} \\sum_{i = 1}^{m} dZ^{[l](i)}$$  \n",
    "$$ dA^{[l-1]} = \\frac{\\partial \\mathcal{L} }{\\partial A^{[l-1]}} = W^{[l] T} dZ^{[l]}$$  "
   ]
  },
  {
   "cell_type": "markdown",
   "metadata": {},
   "source": [
    "### Parameter Update using Gradient Descent\n",
    "The Model paramaters ($W^{[l]}$ and $b^{[l]}$) are updated using **Gradient Descent** using the following formula:  \n",
    "\n",
    "$$W^{[l]} = W^{[l]} - \\alpha\\cdot dW^{[l]}$$  \n",
    "$$b^{[l]} = b^{[l]} - \\alpha\\cdot db^{[l]}$$  \n",
    "\n",
    "Where $\\alpha$ is the *Learning Rate*."
   ]
  },
  {
   "cell_type": "markdown",
   "metadata": {},
   "source": [
    "### Prediction\n",
    "After the fitted parameters are updated using *Gradient Descent*, the paramaters can be used to predict wether a new image can classified as a **cat** or **non-cat** image. For further information on how the *Prediction* function is user, see the **app** in the repository."
   ]
  },
  {
   "cell_type": "markdown",
   "metadata": {},
   "source": [
    "---\n",
    "## Libraries, Global and Event Variables\n",
    "\n",
    "The cell below imports all the packages that will be needed by the Lambda Function. \n",
    "- [datetime](https://docs.python.org/2/library/datetime.html) provides classes for manipulating dates and times in both simple and complex ways.\n",
    "- [numpy](www.numpy.org) is the fundamental package for scientific computing with Python.\n",
    "- [h5py](http://www.h5py.org) is a common package to interact with a dataset that is stored on an H5 file.\n",
    "- [matplotlib](http://matplotlib.org) is a famous library to plot graphs in Python.\n",
    "- [PIL](http://www.pythonware.com/products/pil/) and [scipy](https://www.scipy.org/) are used here to test your model with your own picture at the end.\n",
    "- [boto3](https://pypi.python.org/pypi/boto3) is the Amazon Web Services (AWS) Software Development Kit (SDK) for Python, which allows Python developers to write software that makes use of services like Amazon S3 and Amazon EC2.\n",
    "- [json](https://docs.python.org/3/library/json.html) is a lightweight data interchange format inspired by JavaScript object literal syntax (although it is not a strict subset of JavaScript.\n",
    "- [os](https://docs.python.org/3/library/os.html) is a module the provides a portable way of using operating system dependent functionality. Particularly the  `environ` object is a nmapping object representing the environment.\n",
    "- [uuid](https://docs.python.org/2/library/uuid.html#uuid.uuid4) creates a unique, random ID.\n",
    "- The [io](https://docs.python.org/2/library/io.html) module provides the Python interfaces to stream handling.\n",
    "- The Python interface to the [Redis](https://pypi.python.org/pypi/redis) key-value store.\n",
    "\n",
    "### Libraries"
   ]
  },
  {
   "cell_type": "code",
   "execution_count": 1,
   "metadata": {
    "collapsed": true
   },
   "outputs": [],
   "source": [
    "# Import Libraries needed by the Lambda Function\n",
    "import datetime\n",
    "import numpy as np\n",
    "import h5py\n",
    "import scipy\n",
    "import os\n",
    "from os import environ\n",
    "import json\n",
    "from json import dumps, loads\n",
    "from boto3 import client, resource, Session\n",
    "import botocore\n",
    "import uuid\n",
    "import io\n",
    "import redis\n",
    "from redis import StrictRedis as redis\n",
    "\n",
    "# Import libraries needed for the Codebook\n",
    "from PIL import Image\n",
    "from scipy import ndimage\n",
    "import matplotlib.pyplot as plt\n",
    "%matplotlib inline"
   ]
  },
  {
   "cell_type": "markdown",
   "metadata": {},
   "source": [
    "### S3 Trigger Event\n",
    "T0 initiate the network training process, the dataset (**datasets.h5**) is uploaded to Amazon Simple Storage Services ([S3](https://aws.amazon.com/s3/)). This porcess triggers the S# bucket event wich starts the trianing process. A sample of the event payload sent to the LNN fromework is as follows:"
   ]
  },
  {
   "cell_type": "code",
   "execution_count": 2,
   "metadata": {
    "collapsed": true
   },
   "outputs": [],
   "source": [
    "# Simulate S3 event trigger data\n",
    "event = {\n",
    "    \"Records\": [\n",
    "        {\n",
    "            \"eventVersion\": \"2.0\",\n",
    "            \"eventTime\": \"1970-01-01T00:00:00.000Z\",\n",
    "            \"requestParameters\": {\n",
    "                \"sourceIPAddress\": \"127.0.0.1\"\n",
    "             },\n",
    "            \"s3\": {\n",
    "                \"configurationId\": \"testConfigRule\",\n",
    "                \"object\": {\n",
    "                    \"eTag\": \"0123456789abcdef0123456789abcdef\",\n",
    "                    \"sequencer\": \"0A1B2C3D4E5F678901\",\n",
    "                    \"key\": \"training_input/datasets.h5\",\n",
    "                    \"size\": 1024\n",
    "                },\n",
    "                \"bucket\": {\n",
    "                    \"arn\": \"arn:aws:s3:::lnn\",\n",
    "                    \"name\": \"lnn\",\n",
    "                    \"ownerIdentity\": {\n",
    "                        \"principalId\": \"EXAMPLE\"\n",
    "                    }\n",
    "                },\n",
    "                \"s3SchemaVersion\": \"1.0\"\n",
    "            },\n",
    "            \"responseElements\": {\n",
    "                \"x-amz-id-2\": \"EXAMPLE123/5678abcdefghijklambdaisawesome/mnopqrstuvwxyzABCDEFGH\",\n",
    "                \"x-amz-request-id\": \"EXAMPLE123456789\"\n",
    "            },\n",
    "            \"awsRegion\": \"us-west-2\",\n",
    "            \"eventName\": \"ObjectCreated:Put\",\n",
    "            \"userIdentity\": {\n",
    "                \"principalId\": \"EXAMPLE\"\n",
    "            },\n",
    "            \"eventSource\": \"aws:s3\"\n",
    "        }\n",
    "    ]\n",
    "}\n",
    "context = ''"
   ]
  },
  {
   "cell_type": "markdown",
   "metadata": {},
   "source": [
    ">**Note:** For this version of the implementation, the S3 Bucket is called **lnn** and the folder is called **training_input**."
   ]
  },
  {
   "cell_type": "markdown",
   "metadata": {},
   "source": [
    "To establish client connectivity to the various AWS services that the function will leverage, the following code creates the needed clients for the various AWS services, as global variables.\n",
    "\n",
    "### Global Variables"
   ]
  },
  {
   "cell_type": "code",
   "execution_count": 3,
   "metadata": {
    "collapsed": true
   },
   "outputs": [],
   "source": [
    "# Global Variables\n",
    "s3_client = client('s3', region_name='us-west-2') # S3 low level class object\n",
    "s3_resource = resource('s3') # S3 high level service class\n",
    "lambda_client = client('lambda', region_name='us-west-2') # Lambda invocation client\n",
    "redis_client = client('elasticache', region_name='us-west-2') # ElastiCache low level object\n",
    "\n",
    "# Find and retrieve the Elasticache Cluster endpoint\n",
    "cc = redis_client.describe_cache_clusters(ShowCacheNodeInfo=True)\n",
    "endpoint = cc['CacheClusters'][0]['CacheNodes'][0]['Endpoint']['Address']\n",
    "cache = redis(host=endpoint, port=6379, db=0) # Connect Python to Redis Cluster"
   ]
  },
  {
   "cell_type": "markdown",
   "metadata": {},
   "source": [
    "---\n",
    "## Data Overview\n",
    "### Training and Test Datasets\n",
    "It is **very important** in Neural Network programming (without the useof a Deep Learning Framework), to have a full understanding of the dimensions of the input data as well as how the dimensions are transformed at each layer, therefore to build a simple image-recognition algorithm that can correctly classify pictures as cat or non-cat, the following cells explain the datsets.\n",
    "\n",
    "To train the Neural Network, we are provided with a dataset (`datasets.h5`) contaning:\n",
    "- a training set of $m$ images containing cats and non-cats as well as the appropriate class labels ($y=1$) and non-cat images ($y=0$).\n",
    "- a test set of $m$ images containing cats and non-cat sas well as the appropriate class labels ($y=1$) and non-cat images ($y=0$).\n",
    "- classes list for cat and non-cat images.\n",
    "\n",
    ">**Note:** The original dataset was comprised of two seprate files, `test_catvnoncat.h5` and `train_catvnoncat.h5`. For the sake of this implementation a single file is needed to upload to the *S3 Bucket*, `datasets.h5`."
   ]
  },
  {
   "cell_type": "code",
   "execution_count": 4,
   "metadata": {},
   "outputs": [
    {
     "name": "stdout",
     "output_type": "stream",
     "text": [
      "list_classes\n",
      "test_set_x\n",
      "test_set_y\n",
      "train_set_x\n",
      "train_set_y\n"
     ]
    }
   ],
   "source": [
    "# Load main dataset that's stored locally\n",
    "dataset = h5py.File('datasets/datasets.h5', \"r\")\n",
    "\n",
    "# Get the names of the unique datsets\n",
    "datasetNames = [n for n in dataset.keys()]\n",
    "for n in datasetNames:\n",
    "    print(n)"
   ]
  },
  {
   "cell_type": "code",
   "execution_count": 5,
   "metadata": {
    "collapsed": true
   },
   "outputs": [],
   "source": [
    "# Create numpy arrays of the various unique datasets\n",
    "train_set_x_orig = np.array(dataset[\"train_set_x\"][:]) # train set features\n",
    "train_set_y_orig = np.array(dataset[\"train_set_y\"][:]) # train set labels\n",
    "test_set_x_orig = np.array(dataset[\"test_set_x\"][:]) # test set features\n",
    "test_set_y_orig = np.array(dataset[\"test_set_y\"][:]) # test set labels\n",
    "classes = np.array(dataset[\"list_classes\"][:]) # the list of classes"
   ]
  },
  {
   "cell_type": "code",
   "execution_count": 6,
   "metadata": {},
   "outputs": [
    {
     "name": "stdout",
     "output_type": "stream",
     "text": [
      "train_set_x_orig dimensions: (209, 64, 64, 3)\n",
      "train_set_y_orig dimension: (209,)\n",
      "test_set_x_orig dimensions: (50, 64, 64, 3)\n",
      "test_set_y_orig dimensions: (50,)\n"
     ]
    },
    {
     "data": {
      "text/plain": [
       "array([1, 1, 1, 1, 1, 0, 1, 1, 1, 1, 1, 1, 1, 0, 0, 1, 0, 1, 1, 1, 1, 0, 0,\n",
       "       1, 1, 1, 1, 0, 1, 0, 1, 1, 1, 1, 0, 0, 0, 1, 0, 0, 1, 1, 1, 0, 0, 0,\n",
       "       1, 1, 1, 0])"
      ]
     },
     "execution_count": 6,
     "metadata": {},
     "output_type": "execute_result"
    }
   ],
   "source": [
    "# Displaye the dimensions of each unique data set\n",
    "print(\"train_set_x_orig dimensions: \" + str(train_set_x_orig.shape))\n",
    "print(\"train_set_y_orig dimension: \" + str(train_set_y_orig.shape))\n",
    "print(\"test_set_x_orig dimensions: \" + str(test_set_x_orig.shape))\n",
    "print(\"test_set_y_orig dimensions: \" + str(test_set_y_orig.shape))\n",
    "test_set_y_orig"
   ]
  },
  {
   "cell_type": "markdown",
   "metadata": {},
   "source": [
    "From the cell above, the image data (`train_set_x_orig` and `test_set_x_orig`) are 4-dimensional arrays consiting of $209$ training examoples (**m_train**) and $50$ testing images (**m_test**) respecitivaly. Each image is in turn of *height*, *width* and *depth* (**R**ed, **G**reen **B**lue values) of $64 \\times 64 \\times 3$.\n",
    "\n",
    "Additionally, the dimentsion for the labels (`train_set_y_orig` and `test_set_y_orig`) only show a $209$ and $50$ column structure. So it is recommended when coding new networks, don't use data structures where the shape is $5$, or $n$, rank 1 array. Instead, this is set to, `(1, 209)` and `(1, 50)`, to make them a **row vector**, and in essence add another dimension to the `Numpy` array."
   ]
  },
  {
   "cell_type": "code",
   "execution_count": 7,
   "metadata": {
    "collapsed": true
   },
   "outputs": [],
   "source": [
    "# Create row vectors for the labels.\n",
    "train_set_y = train_set_y_orig.reshape((1, train_set_y_orig.shape[0]))\n",
    "test_set_y = test_set_y_orig.reshape((1, test_set_y_orig.shape[0]))"
   ]
  },
  {
   "cell_type": "code",
   "execution_count": 8,
   "metadata": {},
   "outputs": [
    {
     "name": "stdout",
     "output_type": "stream",
     "text": [
      "train_set_y dimensions: (1, 209)\n",
      "test_set_y dimensions: (1, 50)\n"
     ]
    },
    {
     "data": {
      "text/plain": [
       "array([[1, 1, 1, 1, 1, 0, 1, 1, 1, 1, 1, 1, 1, 0, 0, 1, 0, 1, 1, 1, 1, 0,\n",
       "        0, 1, 1, 1, 1, 0, 1, 0, 1, 1, 1, 1, 0, 0, 0, 1, 0, 0, 1, 1, 1, 0,\n",
       "        0, 0, 1, 1, 1, 0]])"
      ]
     },
     "execution_count": 8,
     "metadata": {},
     "output_type": "execute_result"
    }
   ],
   "source": [
    "print(\"train_set_y dimensions: \" + str(train_set_y.shape))\n",
    "print(\"test_set_y dimensions: \" + str(test_set_y.shape))\n",
    "test_set_y"
   ]
  },
  {
   "cell_type": "markdown",
   "metadata": {},
   "source": [
    ">**Note:** Now that the additional dimension has been added to the label data, we can note the additional \"[[ ]]\" when displaying the array.\n",
    "\n",
    "Next we can see the label data and view the corresponding image, in this case, $index = 2$."
   ]
  },
  {
   "cell_type": "code",
   "execution_count": 9,
   "metadata": {},
   "outputs": [
    {
     "name": "stdout",
     "output_type": "stream",
     "text": [
      "y = [1], and therefore it's a 'cat' picture.\n"
     ]
    },
    {
     "data": {
      "image/png": "[encoded data removed]",
      "text/plain": [
       "<matplotlib.figure.Figure at 0x7f8db9bd3588>"
      ]
     },
     "metadata": {},
     "output_type": "display_data"
    }
   ],
   "source": [
    "# Example of a cat picture\n",
    "index = 2\n",
    "plt.imshow(train_set_x_orig[index])\n",
    "print (\"y = \" + str(train_set_y[:, index]) + \\\n",
    "       \", and therefore it's a '\" + \\\n",
    "       classes[np.squeeze(train_set_y[:, index])].decode(\"utf-8\") + \\\n",
    "       \"' picture.\")"
   ]
  },
  {
   "cell_type": "markdown",
   "metadata": {},
   "source": [
    "The `np.squeeze()` method extracts the \" inner dimension\" of the array, for example:"
   ]
  },
  {
   "cell_type": "code",
   "execution_count": 10,
   "metadata": {},
   "outputs": [
    {
     "data": {
      "text/plain": [
       "array([1])"
      ]
     },
     "execution_count": 10,
     "metadata": {},
     "output_type": "execute_result"
    }
   ],
   "source": [
    "train_set_y[:, index]"
   ]
  },
  {
   "cell_type": "code",
   "execution_count": 11,
   "metadata": {},
   "outputs": [
    {
     "data": {
      "text/plain": [
       "array(1)"
      ]
     },
     "execution_count": 11,
     "metadata": {},
     "output_type": "execute_result"
    }
   ],
   "source": [
    "np.squeeze(train_set_y[:, index])"
   ]
  },
  {
   "cell_type": "markdown",
   "metadata": {
    "collapsed": true
   },
   "source": [
    ">**Note:** The \"[ ]\" has been removed.\n",
    "\n",
    "\n",
    "### Data Preprocessing\n",
    "The final model is expecting a traing set and a test set represented by a numpy array of shape (no. pixels $\\times$ no. pixels $\\times$ depth, data set size) respectivley. In turn, the model is expecting the training set and test set labels represented as a numpy array (vector) of shape (1, data set size) respectivley.\n",
    "\n",
    ">**Note:** It is not determined as yet wether the \"vectorization\" of the images should be performed by the `TrainerLambda` to set up the inputs for *Layer 0*. For the sake of Version 1.0, the preprocessing of the input data will be performed by `launch.py` as various helper functions.\n",
    "\n",
    "#### Vectorize\n",
    "The images are represented by a 3D array of shape $(length, height, depth = 3)$. However, when an image is read as the input of an algorithm it is converted to a vector of shape $(length*height*3, 1)$. In other words, it is \"unrolled\", \"flattened\" or \"reshaped\" from a 3D array into a 1D vector as can be seen below.\n",
    "\n",
    "<img src=\"images/vectorization.png\" style=\"width:500px;height:300;\">\n",
    "\n",
    "The following cells show explais of this process using the `train_set_x_orig` numpy array. The end result for the input to the model is a is a numpy array where where each column represents a flattenned image in a matrix with all the inpute features (images) being a colum, $209$ for the training set and $50$ for the test set repsectivley."
   ]
  },
  {
   "cell_type": "code",
   "execution_count": 12,
   "metadata": {},
   "outputs": [
    {
     "name": "stdout",
     "output_type": "stream",
     "text": [
      "Original shape: (209, 64, 64, 3)\n",
      "Flattened shape: (209, 12288)\n",
      "Transpose: (12288, 209)\n"
     ]
    }
   ],
   "source": [
    "# Copy of origional training set\n",
    "orig = train_set_x_orig\n",
    "print(\"Original shape: \" + str(orig.shape))\n",
    "\n",
    "# \"vectorize\" or flatten out the array into an 1D vector\n",
    "flatten = orig.reshape(orig.shape[0], -1)\n",
    "print(\"Flattened shape: \"+ str(flatten.shape))\n",
    "\n",
    "# Transpose into a colums\n",
    "flatten_T = flatten.T\n",
    "print(\"Transpose: \" + str(flatten_T.shape))"
   ]
  },
  {
   "cell_type": "markdown",
   "metadata": {},
   "source": [
    ">**Note:** For further intuation of what the above code is doing, the following shows a more \"manual\", alternate way.\n",
    "\n",
    "#### Standardize\n",
    "To represent color images, the red, green and blue channels (RGB) must be specified for each pixel, and so the pixel value is actually a vector of three numbers ranging from $0$ to $255$. One common preprocessing step in machine learning is to substract the mean of the whole numpy array from each example, and then divide each example by the standard deviation of the whole numpy array. But for picture datasets, it is simpler and more convenient and works almost as well to just divide every row of the dataset by $255$ (the maximum value of a pixel channel). \n",
    "\n",
    ">**Note:** During the training of the model, the weights willbe multiplied and biases added to the initial inputs in order to observe neuron activations. Then it will backpropogate with the gradients to train the model. But, it is extremely important for each feature to have a similar range such that our gradients don't explode. "
   ]
  },
  {
   "cell_type": "code",
   "execution_count": 13,
   "metadata": {},
   "outputs": [
    {
     "name": "stdout",
     "output_type": "stream",
     "text": [
      "train_set_x shape: (12288, 209)\n",
      "sample value: 0.266666666667\n"
     ]
    }
   ],
   "source": [
    "# Load datsets for preprocessing after vectorization\n",
    "train_set_x = (train_set_x_orig.reshape(train_set_x_orig.shape[0], -1).T) / 255\n",
    "test_set_x = (test_set_x_orig.reshape(test_set_x_orig.shape[0], -1).T) / 255\n",
    "print(\"train_set_x shape: \" + str(train_set_x.shape))\n",
    "print(\"sample value: \" + str(train_set_x[index][index]))"
   ]
  },
  {
   "cell_type": "markdown",
   "metadata": {},
   "source": [
    "---\n",
    "## Function Overview\n",
    "### Helper Functions\n",
    "#### `to_cache(endpoint, obj, name)`\n",
    "Serializes multiple data type to ElastiCache and returns the Key."
   ]
  },
  {
   "cell_type": "code",
   "execution_count": 14,
   "metadata": {
    "collapsed": true
   },
   "outputs": [],
   "source": [
    "def to_cache(endpoint, obj, name):\n",
    "    \"\"\"\n",
    "    Serializes multiple data type to ElastiCache and returns\n",
    "    the Key.\n",
    "    \n",
    "    Arguments:\n",
    "    endpoint -- The ElastiCache endpoint\n",
    "    obj -- the object to srialize. Can be of type:\n",
    "            - Numpy Array\n",
    "            - Python Dictionary\n",
    "            - String\n",
    "            - Integer\n",
    "    name -- Name of the Key\n",
    "    \n",
    "    Returns:\n",
    "    key -- For each type the key is made up of {name}|{type} and for\n",
    "           the case of Numpy Arrays, the Length and Widtch of the \n",
    "           array are added to the Key.\n",
    "    \"\"\"\n",
    "    \n",
    "    # Test if the object to Serialize is a Numpy Array\n",
    "    if 'numpy' in str(type(obj)):\n",
    "        array_dtype = str(obj.dtype)\n",
    "        if len(obj.shape) == 0:\n",
    "            length = 0\n",
    "            width = 0\n",
    "        else:\n",
    "            length, width = obj.shape\n",
    "        # Convert the array to string\n",
    "        val = obj.ravel().tostring()\n",
    "        # Create a key from the name and necessary parameters from the array\n",
    "        # i.e. {name}|{type}#{length}#{width}\n",
    "        key = '{0}|{1}#{2}#{3}'.format(name, array_dtype, length, width)\n",
    "        # Store the binary string to Redis\n",
    "        cache = redis(host=endpoint, port=6379, db=0)\n",
    "        cache.set(key, val)\n",
    "        return key\n",
    "    # Test if the object to serialize is a string\n",
    "    elif type(obj) is str:\n",
    "        key = '{0}|{1}'.format(name, 'string')\n",
    "        val = obj\n",
    "        cache = redis(host=endpoint, port=6379, db=0)\n",
    "        cache.set(key, val)\n",
    "        return key\n",
    "    # Test if the object to serialize is an integer\n",
    "    elif type(obj) is int:\n",
    "        key = '{0}|{1}'.format(name, 'int')\n",
    "        # Convert to a string\n",
    "        val = str(obj)\n",
    "        cache = redis(host=endpoint, port=6379, db=0)\n",
    "        cache.set(key, val)\n",
    "        return key\n",
    "    # Test if the object to serialize is a dictionary\n",
    "    elif type(obj) is dict:\n",
    "        # Convert the dictionary to a String\n",
    "        val = json.dumps(obj)\n",
    "        key = '{0}|{1}'.format(name, 'json')\n",
    "        cache = redis(host=endpoint, port=6379, db=0)\n",
    "        cache.set(key, val)\n",
    "        return key\n",
    "    else:\n",
    "        print(str(type(obj)) + \"is not a supported serialization type\")"
   ]
  },
  {
   "cell_type": "markdown",
   "metadata": {},
   "source": [
    "#### `from_cache(endpoint, key)`\n",
    "De-serializes binary object from ElastiCache by reading the type of object from the name and converting it to the appropriate data type."
   ]
  },
  {
   "cell_type": "code",
   "execution_count": 15,
   "metadata": {
    "collapsed": true
   },
   "outputs": [],
   "source": [
    "def from_cache(endpoint, key):\n",
    "    \"\"\"\n",
    "    De-serializes binary object from ElastiCache by reading\n",
    "    the type of object from the name and converting it to\n",
    "    the appropriate data type\n",
    "    \n",
    "    Arguments:\n",
    "    endpoint -- ElastiCacheendpoint\n",
    "    key -- Name of the Key to retrieve the object\n",
    "    \n",
    "    Returns:\n",
    "    obj -- The object converted to specifed data type\n",
    "    \"\"\"\n",
    "    \n",
    "    # Check if the Key is for a Numpy array containing\n",
    "    # `float64` data types\n",
    "    if 'float64' in key:\n",
    "        cache = redis(host=endpoint, port=6379, db=0)\n",
    "        val = cache.get(key)\n",
    "        # De-serialize the value\n",
    "        array_dtype, length, width = key.split('|')[1].split('#')\n",
    "        if int(length) == 0:\n",
    "            obj = np.float64(np.fromstring(val))\n",
    "        else:\n",
    "            obj = np.fromstring(val, dtype=array_dtype).reshape(int(length), int(width))\n",
    "        return obj\n",
    "    # Check if the Key is for a Numpy array containing\n",
    "    # `int64` data types\n",
    "    elif 'int64' in key:\n",
    "        cache = redis(host=endpoint, port=6379, db=0)\n",
    "        val = cache.get(key)\n",
    "        # De-serialize the value\n",
    "        array_dtype, length, width = key.split('|')[1].split('#')\n",
    "        obj = np.fromstring(val, dtype=array_dtype).reshape(int(length), int(width))\n",
    "        return obj\n",
    "    # Check if the Key is for a json type\n",
    "    elif 'json' in key:\n",
    "        cache = redis(host=endpoint, port=6379, db=0)\n",
    "        obj = cache.get(key)\n",
    "        return json.loads(obj)\n",
    "    # Chec if the Key is an integer\n",
    "    elif 'int' in key:\n",
    "        cache = redis(host=endpoint, port=6379, db=0)\n",
    "        obj = cache.get(key)\n",
    "        return int(obj)\n",
    "    # Check if the Key is a string\n",
    "    elif 'string' in key:\n",
    "        cache = redis(host=endpoint, port=6379, db=0)\n",
    "        obj = cache.get(key)\n",
    "        return obj\n",
    "    else:\n",
    "        print(str(type(obj)) + \"is not a supported serialization type\")"
   ]
  },
  {
   "cell_type": "markdown",
   "metadata": {},
   "source": [
    "#### `name2str(obj, namespace)`\n",
    "Converts the name of the numpy array to string."
   ]
  },
  {
   "cell_type": "code",
   "execution_count": 16,
   "metadata": {
    "collapsed": true
   },
   "outputs": [],
   "source": [
    "def name2str(obj, namespace):\n",
    "    \"\"\"\n",
    "    Converts the name of the numpy array to string\n",
    "    \n",
    "    Arguments:\n",
    "    obj -- Numpy array object\n",
    "    namespace -- dictionary of the current global symbol table\n",
    "    \n",
    "    Return:\n",
    "    List of the names of the Numpy arrays\n",
    "    \"\"\"\n",
    "    return [name for name in namespace if namespace[name] is obj]"
   ]
  },
  {
   "cell_type": "markdown",
   "metadata": {},
   "source": [
    ">**Side Note**: An alternate method to *List Comprehension* is to use the `chain()` function to get the names of the Numpy arrays.\n",
    "```python\n",
    "from itertools import chain\n",
    "list(chain.from_iterable(a_names))\n",
    "```"
   ]
  },
  {
   "cell_type": "markdown",
   "metadata": {},
   "source": [
    "#### `vectorize()`\n",
    "Reshapes (flattens) the image data to column vector."
   ]
  },
  {
   "cell_type": "code",
   "execution_count": 17,
   "metadata": {
    "collapsed": true
   },
   "outputs": [],
   "source": [
    "def vectorize(x_orig):\n",
    "    \"\"\"\n",
    "    Vectorize the image data into a matrix of column vectors\n",
    "    \n",
    "    Argument:\n",
    "    x_orig -- Numpy array of image data\n",
    "    \n",
    "    Return:\n",
    "    Reshaped/Transposed Numpy array\n",
    "    \"\"\"\n",
    "    return x_orig.reshape(x_orig.shape[0], -1).T"
   ]
  },
  {
   "cell_type": "markdown",
   "metadata": {},
   "source": [
    "#### `standardize()`\n",
    "Preprocess the image data."
   ]
  },
  {
   "cell_type": "code",
   "execution_count": 18,
   "metadata": {
    "collapsed": true
   },
   "outputs": [],
   "source": [
    "def standardize(x_orig):\n",
    "    \"\"\"\n",
    "    Standardize the input data\n",
    "    \n",
    "    Argument:\n",
    "    x_orig -- Numpy array of image data\n",
    "    \n",
    "    Return:\n",
    "    Call to `vectorize()`, stndrdized Numpy array of image data\n",
    "    \"\"\"\n",
    "    return vectorize(x_orig) / 255"
   ]
  },
  {
   "cell_type": "markdown",
   "metadata": {},
   "source": [
    "#### `initialize_data(endpoint, parameters)`\n",
    "Extracts the training and testing data from S3, flattens, standardizes and then dumps the data to ElastiCache for neurons to process as layer $a^0$."
   ]
  },
  {
   "cell_type": "code",
   "execution_count": 19,
   "metadata": {
    "collapsed": true
   },
   "outputs": [],
   "source": [
    "def initialize_data(endpoint, parameters):\n",
    "    \"\"\"\n",
    "    Extracts the training and testing data from S3, flattens, \n",
    "    standardizes and then dumps the data to ElastiCache \n",
    "    for neurons to process as layer a^0.\n",
    "    \n",
    "    Arguments:\n",
    "    endpoint -- The ElastiCache endpoint\n",
    "    parameters -- The initial/running parameters dictionary object\n",
    "    \n",
    "    Returns:\n",
    "    data_keys -- Hash keys for the various numpy arrays\n",
    "    input_data -- Reference for the Input data extracted for the h5 file\n",
    "    dims -- Referenece to the dimensions of the input data\n",
    "    \"\"\"\n",
    "    \n",
    "    # Load main dataset\n",
    "    dataset = h5py.File('/tmp/datasets.h5', \"r\")\n",
    "    \n",
    "    # Create numpy arrays from the various h5 datasets\n",
    "    train_set_x_orig = np.array(dataset[\"train_set_x\"][:]) # train set features\n",
    "    train_set_y_orig = np.array(dataset[\"train_set_y\"][:]) # train set labels\n",
    "    test_set_x_orig = np.array(dataset[\"test_set_x\"][:]) # test set features\n",
    "    test_set_y_orig = np.array(dataset[\"test_set_y\"][:]) # test set labels\n",
    "    \n",
    "    # Reshape labels\n",
    "    train_set_y = train_set_y_orig.reshape((1, train_set_y_orig.shape[0]))\n",
    "    test_set_y = test_set_y_orig.reshape((1, test_set_y_orig.shape[0]))\n",
    "\n",
    "    # Preprocess inputs\n",
    "    train_set_x = standardize(train_set_x_orig)\n",
    "    test_set_x = standardize(test_set_x_orig)\n",
    "    \n",
    "    # Create necessary keys for the data in ElastiCache\n",
    "    data_keys = {} # Dictionary for the hask keys of the data set\n",
    "    dims = {} # Dictionary of data set dimensions\n",
    "    a_list = [train_set_x, train_set_y, test_set_x, test_set_y]\n",
    "    a_names = [] # Placeholder for array names\n",
    "    for i in range(len(a_list)):\n",
    "        # Create a lis of the names of the numpy arrays\n",
    "        a_names.append(name2str(a_list[i], locals()))\n",
    "    for j in range(len(a_list)):\n",
    "        # Dump the numpy arrays to ElastiCache\n",
    "        data_keys[str(a_names[j][0])] = to_cache(endpoint=endpoint, obj=a_list[j], name=a_names[j][0])\n",
    "        # Append the array dimensions to the list\n",
    "        dims[str(a_names[j][0])] = a_list[j].shape\n",
    "    \n",
    "    # Initialize A0 and Y names from `train_setx` and `train_set_y`\n",
    "    data_keys['A0'] = to_cache(endpoint=endpoint, obj=train_set_x, name='A0')\n",
    "    data_keys['Y'] = to_cache(endpoint=endpoint, obj=train_set_y, name='Y')\n",
    "    # Initialize training example size\n",
    "    m = train_set_x.shape[1]\n",
    "    data_keys['m'] = to_cache(endpoint, obj=m, name='m')\n",
    "    \n",
    "    # Multiple layer weight and bias initialization\n",
    "    for l in range(1, parameters['layers']+1):\n",
    "        if l == 1:\n",
    "            W = np.random.randn(parameters['neurons']['layer'+str(l)], train_set_x.shape[0]) / np.sqrt(train_set_x.shape[0])\n",
    "        else:\n",
    "            W = np.random.randn(parameters['neurons']['layer'+str(l)], parameters['neurons']['layer'+str(l-1)]) / np.sqrt(parameters['neurons']['layer'+str(l-1)])\n",
    "        b = np.zeros((parameters['neurons']['layer'+str(l)], 1))\n",
    "        # Store the initial weights and bias in ElastiCache\n",
    "        data_keys['W'+str(l)] = to_cache(endpoint=endpoint, obj=W, name='W'+str(l))\n",
    "        data_keys['b'+str(l)] = to_cache(endpoint=endpoint, obj=b, name='b'+str(l))\n",
    "    \n",
    "    # Initialize the results tracking object\n",
    "    results = {}\n",
    "    data_keys['results'] = to_cache(endpoint, obj=results, name='results')\n",
    "\n",
    "    return data_keys, [j for i in a_names for j in i], dims"
   ]
  },
  {
   "cell_type": "markdown",
   "metadata": {},
   "source": [
    "#### `numpy2s3(array, name, bucket)`\n",
    "Serialize a Numpy array to S3 without using local copy"
   ]
  },
  {
   "cell_type": "code",
   "execution_count": 20,
   "metadata": {
    "collapsed": true
   },
   "outputs": [],
   "source": [
    "def numpy2s3(array, name, bucket):\n",
    "    \"\"\"\n",
    "    Serialize a Numpy array to S3 without using local copy\n",
    "    \n",
    "    Arguments:\n",
    "    array -- Numpy array of any shape\n",
    "    name -- filename on S3\n",
    "    bucket -- S3 Bucket name\n",
    "    \"\"\"\n",
    "    f_out = io.BytesIO()\n",
    "    np.save(f_out, array)\n",
    "    try:\n",
    "        s3_client.put_object(Key=name, Bucket=bucket, Body=f_out.getvalue(), ACL='bucket-owner-full-control')\n",
    "    except botocore.exceptions.ClientError as e:\n",
    "        print(e)"
   ]
  },
  {
   "cell_type": "markdown",
   "metadata": {},
   "source": [
    "#### `start_epoch(epoch, layer, parameter_key)`\n",
    "Starts a new epoch and configures the necessary state tracking objects."
   ]
  },
  {
   "cell_type": "code",
   "execution_count": 21,
   "metadata": {
    "collapsed": true
   },
   "outputs": [],
   "source": [
    "def start_epoch(epoch, layer, parameter_key):\n",
    "    \"\"\"\n",
    "    Starts a new epoch and configures the necessary state tracking objcts.\n",
    "    \n",
    "    Arguments:\n",
    "    epoch -- Integer representing the \"current\" epoch.\n",
    "    layer -- Integer representing the current hidden layer.\n",
    "    \"\"\"\n",
    "\n",
    "    # Initialize the results object for the new epoch\n",
    "    parameters = from_cache(endpoint=endpoint, key=parameter_key)\n",
    "    \n",
    "    # Add current epoch to results\n",
    "    epoch2results = from_cache(endpoint=endpoint, key=parameters['data_keys']['results'])\n",
    "    epoch2results['epoch' + str(epoch)] = {}\n",
    "    parameters['data_keys']['results'] = to_cache(endpoint=endpoint, obj=epoch2results, name='results')\n",
    "   \n",
    "    # Update paramaters with this functions data\n",
    "    parameters['epoch'] = epoch\n",
    "    parameters['layer'] = layer\n",
    "    parameter_key = to_cache(endpoint=endpoint, obj=parameters, name='parameters')\n",
    "    \n",
    "    # Start forwardprop\n",
    "    propogate(direction='forward', epoch=epoch, layer=layer+1, parameter_key=parameter_key)"
   ]
  },
  {
   "cell_type": "markdown",
   "metadata": {},
   "source": [
    "#### `end(parameter_key)`\n",
    "Finishes the oveall training sequence and saves the \"optmized\" weights and bias to S3, for the prediction aplication."
   ]
  },
  {
   "cell_type": "code",
   "execution_count": 22,
   "metadata": {
    "collapsed": true
   },
   "outputs": [],
   "source": [
    "def end(parameter_key):\n",
    "    \"\"\"\n",
    "    Finishes the oveall training sequence and saves the \"optmized\" \n",
    "    weights and bias to S3, for the prediction aplication.\n",
    "    \n",
    "    Arguments:\n",
    "    parameter_key -- The ElastiCache key for the current set of state parameters.\n",
    "    \"\"\"\n",
    "    \n",
    "    # Get the latest parameters\n",
    "    parameters = from_cache(\n",
    "        endpoint=endpoint,\n",
    "        key=parameter_key\n",
    "    )\n",
    "\n",
    "    # Get the results key\n",
    "    final_results = from_cache(\n",
    "        endpoint=endpoint,\n",
    "        key=parameters['data_keys']['results']\n",
    "    )\n",
    "    # Upload the final results to S3\n",
    "    bucket = parameters['s3_bucket']\n",
    "    results_obj = s3_resource.Object(bucket,'training_results/results.json')\n",
    "    try:\n",
    "        results_obj.put(Body=json.dumps(final_results))\n",
    "    except botocore.exceptions.ClientError as e:\n",
    "        print(e)\n",
    "        raise\n",
    "    \n",
    "    # Get the final weights and bias for each layer and upload them to S3 for\n",
    "    # use by the prediction app\n",
    "    for l in range(1, parameters['layers']+1):\n",
    "        W = from_cache(endpoint=endpoint, key=parameters['data_keys']['W'+str(l)])\n",
    "        b = from_cache(endpoint=endpoint, key=parameters['data_keys']['b'+str(l)])\n",
    "        # Put the weights and bias onto S3 for prediction\n",
    "        numpy2s3(array=W, name='predict_input/W'+str(l), bucket=bucket)\n",
    "        numpy2s3(array=b, name='predict_input/b'+str(l), bucket=bucket)\n",
    "\n",
    "    print(\"Training Completed Successfully!\")"
   ]
  },
  {
   "cell_type": "markdown",
   "metadata": {},
   "source": [
    "#### `propogate(direction, epoch, layer, parameter_key)`\n",
    "Determines the amount of \"hidden\" units based on the layer and loops through launching the necessary `NeuronLambda` functions with the appropriate state or \"direction\" to propogate."
   ]
  },
  {
   "cell_type": "code",
   "execution_count": 23,
   "metadata": {
    "collapsed": true
   },
   "outputs": [],
   "source": [
    "def propogate(direction, epoch, layer, parameter_key):\n",
    "    \"\"\"\n",
    "    Determines the amount of \"hidden\" units based on the layer and loops\n",
    "    through launching the necessary `NeuronLambda` functions with the \n",
    "    appropriate state. Each `NeuronLambda` implements the cost function \n",
    "    OR the gradients depending on the direction.\n",
    "\n",
    "    Arguments:\n",
    "    direction -- The current direction of the propogation, either `forward` or `backward`.\n",
    "    epoch -- Integer representing the \"current\" epoch to close out.\n",
    "    layer -- Integer representing the current hidden layer.\n",
    "\n",
    "    Note: When launching NeuronLambda with multiple hidden unit,\n",
    "    remember to assign an ID, also remember to start at 1\n",
    "    and not 0. for example:\n",
    "    num_hidden_units = 5\n",
    "    for i in range(1, num_hidden_units + 1):\n",
    "        # Do stuff\n",
    "    \"\"\"\n",
    "    \n",
    "    # Get the parameters for the layer\n",
    "    parameters = from_cache(endpoint=endpoint, key=parameter_key)\n",
    "    num_hidden_units = parameters['neurons']['layer' + str(layer)]\n",
    "    \n",
    "    # Build the NeuronLambda payload\n",
    "    payload = {}\n",
    "    # Add the parameters to the payload\n",
    "    payload['state'] = direction\n",
    "    payload['parameter_key'] = parameter_key\n",
    "    payload['epoch'] = epoch\n",
    "    payload['layer'] = layer\n",
    "\n",
    "    # Determine process based on direction\n",
    "    if direction == 'forward':\n",
    "        # Launch Lambdas to propogate forward\n",
    "        # Prepare the payload for `NeuronLambda`\n",
    "        # Update parameters with this function's updates\n",
    "        parameters['epoch'] = epoch\n",
    "        parameters['layer'] = layer\n",
    "        payload['parameter_key'] = to_cache(endpoint=endpoint, obj=parameters, name='parameters')\n",
    "\n",
    "        # Debug Statements\n",
    "        #print(\"Starting Forward Propogation for epoch \" + str(epoch) + \", layer \" + str(layer))\n",
    "\n",
    "        for i in range(1, num_hidden_units + 1):\n",
    "            # Prepare the payload for `NeuronLambda`\n",
    "            payload['id'] = i\n",
    "            if i == num_hidden_units:\n",
    "                payload['last'] = \"True\"\n",
    "            else:\n",
    "                payload['last'] = \"False\"\n",
    "            payload['activation'] = parameters['activations']['layer' + str(layer)]\n",
    "            #payloadbytes = dumps(payload)\n",
    "            # Debug Styatements\n",
    "            #print(\"Payload to be sent NeuronLambda: \\n\" + dumps(payload, indent=4, sort_keys=True))\n",
    "            neuron_handler(event=payload, context='')\n",
    "        \n",
    "        return\n",
    "    \n",
    "    elif direction == 'backward':\n",
    "        # Launch Lambdas to propogate backward        \n",
    "        # Prepare the payload for `NeuronLambda`\n",
    "        # Update parameters with this functions updates\n",
    "        parameters['epoch'] = epoch\n",
    "        parameters['layer'] = layer\n",
    "        payload['parameter_key'] = to_cache(endpoint=endpoint, obj=parameters, name='parameters')\n",
    "\n",
    "        # Debug Statement\n",
    "        #print(\"Starting Backward Propogation for epoch \" + str(epoch) + \", layer \" + str(layer))\n",
    "\n",
    "        for i in range(1, num_hidden_units + 1):\n",
    "            # Prepare the payload for `NeuronLambda`\n",
    "            payload['id'] = i\n",
    "            if i == num_hidden_units:\n",
    "                payload['last'] = \"True\"\n",
    "            else:\n",
    "                payload['last'] = \"False\"\n",
    "            payload['activation'] = parameters['activations']['layer' + str(layer)]\n",
    "            payloadbytes = dumps(payload)\n",
    "            # Debug ststements\n",
    "            #print(\"Payload to be sent to NeuronLambda: \\n\" + dumps(payload, indent=4, sort_keys=True))\n",
    "            \n",
    "            neuron_handler(event=payload, context='')\n",
    "        \n",
    "        return\n",
    "    \n",
    "    else:\n",
    "        raise"
   ]
  },
  {
   "cell_type": "markdown",
   "metadata": {},
   "source": [
    "#### `sigmoid(z)`\n",
    "Computes the sigmoid of `z`."
   ]
  },
  {
   "cell_type": "code",
   "execution_count": 24,
   "metadata": {
    "collapsed": true
   },
   "outputs": [],
   "source": [
    "def sigmoid(z):\n",
    "    \"\"\"\n",
    "    Computes the sigmoid of z\n",
    "\n",
    "    Arguments:\n",
    "    z -- A scalar or numpy array of any size\n",
    "\n",
    "    Return:\n",
    "    sigmoid(z)\n",
    "    \"\"\"\n",
    "    return 1.0 / (1.0 + np.exp(-z))"
   ]
  },
  {
   "cell_type": "markdown",
   "metadata": {},
   "source": [
    "#### `sigmoid_backward(dA, z)`\n",
    "Computes the derivative of the sigmoid function, given `z`. "
   ]
  },
  {
   "cell_type": "code",
   "execution_count": 25,
   "metadata": {
    "collapsed": true
   },
   "outputs": [],
   "source": [
    "def sigmoid_backward(dA, z):\n",
    "    \"\"\"\n",
    "    Implement the derivative of the sigmoid function\n",
    "\n",
    "    Arguments:\n",
    "    dA -- Post-activation gradient, of any shape\n",
    "    z -- Cached linear activation from Forward prop\n",
    "\n",
    "    Returns:\n",
    "    dZ -- Gradient of the Cost with respect to z\n",
    "    \"\"\"\n",
    "    s = 1. / (1. + np.exp(-z))\n",
    "    dZ = dA * s * (1 - s)\n",
    "    # Debug statement\n",
    "    assert(dZ.shape == z.shape)\n",
    "    return dZ"
   ]
  },
  {
   "cell_type": "markdown",
   "metadata": {},
   "source": [
    "#### `relu(z)`\n",
    "Implements the Rectified Linear Unit function of `z`."
   ]
  },
  {
   "cell_type": "code",
   "execution_count": 26,
   "metadata": {
    "collapsed": true
   },
   "outputs": [],
   "source": [
    "def relu(z):\n",
    "    \"\"\"\n",
    "    Implement the ReLU function.\n",
    "\n",
    "    Arguments:\n",
    "    z -- Output of the linear layer, of any shape\n",
    "\n",
    "    Returns:\n",
    "    a -- Post-activation parameter, of the same shape as z\n",
    "    \"\"\"\n",
    "    a = np.maximum(0, z)\n",
    "    assert(a.shape == z.shape)\n",
    "    return a"
   ]
  },
  {
   "cell_type": "markdown",
   "metadata": {},
   "source": [
    "#### `relu_backward(dA, z)`\n",
    "Implement the backward propagation for a single ReLU unit."
   ]
  },
  {
   "cell_type": "code",
   "execution_count": 27,
   "metadata": {
    "collapsed": true
   },
   "outputs": [],
   "source": [
    "def relu_backward(dA, z):\n",
    "    \"\"\"\n",
    "    Implement the backward propagation for a single ReLU unit.\n",
    "\n",
    "    Arguments:\n",
    "    dA -- Post-activation gradient, of any shape\n",
    "    z -- Cached linear activation from Forward propagation\n",
    "\n",
    "    Returns:\n",
    "    dz -- Gradient of the cost with respect to z\n",
    "    \"\"\"\n",
    "    dz = np.array(dA, copy=True) # just converting dz to a correct object.\n",
    "    # When z <= 0, you should set dz to 0 as well. \n",
    "    dz[z <= 0] = 0\n",
    "    assert (dz.shape == z.shape)\n",
    "    return dz"
   ]
  },
  {
   "cell_type": "markdown",
   "metadata": {},
   "source": [
    "#### `vectorizer(Outputs, Layer)`"
   ]
  },
  {
   "cell_type": "code",
   "execution_count": 28,
   "metadata": {
    "collapsed": true
   },
   "outputs": [],
   "source": [
    "def vectorizer(Outputs, Layer):\n",
    "    \"\"\"\n",
    "    Creates a matrix of the individual neuron output for better vectorization\n",
    "    \n",
    "    Arguments:\n",
    "    Outputs -- ElastiCache key to search for the data from `NeuronLambda`\n",
    "               e.g. 'a' for activations; 'dw' for Weight Derivatives\n",
    "    Layer -- Layer to search for neuron output that need to vectorized\n",
    "    \n",
    "    Returns:\n",
    "    result -- Matrix matching the size for the entire layer\n",
    "    \"\"\"\n",
    "    # Use the following Redis command to ensure a pure string is return for the key\n",
    "    r = redis(host=endpoint, port=6379, db=0, charset=\"utf-8\", decode_responses=True)\n",
    "    search_results = []\n",
    "    # Compile a list of all the neurons in the search layer based on the search criteria\n",
    "    for n in range(1, parameters['neurons']['layer'+str(Layer)]+1):\n",
    "        tmp = r.keys('layer'+str(Layer)+'_'+str(Outputs)+'_'+str(n)+'|*')\n",
    "        search_results.append(tmp)\n",
    "    # Created an ordered list of neuron data keys\n",
    "    key_list = []\n",
    "    for result in search_results:\n",
    "        key_list.append(result[0])\n",
    "    # Create a dictionary of neuron data\n",
    "    Dict = {}\n",
    "    for data in key_list:\n",
    "        Dict[data] = from_cache(endpoint=endpoint, key=data)\n",
    "    # Number of Neuron Activations for the search layer\n",
    "    num_neurons = parameters['neurons']['layer'+str(Layer)]\n",
    "    # Create a numpy array of the results, depending on the number\n",
    "    # of neurons (a Matrix of Activations)\n",
    "    result = np.array([arr.tolist() for arr in Dict.values()])\n",
    "    if num_neurons == 1:\n",
    "        # Single Neuron Activation\n",
    "        dims = (key_list[0].split('|')[1].split('#')[1:])\n",
    "        result = result.reshape(int(dims[0]), int(dims[1]))\n",
    "    else:\n",
    "        # Multiple Neuron Activcations\n",
    "        result = np.squeeze(result)\n",
    "    \n",
    "    return result"
   ]
  },
  {
   "cell_type": "markdown",
   "metadata": {},
   "source": [
    "### Lambda Handler Functions\n",
    "#### `launch_handler(event, context)`\n",
    "This `lambda_handler()` is triggered by the S3 event where training data is uploaded to S3. It further initiliazes the various components needed, such as:\n",
    "1. State tracking Objects:\n",
    "    - Overall Results (Cost) for each Epoch.\n",
    "    - Gradients for erach layer.\n",
    "    - Initial and updated Weight paramter for each layer.\n",
    "    - Initial and updated Bias parameter for each layer.\n",
    "2. DynamoDB Storage:\n",
    "    - Invoction ID for each Lambda Function invokation to prevent duplicate invocation.\n",
    "    >**Note:** The DynamoDB Initialization is **NOT** recorded within the **Codebook**.\n",
    "3. Preprocessing the Input Data: \n",
    "    - Read in the the initial *training*, *test* of Cat and Non-cat images.\n",
    "    - The function initially loads the data in `h5py` format and extracts the *training* and *test* data.\n",
    "    - The function further performs any standardization and normalization of the input data.\n",
    "    - The function also \"*flattens*\" the data into a column vector, thus performing **Vectorization**.\n",
    "    - This data is dumped to ElastiCache and will thus serve as **Layer 0** of the Neural Network.\n",
    "4. Environment and State Tracking Variables:\n",
    "    - Loading the initial Neural Network Parameters (`parameters.json`) and augmenting these parameter with the state variables during the training process. The settings include overall parameters used by the `trainer` and `neuron` Lambda Functions, such as:\n",
    "        - Total number of epochs/iterations.\n",
    "        - Total number of layers in the Neural Network (including the Output layer).\n",
    "        - Total number of \"neurons\" in each layer.\n",
    "        - The activation function to be used for each layer.\n",
    "    - Initializing the **Hash Keys** for the various data sets in ElastiCache to be used by the subsequent functions to get access to the numpy arrays."
   ]
  },
  {
   "cell_type": "code",
   "execution_count": 29,
   "metadata": {
    "collapsed": true
   },
   "outputs": [],
   "source": [
    "def launch_handler(event, context):\n",
    "    # Retrieve datasets and setting from S3\n",
    "    input_bucket = s3_resource.Bucket(str(event['Records'][0]['s3']['bucket']['name']))\n",
    "    dataset_key = str(event['Records'][0]['s3']['object']['key'])\n",
    "    settings_key = dataset_key.split('/')[-2] + '/parameters.json'\n",
    "    try:\n",
    "        input_bucket.download_file(dataset_key, '/tmp/datasets.h5')\n",
    "        input_bucket.download_file(settings_key, '/tmp/parameters.json')\n",
    "    except botocore.exceptions.ClientError as e:\n",
    "        if e.response['Error']['Code'] == '404':\n",
    "            print(\"Error downloading input data from S3, S3 object does not exist\")\n",
    "        else:\n",
    "            raise\n",
    "    \n",
    "    # Extract the neural network parameters\n",
    "    with open('/tmp/parameters.json') as parameters_file:\n",
    "        parameters = json.load(parameters_file)\n",
    "    \n",
    "    # Build in additional neural network parameters\n",
    "    # Input data sets and data set parameters\n",
    "    parameters['s3_bucket'] = event['Records'][0]['s3']['bucket']['name']\n",
    "    parameters['data_keys'],\\\n",
    "    parameters['input_data'],\\\n",
    "    parameters['dims'] = initialize_data(\n",
    "        endpoint=endpoint,\n",
    "        parameters=parameters\n",
    "    )\n",
    "    \n",
    "    # Initialize payload to `TrainerLambda`\n",
    "    payload = {}\n",
    "    # Initialize the overall state\n",
    "    payload['state'] = 'start'\n",
    "    # Dump the parameters to ElastiCache\n",
    "    payload['parameter_key'] = to_cache(endpoint, obj=parameters, name='parameters')\n",
    "    #payload['endpoint'] = endpoint\n",
    "    # Prepare the payload for `TrainerLambda`\n",
    "    #payloadbytes = dumps(payload)\n",
    "    \n",
    "    # Debug statements\n",
    "    print(\"Complete Neural Network Settings: \\n\")\n",
    "    print(dumps(parameters, indent=4, sort_keys=True))\n",
    "    print(\"Payload to be sent to TrainerLambda: \\n\" + dumps(payload, indent=4, sort_keys=True))\n",
    "    trainer_handler(event=payload, context='')\n",
    "\n",
    "    return"
   ]
  },
  {
   "cell_type": "markdown",
   "metadata": {},
   "source": [
    "#### `trainer_handler(event, context)`\n",
    "This `lambda_handler()` function is the most critical funciton in the set in that it:\n",
    "1. Tracks and updates the state across the interations/epochs and the various layers of the Neural Network.\n",
    "2. Performs Vectorization on the Activation Row Vectors from each Neuron to create a *Matrix* of Activations.\n",
    "3. Launches the various Neurons (`NeuronLamabda`) in each layer and tracks their output for *Forward* or *Backward* propogation.\n",
    "4. Calculates the *Cost* for each interation of *Forward* propogation.\n",
    "5. Performs *Gradient Descent* for each Epoch.\n",
    "\n",
    "In order to accomplish this, the `TrainerLambda` has three possible states, `start`, `forward` and `backward`:\n",
    "1. `start`: This state starts the initial or subsequent training epochs and performs the following:\n",
    "    - Initializes the new weights and bias for the epoch.\n",
    "    - Updates the state table with these values.\n",
    "2. `forward`: This state processes the *forward* porpogation step and launches the various hidden layer Neurons and supplies the necessary state information to these functions, such as:\n",
    "    - Input/Activation data location\n",
    "    - Weights and Bias.\n",
    "    - Hidden Layer No.\n",
    "    - Number of Hidden Units.\n",
    "    - Activation Funciton for the Layer.\n",
    "3. `backward`: This state processes the *back* propogation step and launches the various hidden layer Neurons as well as supplies the necessary information for these functions, like:\n",
    "    - Hidden Layer No.\n",
    "    - Number of Hidden Units.\n",
    "    - Current and previous Activations calculated from the Forward propogation step."
   ]
  },
  {
   "cell_type": "code",
   "execution_count": 30,
   "metadata": {
    "collapsed": true
   },
   "outputs": [],
   "source": [
    "def trainer_handler(event, context):\n",
    "    \"\"\"\n",
    "    1. Processes the `event` vaiables from the various Lambda functions that call it, \n",
    "        i.e. `TrainerLambda` and `NeuronLambda`.\n",
    "    2. Determines the \"current\" state and then directs the next steps.\n",
    "    3. Performs Vectorization from the NeuronLambda Forward propogation outputs.\n",
    "    4. Calculates the Cost.\n",
    "    5. Performs Gradient Descent given the gradients from the Backward propogation outputs.\n",
    "    \"\"\"\n",
    "    # Get the current state from the invoking lambda\n",
    "    state = event.get('state')\n",
    "    global parameters\n",
    "    parameters = from_cache(endpoint=endpoint, key=event.get('parameter_key'))\n",
    "    \n",
    "    # Execute appropriate action based on the the current state\n",
    "    if state == 'forward':\n",
    "        # Perform vectorization to create a matrix of activations and/or calculate the Cost\n",
    "        # Get important state variables\n",
    "        epoch = event.get('epoch')\n",
    "        layer = event.get('layer')\n",
    "\n",
    "        # Get the Vectorized matrix of Activations\n",
    "        A = vectorizer(Outputs='a', Layer=layer-1)\n",
    "\n",
    "        # Add the `A` Matrix to `data_keys` for later Neuron use\n",
    "        A_name = 'A' + str(layer-1)\n",
    "        parameters['data_keys'][A_name] = to_cache(endpoint=endpoint, obj=A, name=A_name)\n",
    "\n",
    "        # Update ElastiCache with this function's data\n",
    "        parameter_key = to_cache(endpoint=endpoint, obj=parameters, name='parameters')\n",
    "        \n",
    "        # Determine the location within forwardprop\n",
    "        if layer > parameters['layers']:\n",
    "            # Location is at the end of forwardprop, therefore calculate Cost\n",
    "            # Get the training examples data and no. examples (`Y` and `m`)\n",
    "            Y = from_cache(endpoint=endpoint, key=parameters['data_keys']['Y'])\n",
    "            m = from_cache(endpoint=endpoint, key=parameters['data_keys']['m'])\n",
    "            \n",
    "            # Calculate the Cost\n",
    "            #cost = -1 / m * np.sum(np.multiply(Y, np.log(A)) + np.multiply((1 - Y), np.log(1 - A))) #from ste-by-step\n",
    "            cost = (1./m) * (-np.dot(Y, np.log(A).T) - np.dot(1 - Y, np.log(1 - A).T)) #from application\n",
    "            \"\"\"\n",
    "            Note: The cost calculation above returns `nd.array`, therefore converting to\n",
    "            type `float` for for the results upload\n",
    "            \"\"\"\n",
    "            #cost = (-1 / m) * np.sum(Y * (np.log(A)) + ((1 - Y) * np.log(1 - A))) #from S-Layer\n",
    "            cost = np.squeeze(cost)\n",
    "            assert(cost.shape == ())\n",
    "\n",
    "            # Update results with the Cost\n",
    "            # Get the results object\n",
    "            cost2results = from_cache(endpoint=endpoint, key=parameters['data_keys']['results'])\n",
    "            # Append the cost to results object\n",
    "            #cost2results['epoch' + str(epoch)]['cost'] = cost\n",
    "            cost2results['epoch' + str(epoch)]['cost'] = float(cost)\n",
    "            # Update results key in ElastiCache\n",
    "            parameters['data_keys']['results'] = to_cache(endpoint=endpoint, obj=cost2results, name='results')\n",
    "\n",
    "            #if epoch % 100 == 0:\n",
    "                #print(\"Cost after epoch {0}: {1}\".format(epoch, cost))\n",
    "            print(\"Cost after epoch {}: {}\".format(epoch, cost))\n",
    "\n",
    "            # Initialize backprop\n",
    "            # Calculate the derivative of the Cost with respect to the last activation\n",
    "            # Ensure that `Y` is the correct shape as the last activation\n",
    "            Y = Y.reshape(A.shape)\n",
    "            dA = - (np.divide(Y, A) - np.divide(1 - Y, 1 - A))\n",
    "            dA_name = 'dA' + str(layer-1)\n",
    "            parameters['data_keys'][dA_name] = to_cache(endpoint=endpoint, obj=dA, name=dA_name)\n",
    "\n",
    "            # Update parameters from this function in ElastiCache\n",
    "            parameter_key = to_cache(endpoint=endpoint, obj=parameters, name='parameters')\n",
    "\n",
    "            # Start Backpropogation on NeuronLambda\n",
    "            propogate(direction='backward', epoch=epoch, layer=layer-1, parameter_key=parameter_key)\n",
    "\n",
    "        else:\n",
    "            # Move to the next hidden layer for multiple layer networks\n",
    "            #debug\n",
    "            #print(\"Propogating forward onto Layer \" + str(layer))\n",
    "            propogate(direction='forward', epoch=epoch, layer=layer, parameter_key=parameter_key)\n",
    "        \n",
    "    elif state == 'backward':\n",
    "        # Get important state variables\n",
    "        epoch = event.get('epoch')\n",
    "        layer = event.get('layer')\n",
    "\n",
    "        # Vectorize the derivatives\n",
    "        dZ = vectorizer(Outputs='dZ', Layer=layer+1)\n",
    "        \n",
    "        # Next pre-process the derivative of the weights\n",
    "        dW = vectorizer(Outputs='dw', Layer=layer+1)\n",
    "        \n",
    "        # pre-process the derivatives of the bias\n",
    "        db = vectorizer(Outputs='db', Layer=layer+1)\n",
    "        db = db.reshape(db.shape[0], 1)\n",
    "        \n",
    "        # Determine the location within backprop\n",
    "        if epoch == parameters['epochs']-1 and layer == 0:\n",
    "            # Location is at the end of the final epoch\n",
    "            # Get relavent parameters for bacprop\n",
    "            W = from_cache(endpoint=endpoint, key=parameters['data_keys']['W'+str(layer+1)])\n",
    "            b = from_cache(endpoint=endpoint, key=parameters['data_keys']['b'+str(layer+1)])\n",
    "            learning_rate = parameters['learning_rate']\n",
    "            # Run Gradient Descent\n",
    "            W = W - learning_rate * dW\n",
    "            b = b - learning_rate * db\n",
    "\n",
    "            # Update ElastiCache with the new Weights and new Bias to be used as the inputs for\n",
    "            # the next epoch\n",
    "            parameters['data_keys']['W'+str(layer+1)] = to_cache(\n",
    "                endpoint=endpoint,\n",
    "                obj=W,\n",
    "                name='W'+str(layer+1)\n",
    "            )\n",
    "            parameters['data_keys']['b'+str(layer+1)] = to_cache(\n",
    "                endpoint=endpoint,\n",
    "                obj=b,\n",
    "                name='b'+str(layer+1)\n",
    "            )\n",
    "            \n",
    "            # Update parameters for the next epoch\n",
    "            parameter_key = to_cache(endpoint=endpoint, obj=parameters, name='parameters')\n",
    "                        \n",
    "            # Finalize the the process and clean up\n",
    "            end(parameter_key=parameter_key)\n",
    "            \n",
    "        elif epoch < parameters['epochs']-1 and layer == 0:\n",
    "            # Location is at the end of the current epoch and backprop is finished\n",
    "            # Get relavent parameters for bacprop\n",
    "            W = from_cache(endpoint=endpoint, key=parameters['data_keys']['W'+str(layer+1)])\n",
    "            b = from_cache(endpoint=endpoint, key=parameters['data_keys']['b'+str(layer+1)])\n",
    "            learning_rate = parameters['learning_rate']\n",
    "            # Run Gradient Descent\n",
    "            W = W - learning_rate * dW\n",
    "            b = b - learning_rate * db\n",
    "\n",
    "            # Update ElastiCache with the new Weights and new Bias to be used as the inputs for\n",
    "            # the next epoch\n",
    "            parameters['data_keys']['W'+str(layer+1)] = to_cache(\n",
    "                endpoint=endpoint,\n",
    "                obj=W,\n",
    "                name='W'+str(layer+1)\n",
    "            )\n",
    "            parameters['data_keys']['b'+str(layer+1)] = to_cache(\n",
    "                endpoint=endpoint,\n",
    "                obj=b,\n",
    "                name='b'+str(layer+1)\n",
    "            )\n",
    "            \n",
    "            # Update parameters for the next epoch\n",
    "            parameter_key = to_cache(endpoint=endpoint, obj=parameters, name='parameters')\n",
    "                        \n",
    "            # Start the next epoch\n",
    "            start_epoch(epoch=epoch+1, layer=0, parameter_key=parameter_key)\n",
    "            \n",
    "        else:\n",
    "            # Location is still within the backprop process, therefore calculate \n",
    "            # the derivative of the current layer's activations with respect to the \n",
    "            # Cost as well as perform gradient decent to get and new weights and bias\n",
    "            # Get relavent parameters for bacprop\n",
    "            W = from_cache(endpoint=endpoint, key=parameters['data_keys']['W'+str(layer+1)])\n",
    "            b = from_cache(endpoint=endpoint, key=parameters['data_keys']['b'+str(layer+1)])\n",
    "            learning_rate = parameters['learning_rate']\n",
    "            dA = np.dot(W.T, dZ)\n",
    "            dA_name = 'dA' + str(layer)\n",
    "            parameters['data_keys'][dA_name] = to_cache(endpoint=endpoint, obj=dA, name=dA_name)\n",
    "\n",
    "            # Run Gradient Descent\n",
    "            W = W - learning_rate * dW\n",
    "            b = b - learning_rate * db\n",
    "            # Update ElastiCache with the new Weights and new Bias to be used as the inputs for\n",
    "            # the next epoch\n",
    "            parameters['data_keys']['W'+str(layer+1)] = to_cache(\n",
    "                endpoint=endpoint,\n",
    "                obj=W,\n",
    "                name='W'+str(layer+1)\n",
    "            )\n",
    "            parameters['data_keys']['b'+str(layer+1)] = to_cache(\n",
    "                endpoint=endpoint,\n",
    "                obj=b,\n",
    "                name='b'+str(layer+1)\n",
    "            )\n",
    "\n",
    "            # Update parameters from this function in ElastiCache\n",
    "            parameter_key = to_cache(endpoint=endpoint, obj=parameters, name='parameters')\n",
    "\n",
    "            # Move to the next hidden layer\n",
    "            propogate(direction='backward', epoch=epoch, layer=layer, parameter_key=parameter_key)\n",
    "            \n",
    "    elif state == 'start':\n",
    "        # Start training process        \n",
    "        # Create initial parameters\n",
    "        epoch = 0\n",
    "        layer = 0\n",
    "        start_epoch(epoch=epoch, layer=layer, parameter_key=event.get('parameter_key'))"
   ]
  },
  {
   "cell_type": "markdown",
   "metadata": {},
   "source": [
    "#### `neuron_handler(event, context)`\n",
    "This `lambda_handler()` simulates a single *Perceptron* for both forward and backward propogation. If the state is `forward` then the function simulates forward propogation for $X$ to $Cost$ for the current layer. If the state is backward, then the function calculates the gradient of the derivative of the activation function for the current layer.\n",
    "\n",
    ">**Note:** This function also moves the state to the next or previous layer, depending on the state."
   ]
  },
  {
   "cell_type": "code",
   "execution_count": 31,
   "metadata": {
    "collapsed": true
   },
   "outputs": [],
   "source": [
    "def neuron_handler(event, context):\n",
    "    \"\"\"\n",
    "    This Lambda Funciton simulates a single Perceptron for both \n",
    "    forward and backward propogation.\n",
    "    \"\"\"    \n",
    "    # Get the Neural Network parameters from Elasticache\n",
    "    parameters = from_cache(endpoint, key=event.get('parameter_key'))\n",
    "       \n",
    "    # Get the current state\n",
    "    state = event.get('state')\n",
    "    epoch = event.get('epoch')\n",
    "    layer = event.get('layer')\n",
    "    ID = event.get('id') # To be used when multiple activations\n",
    "    # Determine is this is the last Neuron in the layer\n",
    "    last = event.get('last')\n",
    "    activation = event.get('activation')\n",
    "    # Debug Statement\n",
    "    #print(\"Starting {} propagation on Neuron: {}, for Epoch {} and Layer {}\".format(state, str(ID), str(epoch), str(layer)))\n",
    "\n",
    "    if state == 'forward':\n",
    "        # Forward propogation from A0 to Cost\n",
    "        # Activations from the previous layer\n",
    "        A_prev = from_cache(endpoint=endpoint, key=parameters['data_keys']['A'+str(layer - 1)])\n",
    "        # Get the weights for this neuron\n",
    "        w = from_cache(endpoint=endpoint, key=parameters['data_keys']['W'+str(layer)])[ID-1, :]\n",
    "        # Convert weights to a row vector\n",
    "        w = w.reshape(1, w.shape[0])\n",
    "        # Get the bias for this neuron as row vector\n",
    "        b = from_cache(endpoint=endpoint, key=parameters['data_keys']['b'+str(layer)])[ID-1, :]\n",
    "        # Perform the linear part of the layer's forward propogation\n",
    "        z = np.dot(w, A_prev) + b\n",
    "        # Upload the linear transformation results to ElastiCache for use with Backprop\n",
    "        to_cache(endpoint=endpoint, obj=z, name='layer'+str(layer)+'_z_'+str(ID))\n",
    "\n",
    "        # Perform non-linear activation based on the activation function\n",
    "        if activation == 'sigmoid':\n",
    "            a = sigmoid(z)\n",
    "        elif activation == 'relu':\n",
    "            a = relu(z)\n",
    "        else:\n",
    "            # No other functions supported at this time\n",
    "            pass\n",
    "        # Upload the results to ElastiCache for `TrainerLambda` to vectorize\n",
    "        to_cache(endpoint=endpoint, obj=a, name='layer'+str(layer)+'_a_'+str(ID))\n",
    "\n",
    "        # Debug Statement\n",
    "        #print(\"Completed Forward Propogation for epoch {}, layer {}\".format(str(epoch), str(layer)))\n",
    "        \n",
    "        if last == \"True\":\n",
    "            # Update parameters with this Neuron's data\n",
    "            parameters['epoch'] = epoch\n",
    "            parameters['layer'] = layer + 1\n",
    "            # Build the state payload\n",
    "            payload = {}\n",
    "            payload['parameter_key'] = to_cache(endpoint=endpoint, obj=parameters, name='parameters')\n",
    "            payload['state'] = 'forward'\n",
    "            payload['epoch'] = epoch\n",
    "            payload['layer'] = layer + 1\n",
    "\n",
    "            # Debug Statement\n",
    "            #print(\"Payload to be sent to TrainerLambda: \\n\" + dumps(payload, indent=4, sort_keys=True))\n",
    "            \n",
    "            trainer_handler(event=payload, context='')\n",
    "\n",
    "        return\n",
    "\n",
    "    elif state == 'backward':\n",
    "        # Backprop from Cost to X (A0)\n",
    "        \"\"\"\n",
    "        Inutition: TrainerLambda launched back prop with `layer-1`, therefore this should be \n",
    "        last \"active\" layer. That means that the \"dA\" for this layer has already been\n",
    "        calculate. Thus, no need to do the `A - Y` error calculation. Additionally, \n",
    "        the following code structure makes the it more idempotenent for multiple layers.\n",
    "        \"\"\"\n",
    "        # Get necessary parameters\n",
    "        r = redis(host=endpoint, port=6379, db=0, charset=\"utf-8\", decode_responses=True)\n",
    "        z_key = []\n",
    "        for z in r.scan_iter(match='layer'+str(layer)+'_z_'+str(ID)+'*'):\n",
    "            z_key.append(z)\n",
    "        z = from_cache(endpoint=endpoint, key=z_key[0])\n",
    "        m = from_cache(endpoint=endpoint, key=parameters['data_keys']['m'])\n",
    "        A_prev = from_cache(endpoint=endpoint, key=parameters['data_keys']['A'+str(layer-1)])\n",
    "\n",
    "        # Get the derivative of the current layer's activation,\n",
    "        # based on the size of the layer.\n",
    "        if layer == parameters['layers']:\n",
    "            # If this is the last layer, then:\n",
    "            dA = from_cache(endpoint=endpoint, key=parameters['data_keys']['dA'+str(layer)])\n",
    "            W = from_cache(endpoint=endpoint, key=parameters['data_keys']['W'+str(layer)])\n",
    "        else:\n",
    "            dA = from_cache(endpoint=endpoint, key=parameters['data_keys']['dA'+str(layer)])[ID-1, :]\n",
    "            dA = dA.reshape(1, dA.shape[0])\n",
    "            W = from_cache(endpoint=endpoint, key=parameters['data_keys']['W'+str(layer)])[ID-1, :]\n",
    "            W = W.reshape(1, W.shape[0])\n",
    "        \n",
    "        # Calculate the derivative of the Activations\n",
    "        if activation=='sigmoid':\n",
    "            dZ = sigmoid_backward(dA, z)\n",
    "        elif activation == 'relu':\n",
    "            dZ = relu_backward(dA, z)\n",
    "        elif activaion == 'leaky_relu':\n",
    "            dZ = leaky_relu_backward(dA, z)\n",
    "        else:\n",
    "            # No other functions supported at this time\n",
    "            pass\n",
    "        # Upload the derivative of the activation to ElastiCache for use by `TrainerLambda`\n",
    "        to_cache(endpoint=endpoint, obj=dZ, name='layer'+str(layer)+'_dZ_'+str(ID))\n",
    "        \n",
    "        # Calculate the derivatives of the weights\n",
    "        dw = 1 / m * np.dot(dZ, A_prev.T)\n",
    "        # Upload the derivative of the weights to ElastiCache for use by `TrainerLambda`\n",
    "        to_cache(endpoint=endpoint, obj=dw, name='layer'+str(layer)+'_dw_'+str(ID))\n",
    "        \n",
    "        # Debug statement\n",
    "        assert(dw.shape == W.shape)\n",
    "\n",
    "        # Calculate the derivatives of the bias\n",
    "        db = 1 / m * np.sum(dZ, axis=1, keepdims=True) #<-- Could be an issue here and may have to reshape in TrainerLambda when runnign backprop oin layer 1\n",
    "        #db = 1 / m * np.sum(dZ)\n",
    "        # Upload the erivative of the bis to ElastiCache for use by `TrainerLambda`\n",
    "        to_cache(endpoint=endpoint, obj=db, name='layer'+str(layer)+'_db_'+str(ID))\n",
    "\n",
    "        # Debug Statement\n",
    "        #print(\"Completed Back Propogation for epoch {}, layer {}\".format(str(epoch), str(layer)))\n",
    "\n",
    "        if last == \"True\":\n",
    "            # Update parameters with this Neuron's data\n",
    "            parameters['epoch'] = epoch\n",
    "            parameters['layer'] = layer - 1\n",
    "            # Build the state payload\n",
    "            payload = {}\n",
    "            payload['parameter_key'] = to_cache(endpoint=endpoint, obj=parameters, name='parameters')\n",
    "            payload['state'] = 'backward'\n",
    "            payload['epoch'] = epoch\n",
    "            payload['layer'] = layer - 1\n",
    "\n",
    "            # Debug Statement\n",
    "            #print(\"Payload to be sent to TrainerLambda: \\n\" + dumps(payload, indent=4, sort_keys=True))\n",
    "            \n",
    "            trainer_handler(event=payload, context='')\n",
    "            \n",
    "        return"
   ]
  },
  {
   "cell_type": "markdown",
   "metadata": {},
   "source": [
    "---\n",
    "## Function Workflow for a 2-Layer, 10 Epochs\n",
    "### Trigger Event from S3\n",
    "**Simulate the training data being uploaded to S3 and Launching the training process.**"
   ]
  },
  {
   "cell_type": "code",
   "execution_count": 32,
   "metadata": {},
   "outputs": [
    {
     "data": {
      "text/plain": [
       "True"
      ]
     },
     "execution_count": 32,
     "metadata": {},
     "output_type": "execute_result"
    }
   ],
   "source": [
    "#Optionally Flush the Redis Database\n",
    "cache.flushdb()"
   ]
  },
  {
   "cell_type": "code",
   "execution_count": 33,
   "metadata": {
    "scrolled": false
   },
   "outputs": [
    {
     "name": "stdout",
     "output_type": "stream",
     "text": [
      "Complete Neural Network Settings: \n",
      "\n",
      "{\n",
      "    \"activations\": {\n",
      "        \"layer1\": \"relu\",\n",
      "        \"layer2\": \"sigmoid\"\n",
      "    },\n",
      "    \"bias\": 0.01,\n",
      "    \"data_keys\": {\n",
      "        \"A0\": \"A0|float64#12288#209\",\n",
      "        \"W1\": \"W1|float64#20#12288\",\n",
      "        \"W2\": \"W2|float64#1#20\",\n",
      "        \"Y\": \"Y|int64#1#209\",\n",
      "        \"b1\": \"b1|float64#20#1\",\n",
      "        \"b2\": \"b2|float64#1#1\",\n",
      "        \"m\": \"m|int\",\n",
      "        \"results\": \"results|json\",\n",
      "        \"test_set_x\": \"test_set_x|float64#12288#50\",\n",
      "        \"test_set_y\": \"test_set_y|int64#1#50\",\n",
      "        \"train_set_x\": \"train_set_x|float64#12288#209\",\n",
      "        \"train_set_y\": \"train_set_y|int64#1#209\"\n",
      "    },\n",
      "    \"dims\": {\n",
      "        \"test_set_x\": [\n",
      "            12288,\n",
      "            50\n",
      "        ],\n",
      "        \"test_set_y\": [\n",
      "            1,\n",
      "            50\n",
      "        ],\n",
      "        \"train_set_x\": [\n",
      "            12288,\n",
      "            209\n",
      "        ],\n",
      "        \"train_set_y\": [\n",
      "            1,\n",
      "            209\n",
      "        ]\n",
      "    },\n",
      "    \"epochs\": 25,\n",
      "    \"input_data\": [\n",
      "        \"train_set_x\",\n",
      "        \"train_set_y\",\n",
      "        \"test_set_x\",\n",
      "        \"test_set_y\"\n",
      "    ],\n",
      "    \"layers\": 2,\n",
      "    \"learning_rate\": 0.0075,\n",
      "    \"neurons\": {\n",
      "        \"layer1\": 20,\n",
      "        \"layer2\": 1\n",
      "    },\n",
      "    \"s3_bucket\": \"lnn-dev\",\n",
      "    \"weight\": 0.01\n",
      "}\n",
      "Payload to be sent to TrainerLambda: \n",
      "{\n",
      "    \"parameter_key\": \"parameters|json\",\n",
      "    \"state\": \"start\"\n",
      "}\n",
      "Cost after epoch 0: 0.6925485897168193\n",
      "Cost after epoch 1: 0.6557771442927349\n",
      "Cost after epoch 2: 0.6533611557182567\n",
      "Cost after epoch 3: 0.6509412486184492\n",
      "Cost after epoch 4: 0.6486507814796982\n",
      "Cost after epoch 5: 0.6463511939309576\n",
      "Cost after epoch 6: 0.6440652990650426\n",
      "Cost after epoch 7: 0.6410700893203389\n",
      "Cost after epoch 8: 0.6381442858751384\n",
      "Cost after epoch 9: 0.6357396596163462\n",
      "Cost after epoch 10: 0.6334926276974007\n",
      "Cost after epoch 11: 0.631297685077031\n",
      "Cost after epoch 12: 0.629154838028652\n",
      "Cost after epoch 13: 0.6269281177158413\n",
      "Cost after epoch 14: 0.6247150531398279\n",
      "Cost after epoch 15: 0.6222946759154869\n",
      "Cost after epoch 16: 0.6199837675247635\n",
      "Cost after epoch 17: 0.6175494578462345\n",
      "Cost after epoch 18: 0.6153631948608855\n",
      "Cost after epoch 19: 0.613260908760007\n",
      "Cost after epoch 20: 0.6111995957283703\n",
      "Cost after epoch 21: 0.6092515953530184\n",
      "Cost after epoch 22: 0.6073184049892977\n",
      "Cost after epoch 23: 0.6050535191267287\n",
      "Cost after epoch 24: 0.6028119110803413\n",
      "Training Completed Successfully!\n"
     ]
    }
   ],
   "source": [
    "# Simulate S3 event trigger data\n",
    "launch_handler(event, context)"
   ]
  },
  {
   "cell_type": "markdown",
   "metadata": {},
   "source": [
    "## Processing the Training Results"
   ]
  },
  {
   "cell_type": "code",
   "execution_count": 34,
   "metadata": {},
   "outputs": [
    {
     "data": {
      "text/plain": [
       "<function matplotlib.pyplot.show>"
      ]
     },
     "execution_count": 34,
     "metadata": {},
     "output_type": "execute_result"
    },
    {
     "data": {
      "image/png": "[encoded data removed]",
      "text/plain": [
       "<matplotlib.figure.Figure at 0x7f8db8e6e080>"
      ]
     },
     "metadata": {},
     "output_type": "display_data"
    }
   ],
   "source": [
    "# View the Results object stored on S3\n",
    "bucket = parameters['s3_bucket']\n",
    "content = s3_resource.Object(bucket, 'training_results/results.json')\n",
    "file = content.get()['Body'].read().decode('utf-8')\n",
    "json_content = json.loads(file)\n",
    "#print(json_content)\n",
    "costs = []\n",
    "for k, v in json_content.items():\n",
    "    costs.append(v.get('cost'))\n",
    "plt.plot(costs)\n",
    "plt.ylabel('Cost')\n",
    "plt.xlabel('Epochs')\n",
    "plt.title(\"Learning Rate: \" + str(parameters['learning_rate']))\n",
    "plt.show"
   ]
  }
 ],
 "metadata": {
  "coursera": {
   "course_slug": "neural-networks-deep-learning",
   "graded_item_id": "XaIWT",
   "launcher_item_id": "zAgPl"
  },
  "kernelspec": {
   "display_name": "Python 3",
   "language": "python",
   "name": "python3"
  },
  "language_info": {
   "codemirror_mode": {
    "name": "ipython",
    "version": 3
   },
   "file_extension": ".py",
   "mimetype": "text/x-python",
   "name": "python",
   "nbconvert_exporter": "python",
   "pygments_lexer": "ipython3",
   "version": "3.6.1"
  }
 },
 "nbformat": 4,
 "nbformat_minor": 2
}
