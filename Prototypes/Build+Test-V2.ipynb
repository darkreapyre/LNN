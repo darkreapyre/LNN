{
 "cells": [
  {
   "cell_type": "markdown",
   "metadata": {},
   "source": [
    "# DevOps Build Integration\n",
    "__The following code simulates the `endpoint.py` for creating sagemaker Endpoints__"
   ]
  },
  {
   "cell_type": "code",
   "execution_count": null,
   "metadata": {},
   "outputs": [],
   "source": [
    "# Import Libraries\n",
    "import time\n",
    "import os\n",
    "import sys\n",
    "import boto3\n",
    "import sagemaker\n",
    "from sagemaker import get_execution_role\n",
    "from sagemaker.mxnet import MXNet\n",
    "import json\n",
    "from io import BytesIO\n",
    "\n",
    "# Training Job Default: training_job = 0\n",
    "training_job = 0\n",
    "if training_job == 0:\n",
    "    print(\"No Training job defined, Exiting ...\")"
   ]
  },
  {
   "cell_type": "markdown",
   "metadata": {},
   "source": [
    "---\n",
    "# DevOps \"Local\" Prod Integration\n",
    "__Simulating the PRediction API if `training_job = 0`.__"
   ]
  },
  {
   "cell_type": "code",
   "execution_count": null,
   "metadata": {},
   "outputs": [],
   "source": [
    "import urllib3\n",
    "import mxnet as mx\n",
    "import numpy as np\n",
    "from mxnet import gluon, nd\n",
    "import matplotlib.pyplot as plt\n",
    "from io import BytesIO\n",
    "from PIL import Image\n",
    "from skimage import transform\n",
    "from PIL import Image\n",
    "from skimage import transform"
   ]
  },
  {
   "cell_type": "code",
   "execution_count": null,
   "metadata": {},
   "outputs": [],
   "source": [
    "url = 'https://images.pexels.com/photos/104827/cat-pet-animal-domestic-104827.jpeg?auto=compress&cs=tinysrgb&h=350'"
   ]
  },
  {
   "cell_type": "code",
   "execution_count": null,
   "metadata": {},
   "outputs": [],
   "source": [
    "# Simulate `process_url()` function\n",
    "http = urllib3.PoolManager()\n",
    "req = http.request('GET', url)\n",
    "image = np.array(Image.open(BytesIO(req.data)))\n",
    "result = transform.resize(image, (64, 64), mode='constant').reshape((1, 64 * 64 * 3))\n",
    "payload = json.dumps(result.tolist())"
   ]
  },
  {
   "cell_type": "code",
   "execution_count": null,
   "metadata": {},
   "outputs": [],
   "source": [
    "# Simulate the `local_predict()` function\n",
    "\"\"\"\n",
    "Note: Requires a local copy of the model\n",
    "\"\"\"\n",
    "symbol = mx.sym.load('model.json')\n",
    "outputs = mx.sym.sigmoid(data=symbol, name='sigmoid_label')\n",
    "inputs = mx.sym.var('data')\n",
    "param_dict = gluon.ParameterDict('model_')\n",
    "net = gluon.SymbolBlock(outputs, inputs, param_dict)\n",
    "net.load_params('model.params', ctx=mx.cpu())\n",
    "# Parse the data\n",
    "parsed = json.loads(payload)\n",
    "# Convert input to MXNet NDArray\n",
    "nda = mx.nd.array(parsed)\n",
    "output = net(nda)\n",
    "prediction = nd.argmax(output, axis=1)\n",
    "response_body = json.dumps(prediction.asnumpy().tolist()[0])"
   ]
  },
  {
   "cell_type": "code",
   "execution_count": null,
   "metadata": {},
   "outputs": [],
   "source": [
    "classes = ['non-cat', 'cat']\n",
    "prediction = classes[int(json.loads(response_body))]\n",
    "print(\"prediction: {}\".format(prediction))"
   ]
  },
  {
   "cell_type": "markdown",
   "metadata": {},
   "source": [
    "---\n",
    "# DevOps \"Endpoint\" Prod Integration\n",
    "__Simulate Predection API if `training_job != 0`.__"
   ]
  },
  {
   "cell_type": "code",
   "execution_count": null,
   "metadata": {},
   "outputs": [],
   "source": [
    "training_job = ''\n",
    "\n",
    "# Global Variables\n",
    "sagemaker_client = boto3.client('sagemaker')\n",
    "iam_client = boto3.client('iam')\n",
    "build_id = '12345' # Build ID is generated from CodePipeline input artifacts\n",
    "model_name = build_id\n",
    "\n",
    "# Create IAM Role for SageMaker Session\n",
    "role_response = iam_client.create_role(\n",
    "    RoleName=model_name+'-Role',\n",
    "    AssumeRolePolicyDocument='{ \"Version\": \"2012-10-17\", \"Statement\": [ { \"Effect\": \"Allow\", \"Principal\": { \"Service\": \"sagemaker.amazonaws.com\" }, \"Action\": \"sts:AssumeRole\" } ] }'\n",
    ")\n",
    "time.sleep(5)\n",
    "print(\"Created IAM Role for SageMaker Session.\")\n",
    "\n",
    "# Attach Managed Role Policy\n",
    "iam_client.attach_role_policy(\n",
    "    PolicyArn='arn:aws:iam::aws:policy/AmazonSageMakerFullAccess',\n",
    "    RoleName=role_response['Role']['RoleName']\n",
    ")\n",
    "print(\"Attached Managed Policy to SageMaker Session.\")\n",
    "time.sleep(5)"
   ]
  },
  {
   "cell_type": "code",
   "execution_count": null,
   "metadata": {},
   "outputs": [],
   "source": [
    "# Create a model using the Session API\n",
    "# by attaching to the training job\n",
    "training_job_info = sagemaker_client.describe_training_job(TrainingJobName=training_job)\n",
    "training_job_name = str(training_job_info['HyperParameters']['sagemaker_job_name'].split('\"')[1])\n",
    "sagemaker_role = role_response['Role']['Arn']\n",
    "print(\"Attaching estimator to training job: {}\".format(training_job_name))\n",
    "estimator = MXNet.attach(training_job_name)\n",
    "session = sagemaker.Session()\n",
    "time.sleep(5)\n",
    "model = estimator.create_model()\n",
    "container_def = model.prepare_container_def(instance_type='ml.m4.xlarge')\n",
    "session.create_model(model_name, sagemaker_role, container_def)\n",
    "\n",
    "# Create endpoint config using the Session API\n",
    "endpoint_config_name = session.create_endpoint_config(\n",
    "    name=model_name,\n",
    "    model_name=model_name,\n",
    "    initial_instance_count=1,\n",
    "    instance_type='ml.m4.xlarge'\n",
    ")\n",
    "\n",
    "# Create endpoint using the boto3 API\n",
    "print(\"Creating Endpoint ...\")\n",
    "create_endpoint_response = sagemaker_client.create_endpoint(\n",
    "    EndpointName=model_name,\n",
    "    EndpointConfigName=endpoint_config_name\n",
    ")\n",
    "\n",
    "# Wait until the status has changed\n",
    "sagemaker_client.get_waiter('endpoint_in_service').wait(EndpointName=model_name)\n",
    "\n",
    "# Print the final status of the endpoint\n",
    "endpoint_response = sagemaker_client.describe_endpoint(EndpointName=model_name)\n",
    "status = endpoint_response['EndpointStatus']\n",
    "print('Endpoint status: {}'.format(status))\n",
    "\n",
    "if status != 'InService':\n",
    "    raise Exception('Endpoint creation failed.')"
   ]
  },
  {
   "cell_type": "code",
   "execution_count": null,
   "metadata": {},
   "outputs": [],
   "source": [
    "# Function to process image url\n",
    "import urllib3\n",
    "import numpy as np\n",
    "import matplotlib.pyplot as plt\n",
    "from cStringIO import StringIO\n",
    "import json\n",
    "from PIL import Image\n",
    "from skimage import transform\n",
    "\n",
    "def process_url(url):\n",
    "    \"\"\"\n",
    "    Retrieves image from a URL and converts the image\n",
    "    to a Numpy Array as the Payload for the SageMaker\n",
    "    hosted endpoint.\n",
    "    \n",
    "    Arguments:\n",
    "    url -- Full URL of the image\n",
    "    \n",
    "    Returns:\n",
    "    payload -- Preprocessed image as a numpy array and returns a list\n",
    "    \"\"\"\n",
    "    http = urllib3.PoolManager()\n",
    "    req = http.request('GET', url)\n",
    "    image = np.array(Image.open(StringIO(req.data)))\n",
    "    result = transform.resize(image, (64, 64), mode='constant').reshape((1, 64 * 64 * 3))\n",
    "    return image, result.tolist()"
   ]
  },
  {
   "cell_type": "code",
   "execution_count": null,
   "metadata": {},
   "outputs": [],
   "source": [
    "# Create a runtime object that can be used to\n",
    "# invoke the endpoint\n",
    "runtime = boto3.client(service_name='runtime.sagemaker')\n",
    "\n",
    "# Create the payload for the endpoint\n",
    "url = 'https://images.pexels.com/photos/104827/cat-pet-animal-domestic-104827.jpeg?auto=compress&cs=tinysrgb&h=350'\n",
    "#url = 'https://www.housingwire.com/ext/resources/images/editorial/A-New-Big-Images/states/New-York-City.jpg?1453402066'\n",
    "#url = 'http://i0.kym-cdn.com/entries/icons/facebook/000/011/365/GRUMPYCAT.jpg'\n",
    "#url = 'http://1.bp.blogspot.com/-NlbULNGkGoI/U0v-v4EtjTI/AAAAAAAAAZ0/EZBRyG3I2DI/s1600/gargoyle-gargoile-demon-notre-dame-paris.jpg'\n",
    "image, payload = process_url(url)\n",
    "\n",
    "# Invoke the SageMaker endpoint\n",
    "response = runtime.invoke_endpoint(\n",
    "    EndpointName=model_name,\n",
    "    ContentType='application/json',\n",
    "    Body=json.dumps(payload)\n",
    ")\n",
    "\n",
    "# Format the prediction\n",
    "prediction = json.loads(response['Body'].read().decode('utf-8'))\n",
    "\n",
    "# Display results\n",
    "classes = ['non-cat', 'cat']\n",
    "print('Prediction = \\\"'+classes[int(prediction)]+'\\\" picture.')\n",
    "plt.title(\"Your Picture\")\n",
    "plt.imshow(image);"
   ]
  },
  {
   "cell_type": "markdown",
   "metadata": {},
   "source": [
    "__Test Prediciton App__"
   ]
  },
  {
   "cell_type": "code",
   "execution_count": null,
   "metadata": {},
   "outputs": [],
   "source": [
    "# Function to process image url\n",
    "import urllib3\n",
    "import numpy as np\n",
    "import matplotlib.pyplot as plt\n",
    "from cStringIO import StringIO\n",
    "from PIL import Image\n",
    "from skimage import transform\n",
    "import boto3\n",
    "\n",
    "def process_url(url):\n",
    "    \"\"\"\n",
    "    Retrieves image from a URL and converts the image\n",
    "    to a Numpy Array as the Payload for the SageMaker\n",
    "    hosted endpoint.\n",
    "    \n",
    "    Arguments:\n",
    "    url -- Full URL of the image\n",
    "    \n",
    "    Returns:\n",
    "    payload -- Preprocessed image as a numpy array and returns a list\n",
    "    \"\"\"\n",
    "    http = urllib3.PoolManager()\n",
    "    req = http.request('GET', url)\n",
    "    image = np.array(Image.open(StringIO(req.data)))\n",
    "    result = transform.resize(image, (64, 64), mode='constant').reshape((1, 64 * 64 * 3))\n",
    "    return image, result.tolist()\n",
    "\n",
    "# Create the payload for the endpoint\n",
    "sagemaker_client = boto3.client('sagemaker')\n",
    "#training_job = 'itsacat-train-v0-002'\n",
    "build_id = '12345' # Build ID is generated from CodePipeline input artifacts\n",
    "model_name = str(training_job.split('-')[0]+'-prod-'+''.join(training_job.split('-')[2:])+'-'+build_id)\n",
    "training_job_info = sagemaker_client.describe_training_job(TrainingJobName=training_job)\n",
    "runtime = boto3.client(service_name='runtime.sagemaker')\n",
    "url = 'https://www.housingwire.com/ext/resources/images/editorial/A-New-Big-Images/states/New-York-City.jpg?1453402066'\n",
    "image, payload = process_url(url)\n",
    "\n",
    "# Invoke the SageMaker endpoint\n",
    "response = runtime.invoke_endpoint(\n",
    "    EndpointName=model_name,\n",
    "    ContentType='application/json',\n",
    "    Body=json.dumps(payload)\n",
    ")\n",
    "\n",
    "# Format the prediction\n",
    "classes = ['non-cat', 'cat']\n",
    "prediction = classes[int(json.loads(response['Body'].read().decode('utf-8')))]\n",
    "\n",
    "# Display results\n",
    "print('Prediction = \\\"'+prediction+'\\\" picture.')\n",
    "plt.title(\"Your Picture\")\n",
    "plt.imshow(image);"
   ]
  }
 ],
 "metadata": {
  "kernelspec": {
   "display_name": "conda_mxnet_p36",
   "language": "python",
   "name": "conda_mxnet_p36"
  },
  "language_info": {
   "codemirror_mode": {
    "name": "ipython",
    "version": 3
   },
   "file_extension": ".py",
   "mimetype": "text/x-python",
   "name": "python",
   "nbconvert_exporter": "python",
   "pygments_lexer": "ipython3",
   "version": "3.6.4"
  }
 },
 "nbformat": 4,
 "nbformat_minor": 2
}
