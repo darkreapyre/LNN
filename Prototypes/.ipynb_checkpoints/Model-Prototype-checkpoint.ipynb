{
 "cells": [
  {
   "cell_type": "markdown",
   "metadata": {},
   "source": [
    "# Gluon Model Evaluation using `SoftmaxCrossEntropyLoss`"
   ]
  },
  {
   "cell_type": "code",
   "execution_count": 1,
   "metadata": {},
   "outputs": [
    {
     "name": "stderr",
     "output_type": "stream",
     "text": [
      "/home/ec2-user/anaconda3/envs/mxnet_p36/lib/python3.6/site-packages/h5py/__init__.py:36: FutureWarning: Conversion of the second argument of issubdtype from `float` to `np.floating` is deprecated. In future, it will be treated as `np.float64 == np.dtype(float).type`.\n",
      "  from ._conv import register_converters as _register_converters\n"
     ]
    }
   ],
   "source": [
    "# Import necessary Libraries\n",
    "from __future__ import print_function\n",
    "import mxnet as mx\n",
    "from mxnet import nd, autograd, gluon\n",
    "import numpy as np\n",
    "import h5py\n",
    "from sklearn.metrics import accuracy_score"
   ]
  },
  {
   "cell_type": "markdown",
   "metadata": {},
   "source": [
    "### Datasets"
   ]
  },
  {
   "cell_type": "code",
   "execution_count": 2,
   "metadata": {},
   "outputs": [],
   "source": [
    "# Import the Datasets\n",
    "dataset = h5py.File('datasets/datasets.h5', 'r')\n",
    "train_set_x_orig = np.array(dataset['train_set_x'][:])\n",
    "train_set_y_orig = np.array(dataset['train_set_y'][:])\n",
    "test_set_x_orig = np.array(dataset['test_set_x'][:])\n",
    "test_set_y_orig = np.array(dataset['test_set_y'][:])\n",
    "\n",
    "# Get Classes\n",
    "tmp_dataset = h5py.File('datasets/test_catvnoncat.h5', \"r\")\n",
    "classes = np.array(tmp_dataset['list_classes'][:])"
   ]
  },
  {
   "cell_type": "code",
   "execution_count": 3,
   "metadata": {},
   "outputs": [
    {
     "name": "stdout",
     "output_type": "stream",
     "text": [
      "Training Data Dimensions: (209, 64, 64, 3)\n",
      "No. Examples: 209\n",
      "No. Inputs: 12288\n"
     ]
    }
   ],
   "source": [
    "# View Training Dataset\n",
    "print(\"Training Data Dimensions: {}\".format(train_set_x_orig.shape))\n",
    "print(\"No. Examples: {}\".format(train_set_x_orig.reshape((-1, 12288)).shape[0]))\n",
    "print(\"No. Inputs: {}\".format(train_set_x_orig.reshape((-1, 12288)).shape[1]))"
   ]
  },
  {
   "cell_type": "code",
   "execution_count": 4,
   "metadata": {},
   "outputs": [
    {
     "name": "stdout",
     "output_type": "stream",
     "text": [
      "Testing Data Dimensions: (50, 64, 64, 3)\n",
      "No. Examples: 50\n",
      "No. Inputs: 12288\n"
     ]
    }
   ],
   "source": [
    "# View Testing Dataset\n",
    "print(\"Testing Data Dimensions: {}\".format(test_set_x_orig.shape))\n",
    "print(\"No. Examples: {}\".format(test_set_x_orig.reshape((-1, 12288)).shape[0]))\n",
    "print(\"No. Inputs: {}\".format(test_set_x_orig.reshape((-1, 12288)).shape[1]))"
   ]
  },
  {
   "cell_type": "code",
   "execution_count": 5,
   "metadata": {},
   "outputs": [
    {
     "name": "stdout",
     "output_type": "stream",
     "text": [
      "Final Training Data Dimensions: (209, 12288)\n",
      "Final Testing Data Dimensions: (50, 12288)\n"
     ]
    }
   ],
   "source": [
    "# Pre-process Data\n",
    "def transform(x):\n",
    "    v = x.reshape((x.shape[0], (x.shape[1] * x.shape[2]) * x.shape[3]))\n",
    "    return v.astype(np.float32) / 255\n",
    "train_data = transform(train_set_x_orig)\n",
    "train_label = train_set_y_orig.astype(np.float32)\n",
    "test_data = transform(test_set_x_orig)\n",
    "test_label = test_set_y_orig.astype(np.float32)\n",
    "print(\"Final Training Data Dimensions: {}\".format(train_data.shape))\n",
    "print(\"Final Testing Data Dimensions: {}\".format(test_data.shape))"
   ]
  },
  {
   "cell_type": "markdown",
   "metadata": {},
   "source": [
    "### Neural Network Configuration"
   ]
  },
  {
   "cell_type": "code",
   "execution_count": 6,
   "metadata": {},
   "outputs": [],
   "source": [
    "# Network Config\n",
    "epochs = 2500\n",
    "num_examples = train_data.shape[0]\n",
    "batch_size = 64\n",
    "lr = 0.0075\n",
    "\n",
    "# Create Training and Test Data Iterator\n",
    "train_data = mx.gluon.data.DataLoader(\n",
    "    mx.gluon.data.ArrayDataset(\n",
    "        train_data,\n",
    "        train_label\n",
    "    ),\n",
    "    shuffle=True,\n",
    "    batch_size=batch_size\n",
    ")\n",
    "test_data = mx.gluon.data.DataLoader(\n",
    "    mx.gluon.data.ArrayDataset(\n",
    "        test_data,\n",
    "        test_label\n",
    "    ),\n",
    "    shuffle=False,\n",
    "    batch_size=batch_size\n",
    ")"
   ]
  },
  {
   "cell_type": "markdown",
   "metadata": {},
   "source": [
    "### Neural Network Model"
   ]
  },
  {
   "cell_type": "code",
   "execution_count": 7,
   "metadata": {},
   "outputs": [],
   "source": [
    "# Network Model\n",
    "model_ctx = mx.cpu()\n",
    "net = gluon.nn.HybridSequential()\n",
    "with net.name_scope():\n",
    "    net.add(gluon.nn.Dense(20, activation='relu'))\n",
    "    net.add(gluon.nn.Dense(7, activation='relu'))\n",
    "    net.add(gluon.nn.Dense(5, activation='relu'))\n",
    "    net.add(gluon.nn.Dense(2, activation='relu'))\n",
    "net.hybridize()\n",
    "\n",
    "# Parameter Initialization\n",
    "net.collect_params().initialize(mx.init.Xavier(magnitude=2.34))\n",
    "#net.collect_params().initialize(mx.init.Xavier(magnitude=3.34))\n",
    "#net.collect_params().initialize(mx.init.Normal(sigma=1.))\n",
    "#net.collect_params().initialize(mx.init.Xavier(factor_type=\"in\", rnd_type='gaussian', magnitude=2))\n",
    "#net.collect_params().initialize(mx.init.MSRAPrelu())\n",
    "# Optimizer\n",
    "trainer = gluon.Trainer(net.collect_params(), 'sgd', {'learning_rate': lr})\n",
    "# Cross Entropy Loss Function\n",
    "softmax_ce = gluon.loss.SoftmaxCrossEntropyLoss()"
   ]
  },
  {
   "cell_type": "code",
   "execution_count": 8,
   "metadata": {},
   "outputs": [],
   "source": [
    "# Evlauation metric\n",
    "def eval_acc(data_iterator, net):\n",
    "    acc = mx.metric.Accuracy()\n",
    "    for i, (data, label) in enumerate(data_iterator):\n",
    "        #acc.reset()\n",
    "        data = data.as_in_context(model_ctx)\n",
    "        label = label.as_in_context(model_ctx)\n",
    "        output = net(data)\n",
    "        predictions = nd.argmax(output, axis=1)\n",
    "        acc.update(preds=predictions, labels=label)\n",
    "    return acc.get()[1]"
   ]
  },
  {
   "cell_type": "markdown",
   "metadata": {},
   "source": [
    "### Model Training"
   ]
  },
  {
   "cell_type": "code",
   "execution_count": null,
   "metadata": {},
   "outputs": [
    {
     "name": "stdout",
     "output_type": "stream",
     "text": [
      "Epoch0; Loss = 0.659303108470862; Train-accuracy = 0.6555023923444976; Validation-accuracy = 0.34\n",
      "Epoch100; Loss = 0.49803328628175; Train-accuracy = 0.7607655502392344; Validation-accuracy = 0.44\n",
      "Epoch200; Loss = 0.22632083710300865; Train-accuracy = 0.9760765550239234; Validation-accuracy = 0.56\n",
      "Epoch300; Loss = 0.15669550964136444; Train-accuracy = 1.0; Validation-accuracy = 0.68\n",
      "Epoch400; Loss = 0.129616384300889; Train-accuracy = 0.9904306220095693; Validation-accuracy = 0.72\n",
      "Epoch500; Loss = 0.08999696930059406; Train-accuracy = 1.0; Validation-accuracy = 0.64\n",
      "Epoch600; Loss = 0.07063120974307996; Train-accuracy = 1.0; Validation-accuracy = 0.62\n",
      "Epoch700; Loss = 0.05700773485539633; Train-accuracy = 1.0; Validation-accuracy = 0.62\n",
      "Epoch800; Loss = 0.0457843684693843; Train-accuracy = 1.0; Validation-accuracy = 0.62\n",
      "Epoch900; Loss = 0.03586228783621172; Train-accuracy = 1.0; Validation-accuracy = 0.66\n",
      "Epoch1000; Loss = 0.02895913868429558; Train-accuracy = 1.0; Validation-accuracy = 0.68\n",
      "Epoch1100; Loss = 0.022048759546006127; Train-accuracy = 1.0; Validation-accuracy = 0.66\n"
     ]
    }
   ],
   "source": [
    "# Training Loop\n",
    "costs = []\n",
    "for e in range(epochs):\n",
    "    cumulative_loss = 0\n",
    "    # Enumerate bacthes\n",
    "    for i, (data, label) in enumerate(train_data):\n",
    "        data = data.as_in_context(model_ctx)\n",
    "        label = label.as_in_context(model_ctx)\n",
    "        # Record for calculating derivatives from forward pass\n",
    "        with autograd.record():\n",
    "            output = net(data)\n",
    "            loss = softmax_ce(output, label)\n",
    "            # Run backward pass\n",
    "            loss.backward()\n",
    "        # Next batch\n",
    "        trainer.step(data.shape[0])\n",
    "        cumulative_loss += nd.sum(loss).asscalar()\n",
    "    # Accuracy score (formatting for SageMaker HPO)    \n",
    "    valid_accuracy = eval_acc(test_data, net)\n",
    "    train_accuracy = eval_acc(train_data, net)\n",
    "    costs.append(cumulative_loss/num_examples)\n",
    "    if e % 100 == 0:\n",
    "        print(\"Epoch{}; Loss = {}; Train-accuracy = {}; Validation-accuracy = {}\"\\\n",
    "              .format(e,cumulative_loss/num_examples,train_accuracy,valid_accuracy))"
   ]
  },
  {
   "cell_type": "markdown",
   "metadata": {},
   "source": [
    "### Training Analysis"
   ]
  },
  {
   "cell_type": "code",
   "execution_count": null,
   "metadata": {},
   "outputs": [],
   "source": [
    "# Final Score\n",
    "final_accuracy = eval_acc(test_data, net)\n",
    "print(\"Final Scaore:\\nEpoch{}; Loss = {}\\nValidation-ccuracy {}%\".format(\n",
    "    e,cumulative_loss/num_examples, final_accuracy*100)\n",
    ")\n",
    "\n",
    "# Plot the convergence of the cost function\n",
    "%matplotlib inline\n",
    "import matplotlib\n",
    "import matplotlib.pyplot as plt\n",
    "plt.figure(num=None,figsize=(8, 6))\n",
    "plt.plot(costs)\n",
    "plt.grid(True, which=\"both\")\n",
    "plt.xlabel('Epoch',fontsize=14)\n",
    "plt.ylabel('Cost',fontsize=14)\n",
    "plt.title(\"Learning Rate: \" + str(lr))\n",
    "plt.show;"
   ]
  },
  {
   "cell_type": "markdown",
   "metadata": {},
   "source": [
    "### Predict on Unseen Data"
   ]
  },
  {
   "cell_type": "code",
   "execution_count": null,
   "metadata": {},
   "outputs": [],
   "source": [
    "# Predict Funciton\n",
    "def predict(image, net):\n",
    "    data = nd.array(image).as_in_context(model_ctx)\n",
    "    output = net(data)\n",
    "    prediction = nd.argmax(output, axis=1)\n",
    "    return prediction"
   ]
  },
  {
   "cell_type": "markdown",
   "metadata": {},
   "source": [
    "#### Grumpy Cat"
   ]
  },
  {
   "cell_type": "code",
   "execution_count": null,
   "metadata": {},
   "outputs": [],
   "source": [
    "# Display and predict against grumpy cat image\n",
    "from skimage import transform\n",
    "my_image = \"grumpy_cat.jpeg\"\n",
    "#y = [1] # the true class label of the image (1 -> cat)\n",
    "fname = \"images/\" + my_image\n",
    "# Read the image\n",
    "img = plt.imread(fname)\n",
    "# Pre-process the image\n",
    "image = transform.resize(img, (64, 64), mode='constant').reshape((1, 64 * 64 * 3))\n",
    "# Run the model against the image\n",
    "my_predicted_image = int(np.squeeze(predict(image, net).asnumpy()[0]))\n",
    "# Plot the final image\n",
    "plt.rcParams['figure.figsize'] = (6.0, 7.0)\n",
    "plt.imshow(img);\n",
    "# Print the results\n",
    "print (\"y = \" + str(np.squeeze(my_predicted_image)) + \\\n",
    "       \"\\nThe trained model predicts a \\\"\" + \\\n",
    "       classes[my_predicted_image] +  \"\\\" picture.\")"
   ]
  },
  {
   "cell_type": "markdown",
   "metadata": {},
   "source": [
    "#### Gargouille"
   ]
  },
  {
   "cell_type": "code",
   "execution_count": null,
   "metadata": {},
   "outputs": [],
   "source": [
    "# Display and predict against the my image\n",
    "my_image = \"my_image.jpeg\"\n",
    "#y = [1] # the true class label of the image (1 -> cat)\n",
    "fname = \"images/\" + my_image\n",
    "# Read the image\n",
    "img = plt.imread(fname)\n",
    "# Pre-process the image\n",
    "image = transform.resize(img, (64, 64), mode='constant').reshape((1, 64 * 64 * 3))\n",
    "# Run the model against the image\n",
    "my_predicted_image = int(np.squeeze(predict(image, net).asnumpy()[0]))\n",
    "# Plot the final image\n",
    "plt.rcParams['figure.figsize'] = (6.0, 7.0)\n",
    "plt.imshow(img);\n",
    "# Print the results\n",
    "print (\"y = \" + str(np.squeeze(my_predicted_image)) + \\\n",
    "       \"\\nThe trained model predicts a \\\"\" + \\\n",
    "       classes[my_predicted_image] +  \"\\\" picture.\")"
   ]
  },
  {
   "cell_type": "markdown",
   "metadata": {},
   "source": [
    "### Save the Model and Optmized Parameters"
   ]
  },
  {
   "cell_type": "code",
   "execution_count": null,
   "metadata": {},
   "outputs": [],
   "source": [
    "# Create aplaceholder\n",
    "z = net(mx.sym.var('data'))\n",
    "\n",
    "# Save the model\n",
    "z.save('model.json')\n",
    "\n",
    "# Save the Optimized Parameters\n",
    "net.collect_params().save('model.params')"
   ]
  },
  {
   "cell_type": "markdown",
   "metadata": {},
   "source": [
    "### Load the Model and Test against different images"
   ]
  },
  {
   "cell_type": "code",
   "execution_count": null,
   "metadata": {},
   "outputs": [],
   "source": [
    "symbol = mx.sym.load('model.json')\n",
    "outputs = mx.sym.sigmoid(data=symbol, name='sigmoid_label')\n",
    "inputs = mx.sym.var('data')\n",
    "param_dict = gluon.ParameterDict('model_')\n",
    "model = gluon.SymbolBlock(outputs, inputs, param_dict)\n",
    "model.load_params('model.params', ctx=model_ctx)"
   ]
  },
  {
   "cell_type": "code",
   "execution_count": null,
   "metadata": {},
   "outputs": [],
   "source": [
    "# Display and predict against grumpy cat image\n",
    "my_image = \"grumpy_cat.jpeg\"\n",
    "#y = [1] # the true class label of the image (1 -> cat)\n",
    "fname = \"images/\" + my_image\n",
    "# Read the image\n",
    "img = plt.imread(fname)\n",
    "# Pre-process the image\n",
    "image = transform.resize(img, (64, 64), mode='constant').reshape((1, 64 * 64 * 3))\n",
    "# Run the model against the image\n",
    "my_predicted_image = int(np.squeeze(predict(image, model).asnumpy()[0]))\n",
    "# Plot the final image\n",
    "plt.rcParams['figure.figsize'] = (6.0, 7.0)\n",
    "plt.imshow(img);\n",
    "# Print the results\n",
    "print (\"y = \" + str(np.squeeze(my_predicted_image)) + \\\n",
    "       \"\\nThe trained model predicts a \\\"\" + \\\n",
    "       classes[my_predicted_image] +  \"\\\" picture.\")"
   ]
  },
  {
   "cell_type": "code",
   "execution_count": null,
   "metadata": {},
   "outputs": [],
   "source": [
    "# Display and predict against the my_image\n",
    "my_image = \"my_image.jpeg\"\n",
    "#y = [1] # the true class label of the image (1 -> cat)\n",
    "fname = \"images/\" + my_image\n",
    "# Read the image\n",
    "img = plt.imread(fname)\n",
    "# Pre-process the image\n",
    "image = transform.resize(img, (64, 64), mode='constant').reshape((1, 64 * 64 * 3))\n",
    "# Run the model against the image\n",
    "my_predicted_image = int(np.squeeze(predict(image, net).asnumpy()[0]))\n",
    "# Plot the final image\n",
    "plt.rcParams['figure.figsize'] = (6.0, 7.0)\n",
    "plt.imshow(img);\n",
    "# Print the results\n",
    "print (\"y = \" + str(np.squeeze(my_predicted_image)) + \\\n",
    "       \"\\nThe trained model predicts a \\\"\" + \\\n",
    "       classes[my_predicted_image] +  \"\\\" picture.\")"
   ]
  },
  {
   "cell_type": "code",
   "execution_count": null,
   "metadata": {},
   "outputs": [],
   "source": [
    "# Display and predict against the my_image 2\n",
    "my_image = \"my_image2.jpeg\"\n",
    "#y = [1] # the true class label of the image (1 -> cat)\n",
    "fname = \"images/\" + my_image\n",
    "# Read the image\n",
    "img = plt.imread(fname)\n",
    "# Pre-process the image\n",
    "image = transform.resize(img, (64, 64), mode='constant').reshape((1, 64 * 64 * 3))\n",
    "# Run the model against the image\n",
    "my_predicted_image = int(np.squeeze(predict(image, net).asnumpy()[0]))\n",
    "# Plot the final image\n",
    "plt.rcParams['figure.figsize'] = (6.0, 7.0)\n",
    "plt.imshow(img);\n",
    "# Print the results\n",
    "print (\"y = \" + str(np.squeeze(my_predicted_image)) + \\\n",
    "       \"\\nThe trained model predicts a \\\"\" + \\\n",
    "       classes[my_predicted_image] +  \"\\\" picture.\")"
   ]
  },
  {
   "cell_type": "code",
   "execution_count": null,
   "metadata": {},
   "outputs": [],
   "source": [
    "# Display and predict against the cat in iran\n",
    "my_image = \"cat_in_iran.jpeg\"\n",
    "#y = [1] # the true class label of the image (1 -> cat)\n",
    "fname = \"images/\" + my_image\n",
    "# Read the image\n",
    "img = plt.imread(fname)\n",
    "# Pre-process the image\n",
    "image = transform.resize(img, (64, 64), mode='constant').reshape((1, 64 * 64 * 3))\n",
    "# Run the model against the image\n",
    "my_predicted_image = int(np.squeeze(predict(image, net).asnumpy()[0]))\n",
    "# Plot the final image\n",
    "plt.rcParams['figure.figsize'] = (6.0, 7.0)\n",
    "plt.imshow(img);\n",
    "# Print the results\n",
    "print (\"y = \" + str(np.squeeze(my_predicted_image)) + \\\n",
    "       \"\\nThe trained model predicts a \\\"\" + \\\n",
    "       classes[my_predicted_image] +  \"\\\" picture.\")"
   ]
  },
  {
   "cell_type": "code",
   "execution_count": null,
   "metadata": {},
   "outputs": [],
   "source": [
    "# Display and predict against the mla_defense\n",
    "my_image = \"la_defense.jpeg\"\n",
    "#y = [1] # the true class label of the image (1 -> cat)\n",
    "fname = \"images/\" + my_image\n",
    "# Read the image\n",
    "img = plt.imread(fname)\n",
    "# Pre-process the image\n",
    "image = transform.resize(img, (64, 64), mode='constant').reshape((1, 64 * 64 * 3))\n",
    "# Run the model against the image\n",
    "my_predicted_image = int(np.squeeze(predict(image, net).asnumpy()[0]))\n",
    "# Plot the final image\n",
    "plt.rcParams['figure.figsize'] = (6.0, 7.0)\n",
    "plt.imshow(img);\n",
    "# Print the results\n",
    "print (\"y = \" + str(np.squeeze(my_predicted_image)) + \\\n",
    "       \"\\nThe trained model predicts a \\\"\" + \\\n",
    "       classes[my_predicted_image] +  \"\\\" picture.\")"
   ]
  }
 ],
 "metadata": {
  "kernelspec": {
   "display_name": "conda_mxnet_p36",
   "language": "python",
   "name": "conda_mxnet_p36"
  },
  "language_info": {
   "codemirror_mode": {
    "name": "ipython",
    "version": 3
   },
   "file_extension": ".py",
   "mimetype": "text/x-python",
   "name": "python",
   "nbconvert_exporter": "python",
   "pygments_lexer": "ipython3",
   "version": "3.6.4"
  }
 },
 "nbformat": 4,
 "nbformat_minor": 2
}
