{
 "cells": [
  {
   "cell_type": "code",
   "execution_count": 1,
   "metadata": {},
   "outputs": [
    {
     "name": "stderr",
     "output_type": "stream",
     "text": [
      "/home/ec2-user/anaconda3/envs/mxnet_p36/lib/python3.6/site-packages/urllib3/contrib/pyopenssl.py:46: DeprecationWarning: OpenSSL.rand is deprecated - you should use os.urandom instead\n",
      "  import OpenSSL.SSL\n"
     ]
    }
   ],
   "source": [
    "# Import necessary Libraries\n",
    "import mxnet as mx\n",
    "from mxnet import nd, autograd, gluon\n",
    "import numpy as np\n",
    "import h5py\n",
    "\n",
    "# Set contexts\n",
    "data_ctx = mx.cpu()\n",
    "model_ctx = mx.cpu()"
   ]
  },
  {
   "cell_type": "code",
   "execution_count": 2,
   "metadata": {
    "collapsed": true
   },
   "outputs": [],
   "source": [
    "# Import the Dataset\n",
    "dataset = h5py.File('datasets/datasets.h5', 'r')\n",
    "train_set_x_orig = np.array(dataset['train_set_x'][:])\n",
    "train_set_y_orig = np.array(dataset['train_set_y'][:])\n",
    "test_set_x_orig = np.array(dataset['test_set_x'][:])\n",
    "test_set_y_orig = np.array(dataset['test_set_y'][:])"
   ]
  },
  {
   "cell_type": "code",
   "execution_count": 3,
   "metadata": {},
   "outputs": [
    {
     "name": "stdout",
     "output_type": "stream",
     "text": [
      "Training Data Dimensions: (209, 64, 64, 3)\n",
      "No. Examples: 209\n",
      "No. Inputs: 12288\n"
     ]
    }
   ],
   "source": [
    "# View Dataset\n",
    "print(\"Training Data Dimensions: {}\".format(train_set_x_orig.shape))\n",
    "print(\"No. Examples: {}\".format(train_set_x_orig.reshape((-1, 12288)).shape[0]))\n",
    "print(\"No. Inputs: {}\".format(train_set_x_orig.reshape((-1, 12288)).shape[1]))"
   ]
  },
  {
   "cell_type": "code",
   "execution_count": 4,
   "metadata": {},
   "outputs": [
    {
     "name": "stdout",
     "output_type": "stream",
     "text": [
      "Training Data Dimensions: (50, 64, 64, 3)\n",
      "No. Examples: 50\n",
      "No. Inputs: 12288\n"
     ]
    }
   ],
   "source": [
    "# View Dataset\n",
    "print(\"Training Data Dimensions: {}\".format(test_set_x_orig.shape))\n",
    "print(\"No. Examples: {}\".format(test_set_x_orig.reshape((-1, 12288)).shape[0]))\n",
    "print(\"No. Inputs: {}\".format(test_set_x_orig.reshape((-1, 12288)).shape[1]))"
   ]
  },
  {
   "cell_type": "code",
   "execution_count": 5,
   "metadata": {
    "collapsed": true
   },
   "outputs": [],
   "source": [
    "#x = train_set_x_orig.reshape((-1, 12288))\n",
    "#x.shape"
   ]
  },
  {
   "cell_type": "code",
   "execution_count": 6,
   "metadata": {
    "collapsed": true
   },
   "outputs": [],
   "source": [
    "#y = train_set_x_orig.reshape((train_set_x_orig.shape[0], -1))\n",
    "#y.shape"
   ]
  },
  {
   "cell_type": "markdown",
   "metadata": {
    "collapsed": true
   },
   "source": [
    "```python\n",
    "# Standardize Images\n",
    "def transform(x):\n",
    "    #x = x.reshape((-1, 12288))\n",
    "    return x.astype(np.float32)/255\n",
    "train_x = transform(train_set_y_orig)\n",
    "train_y = train_set_y_orig.astype(np.float32)\n",
    "test_x = transform(test_set_x_orig)\n",
    "test_y = test_set_y_orig.astype(np.float32)\n",
    "```"
   ]
  },
  {
   "cell_type": "code",
   "execution_count": 7,
   "metadata": {
    "collapsed": true
   },
   "outputs": [],
   "source": [
    "def transform(x):\n",
    "    v = x.reshape((x.shape[0], (x.shape[1] * x.shape[2]) * x.shape[3]))\n",
    "    return v.astype(np.float32) / 255\n",
    "train_data = transform(train_set_x_orig)\n",
    "train_label = train_set_y_orig.astype(np.float32)\n",
    "test_data = transform(test_set_x_orig)\n",
    "test_label = test_set_y_orig.astype(np.float32)"
   ]
  },
  {
   "cell_type": "code",
   "execution_count": 8,
   "metadata": {},
   "outputs": [
    {
     "data": {
      "text/plain": [
       "(209, 12288)"
      ]
     },
     "execution_count": 8,
     "metadata": {},
     "output_type": "execute_result"
    }
   ],
   "source": [
    "train_data.shape"
   ]
  },
  {
   "cell_type": "code",
   "execution_count": 9,
   "metadata": {
    "collapsed": true
   },
   "outputs": [],
   "source": [
    "# Configure the Dataset\n",
    "batch_size = 209 # Using full set of observations\n",
    "num_examples = 209\n",
    "net_dims = [20, 7, 5, 1]\n",
    "lr = 0.0075\n",
    "\n",
    "# Create Training and Test Data\n",
    "train_data = mx.gluon.data.DataLoader(\n",
    "    mx.gluon.data.ArrayDataset(\n",
    "        train_data,\n",
    "        train_label\n",
    "    ),\n",
    "    shuffle=False,\n",
    "    batch_size=batch_size\n",
    ")\n",
    "test_data = mx.gluon.data.DataLoader(\n",
    "    mx.gluon.data.ArrayDataset(\n",
    "        test_data,\n",
    "        test_label\n",
    "    ),\n",
    "    shuffle=False,\n",
    "    batch_size=50\n",
    ")"
   ]
  },
  {
   "cell_type": "code",
   "execution_count": 10,
   "metadata": {
    "collapsed": true
   },
   "outputs": [],
   "source": [
    "# Network Model\n",
    "net = gluon.nn.Sequential()\n",
    "with net.name_scope():\n",
    "    net.add(gluon.nn.Dense(net_dims[0], activation='relu'))\n",
    "    net.add(gluon.nn.Dense(net_dims[1], activation='relu'))\n",
    "    net.add(gluon.nn.Dense(net_dims[2], activation='relu'))\n",
    "    net.add(gluon.nn.Dense(net_dims[3]))\n",
    "\n",
    "# Parameter Initialization\n",
    "net.collect_params().initialize(mx.init.Xavier(magnitude=2.24))\n",
    "# Optimizer\n",
    "trainer = gluon.Trainer(net.collect_params(), 'sgd', {'learning_rate': lr})\n",
    "# Cross Entropy Loss Function\n",
    "cross_entropy = gluon.loss.SigmoidBinaryCrossEntropyLoss()"
   ]
  },
  {
   "cell_type": "code",
   "execution_count": 11,
   "metadata": {
    "collapsed": true
   },
   "outputs": [],
   "source": [
    "# Evlauation metric\n",
    "def eval_acc(data_iterator, net):\n",
    "    acc = mx.metric.Accuracy()\n",
    "    for i, (data, label) in enumerate(data_iterator):\n",
    "        data = data.as_in_context(model_ctx)\n",
    "        label = label.as_in_context(model_ctx)\n",
    "        output = net(data)\n",
    "        #predictions = nd.argmax(output, axis=1)\n",
    "        predictions = (nd.sign(output) + 1) / 2\n",
    "        acc.update(preds=predictions, labels=label)\n",
    "    return acc.get()[1]"
   ]
  },
  {
   "cell_type": "code",
   "execution_count": 12,
   "metadata": {},
   "outputs": [
    {
     "name": "stdout",
     "output_type": "stream",
     "text": [
      "Epoch: 0; Loss: 0.7260456724029979; Training Acc: 0.41148325358851673; Testing Acc: 0.62\n",
      "Epoch: 100; Loss: 0.6601046329480039; Training Acc: 0.7799043062200957; Testing Acc: 0.56\n",
      "Epoch: 200; Loss: 0.6184453644820948; Training Acc: 0.84688995215311; Testing Acc: 0.7\n",
      "Epoch: 300; Loss: 0.5706491789749365; Training Acc: 0.8755980861244019; Testing Acc: 0.8\n",
      "Epoch: 400; Loss: 0.5139462776731646; Training Acc: 0.9330143540669856; Testing Acc: 0.78\n",
      "Epoch: 500; Loss: 0.462527115379224; Training Acc: 0.9425837320574163; Testing Acc: 0.74\n",
      "Epoch: 600; Loss: 0.44947694477282074; Training Acc: 0.9186602870813397; Testing Acc: 0.74\n",
      "Epoch: 700; Loss: 0.352353255714526; Training Acc: 0.9665071770334929; Testing Acc: 0.78\n",
      "Epoch: 800; Loss: 0.3094401747416081; Training Acc: 0.9712918660287081; Testing Acc: 0.76\n",
      "Epoch: 900; Loss: 0.27620390385531923; Training Acc: 0.9856459330143541; Testing Acc: 0.76\n",
      "Epoch: 1000; Loss: 0.25197608619215384; Training Acc: 0.9808612440191388; Testing Acc: 0.76\n",
      "Epoch: 1100; Loss: 0.22029274388363487; Training Acc: 0.9856459330143541; Testing Acc: 0.78\n",
      "Epoch: 1200; Loss: 0.20283068424206602; Training Acc: 0.9856459330143541; Testing Acc: 0.78\n",
      "Epoch: 1300; Loss: 0.19688473934191836; Training Acc: 0.9856459330143541; Testing Acc: 0.78\n",
      "Epoch: 1400; Loss: 0.17667885374224357; Training Acc: 0.9856459330143541; Testing Acc: 0.78\n",
      "Epoch: 1500; Loss: 0.1642939553876813; Training Acc: 0.9856459330143541; Testing Acc: 0.78\n",
      "Epoch: 1600; Loss: 0.15608965494986357; Training Acc: 0.9856459330143541; Testing Acc: 0.78\n",
      "Epoch: 1700; Loss: 0.147705753454181; Training Acc: 0.9856459330143541; Testing Acc: 0.78\n",
      "Epoch: 1800; Loss: 0.14143308612148156; Training Acc: 0.9856459330143541; Testing Acc: 0.78\n",
      "Epoch: 1900; Loss: 0.1353667592317864; Training Acc: 0.9856459330143541; Testing Acc: 0.78\n",
      "Epoch: 2000; Loss: 0.1301000312184603; Training Acc: 0.9856459330143541; Testing Acc: 0.78\n",
      "Epoch: 2100; Loss: 0.12551686410128216; Training Acc: 0.9856459330143541; Testing Acc: 0.78\n",
      "Epoch: 2200; Loss: 0.12125463348826723; Training Acc: 0.9856459330143541; Testing Acc: 0.78\n",
      "Epoch: 2300; Loss: 0.11770448274019232; Training Acc: 0.9856459330143541; Testing Acc: 0.78\n",
      "Epoch: 2400; Loss: 0.11431915794263046; Training Acc: 0.9856459330143541; Testing Acc: 0.78\n"
     ]
    }
   ],
   "source": [
    "# Training Loop\n",
    "epochs = 2500\n",
    "costs = []\n",
    "\n",
    "for e in range(epochs):\n",
    "    cumulative_loss = 0\n",
    "    # Enumerate bacthes\n",
    "    for i, (data, label) in enumerate(train_data):\n",
    "        data = data.as_in_context(model_ctx)\n",
    "        label = label.as_in_context(model_ctx)\n",
    "        # Record for calculating derivatives for forward pass\n",
    "        with autograd.record():\n",
    "            output = net(data)\n",
    "            loss = cross_entropy(output, label)\n",
    "        # Run backward pass\n",
    "        loss.backward()\n",
    "        trainer.step(data.shape[0])\n",
    "        cumulative_loss += nd.sum(loss).asscalar()\n",
    "        \n",
    "    \n",
    "    test_accuracy = eval_acc(test_data, net)\n",
    "    train_accuracy = eval_acc(train_data, net)\n",
    "    costs.append(cumulative_loss/num_examples)\n",
    "    if e % 100 ==0:\n",
    "        print(\"Epoch: {}; Loss: {}; Training Acc: {}; Testing Acc: {}\".format(\n",
    "            e,\n",
    "            cumulative_loss/num_examples,\n",
    "            train_accuracy,\n",
    "            test_accuracy\n",
    "        ))"
   ]
  },
  {
   "cell_type": "code",
   "execution_count": 13,
   "metadata": {},
   "outputs": [
    {
     "name": "stdout",
     "output_type": "stream",
     "text": [
      "Final Score\n",
      "\n",
      "Epoch: 2499\n",
      " Loss: 0.11172863170861057\n",
      " Training Acc: 0.9856459330143541;\n",
      " Testing Acc: 0.78\n"
     ]
    },
    {
     "data": {
      "image/png": "[encoded data removed]",
      "text/plain": [
       "<matplotlib.figure.Figure at 0x7ff23c288e48>"
      ]
     },
     "metadata": {},
     "output_type": "display_data"
    }
   ],
   "source": [
    "# Final Score\n",
    "print(\"Final Score\\n\\nEpoch: {}\\n Loss: {}\\n Training Acc: {};\\n Testing Acc: {}\".format(e,cumulative_loss/num_examples,train_accuracy,test_accuracy))\n",
    "\n",
    "# plot the convergence of the estimated loss function\n",
    "%matplotlib inline\n",
    "\n",
    "import matplotlib\n",
    "import matplotlib.pyplot as plt\n",
    "\n",
    "plt.figure(num=None,figsize=(8, 6))\n",
    "plt.plot(costs)\n",
    "\n",
    "# Adding some bells and whistles to the plot\n",
    "plt.grid(True, which=\"both\")\n",
    "plt.xlabel('Epoch',fontsize=14)\n",
    "plt.ylabel('Cost',fontsize=14)\n",
    "plt.title(\"Learning Rate: \" + str(lr))\n",
    "plt.show;"
   ]
  }
 ],
 "metadata": {
  "kernelspec": {
   "display_name": "conda_mxnet_p36",
   "language": "python",
   "name": "conda_mxnet_p36"
  },
  "language_info": {
   "codemirror_mode": {
    "name": "ipython",
    "version": 3
   },
   "file_extension": ".py",
   "mimetype": "text/x-python",
   "name": "python",
   "nbconvert_exporter": "python",
   "pygments_lexer": "ipython3",
   "version": "3.6.2"
  }
 },
 "nbformat": 4,
 "nbformat_minor": 2
}
