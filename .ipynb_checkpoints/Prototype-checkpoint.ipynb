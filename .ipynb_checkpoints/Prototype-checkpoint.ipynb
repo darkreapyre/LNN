{
 "cells": [
  {
   "cell_type": "markdown",
   "metadata": {},
   "source": [
    "# Gluon Model Evaluation Using `SigmoidBinaryCrossEntropyLoss`"
   ]
  },
  {
   "cell_type": "code",
   "execution_count": 1,
   "metadata": {},
   "outputs": [
    {
     "name": "stderr",
     "output_type": "stream",
     "text": [
      "/home/ec2-user/anaconda3/envs/mxnet_p27/lib/python2.7/site-packages/urllib3/contrib/pyopenssl.py:46: DeprecationWarning: OpenSSL.rand is deprecated - you should use os.urandom instead\n",
      "  import OpenSSL.SSL\n"
     ]
    }
   ],
   "source": [
    "# Import necessary Libraries\n",
    "from __future__ import print_function\n",
    "import mxnet as mx\n",
    "from mxnet import nd, autograd, gluon\n",
    "import numpy as np\n",
    "import h5py\n",
    "from sklearn.metrics import accuracy_score"
   ]
  },
  {
   "cell_type": "markdown",
   "metadata": {},
   "source": [
    "### Datasets"
   ]
  },
  {
   "cell_type": "code",
   "execution_count": 2,
   "metadata": {
    "collapsed": true
   },
   "outputs": [],
   "source": [
    "# Import the Datasets\n",
    "dataset = h5py.File('datasets/datasets.h5', 'r')\n",
    "train_set_x_orig = np.array(dataset['train_set_x'][:])\n",
    "train_set_y_orig = np.array(dataset['train_set_y'][:])\n",
    "test_set_x_orig = np.array(dataset['test_set_x'][:])\n",
    "test_set_y_orig = np.array(dataset['test_set_y'][:])"
   ]
  },
  {
   "cell_type": "code",
   "execution_count": 3,
   "metadata": {},
   "outputs": [
    {
     "name": "stdout",
     "output_type": "stream",
     "text": [
      "Training Data Dimensions: (209, 64, 64, 3)\n",
      "No. Examples: 209\n",
      "No. Inputs: 12288\n"
     ]
    }
   ],
   "source": [
    "# View Training Dataset\n",
    "print(\"Training Data Dimensions: {}\".format(train_set_x_orig.shape))\n",
    "print(\"No. Examples: {}\".format(train_set_x_orig.reshape((-1, 12288)).shape[0]))\n",
    "print(\"No. Inputs: {}\".format(train_set_x_orig.reshape((-1, 12288)).shape[1]))"
   ]
  },
  {
   "cell_type": "code",
   "execution_count": 4,
   "metadata": {},
   "outputs": [
    {
     "name": "stdout",
     "output_type": "stream",
     "text": [
      "Testing Data Dimensions: (50, 64, 64, 3)\n",
      "No. Examples: 50\n",
      "No. Inputs: 12288\n"
     ]
    }
   ],
   "source": [
    "# View Testing Dataset\n",
    "print(\"Testing Data Dimensions: {}\".format(test_set_x_orig.shape))\n",
    "print(\"No. Examples: {}\".format(test_set_x_orig.reshape((-1, 12288)).shape[0]))\n",
    "print(\"No. Inputs: {}\".format(test_set_x_orig.reshape((-1, 12288)).shape[1]))"
   ]
  },
  {
   "cell_type": "code",
   "execution_count": 5,
   "metadata": {},
   "outputs": [
    {
     "name": "stdout",
     "output_type": "stream",
     "text": [
      "Final Training Data Dimensions: (209, 12288)\n",
      "Final Testing Data Dimensions: (50, 12288)\n"
     ]
    }
   ],
   "source": [
    "# Pre-process Data\n",
    "def transform(x):\n",
    "    v = x.reshape((x.shape[0], (x.shape[1] * x.shape[2]) * x.shape[3]))\n",
    "    return v.astype(np.float32) / 255\n",
    "train_data = transform(train_set_x_orig)\n",
    "train_label = train_set_y_orig.astype(np.float32)\n",
    "test_data = transform(test_set_x_orig)\n",
    "test_label = test_set_y_orig.astype(np.float32)\n",
    "print(\"Final Training Data Dimensions: {}\".format(train_data.shape))\n",
    "print(\"Final Testing Data Dimensions: {}\".format(test_data.shape))"
   ]
  },
  {
   "cell_type": "markdown",
   "metadata": {},
   "source": [
    "### Neural Network Configuration"
   ]
  },
  {
   "cell_type": "code",
   "execution_count": 6,
   "metadata": {
    "collapsed": true
   },
   "outputs": [],
   "source": [
    "# Configure the Dataset\n",
    "batch_size = 64 # Using full set of observations\n",
    "num_examples = 209\n",
    "net_dims = [20, 7, 5, 1]\n",
    "lr = 0.0075\n",
    "\n",
    "# Create Training and Test Data Iterator\n",
    "train_data = mx.gluon.data.DataLoader(\n",
    "    mx.gluon.data.ArrayDataset(\n",
    "        train_data,\n",
    "        train_label\n",
    "    ),\n",
    "    shuffle=True,\n",
    "    batch_size=batch_size\n",
    ")\n",
    "test_data = mx.gluon.data.DataLoader(\n",
    "    mx.gluon.data.ArrayDataset(\n",
    "        test_data,\n",
    "        test_label\n",
    "    ),\n",
    "    shuffle=False,\n",
    "    batch_size=batch_size\n",
    ")"
   ]
  },
  {
   "cell_type": "markdown",
   "metadata": {},
   "source": [
    "### Neural Network Model"
   ]
  },
  {
   "cell_type": "code",
   "execution_count": 7,
   "metadata": {
    "collapsed": true
   },
   "outputs": [],
   "source": [
    "# Network Model\n",
    "model_ctx = mx.cpu()\n",
    "net = gluon.nn.HybridSequential()\n",
    "with net.name_scope():\n",
    "    net.add(gluon.nn.Dense(net_dims[0], activation='relu'))\n",
    "    net.add(gluon.nn.Dense(net_dims[1], activation='relu'))\n",
    "    net.add(gluon.nn.Dense(net_dims[2], activation='relu'))\n",
    "    net.add(gluon.nn.Dense(net_dims[3], activation='sigmoid'))\n",
    "net.hybridize()\n",
    "\n",
    "# Parameter Initialization\n",
    "#net.collect_params().initialize(mx.init.Xavier(magnitude=3.24))\n",
    "net.collect_params().initialize(mx.init.MSRAPrelu())\n",
    "# Optimizer\n",
    "# Optimizer\n",
    "trainer = gluon.Trainer(net.collect_params(), 'sgd', {'learning_rate': lr})\n",
    "# Cross Entropy Loss Function\n",
    "binary_ce = gluon.loss.SigmoidBinaryCrossEntropyLoss(from_sigmoid=True)\n",
    "\n",
    "# Evlauation metric\n",
    "def eval_acc(data_iterator, net):\n",
    "    acc = mx.metric.Accuracy()\n",
    "    for i, (data, label) in enumerate(data_iterator):\n",
    "        #acc.reset()\n",
    "        data = data.as_in_context(model_ctx)\n",
    "        label = label.as_in_context(model_ctx)\n",
    "        output = net(data)\n",
    "        predictions = (nd.sign(output) + 1) /2\n",
    "        acc.update(preds=predictions, labels=label)\n",
    "    return acc.get()[1]"
   ]
  },
  {
   "cell_type": "code",
   "execution_count": null,
   "metadata": {
    "collapsed": true
   },
   "outputs": [],
   "source": [
    "# Scikit Accuracy Score\n",
    "def accuracy(data_iterator, net, Y):\n",
    "    for i, (data, label) in enumerate(data_iterator):\n",
    "        data = data.as_in_context(model_ctx)\n",
    "        label = label.as_in_context(model_ctx)\n",
    "        output = net(data)\n",
    "        decision_boundary = np.vectorize(lambda x: 1 if x > 0.5 else 0)\n",
    "        y_pred = list(decision_boundary(output.asnumpy()).flat)\n",
    "        Y = list(Y.flat)\n",
    "    return accuracy_score(Y, y_pred)"
   ]
  },
  {
   "cell_type": "markdown",
   "metadata": {},
   "source": [
    "### Model Training"
   ]
  },
  {
   "cell_type": "code",
   "execution_count": null,
   "metadata": {},
   "outputs": [
    {
     "name": "stdout",
     "output_type": "stream",
     "text": [
      "Epoch: 0; Loss: 1.02982724568; Test Set Accuracy: 0.68\n",
      "Epoch: 100; Loss: 0.626355440423; Test Set Accuracy: 0.42\n",
      "Epoch: 200; Loss: 0.554855531483; Test Set Accuracy: 0.5\n",
      "Epoch: 300; Loss: 0.438459156803; Test Set Accuracy: 0.64\n",
      "Epoch: 400; Loss: 0.349230502781; Test Set Accuracy: 0.74\n",
      "Epoch: 500; Loss: 0.302286307778; Test Set Accuracy: 0.74\n",
      "Epoch: 600; Loss: 0.264125308352; Test Set Accuracy: 0.76\n"
     ]
    }
   ],
   "source": [
    "# Training Loop\n",
    "epochs = 5000\n",
    "costs = []\n",
    "\n",
    "for e in range(epochs):\n",
    "    cumulative_loss = 0\n",
    "    # Enumerate bacthes\n",
    "    for i, (data, label) in enumerate(train_data):\n",
    "        data = data.as_in_context(model_ctx)\n",
    "        label = label.as_in_context(model_ctx)\n",
    "        # Record for calculating derivatives for forward pass\n",
    "        with autograd.record():\n",
    "            output = net(data)\n",
    "            loss = binary_ce(output, label)\n",
    "        # Run backward pass\n",
    "        loss.backward()\n",
    "        trainer.step(data.shape[0])\n",
    "        cumulative_loss += nd.sum(loss).asscalar()\n",
    "    test_accuracy = accuracy(test_data, net, test_set_y_orig)\n",
    "    #train_accuracy = eval_acc(test_data, net)\n",
    "    costs.append(cumulative_loss/num_examples)\n",
    "    if e % 100 ==0:\n",
    "        #print(\"Epoch: {}; Loss: {}; Training Acc: {}; Testing Acc: {}\"\\\n",
    "        #      .format(e,cumulative_loss/num_examples,train_accuracy,test_accuracy))\n",
    "        print(\"Epoch: {}; Loss: {}; Test Set Accuracy: {}\"\\\n",
    "              .format(e,cumulative_loss/num_examples,test_accuracy))"
   ]
  },
  {
   "cell_type": "markdown",
   "metadata": {},
   "source": [
    "### Training Analysis"
   ]
  },
  {
   "cell_type": "code",
   "execution_count": null,
   "metadata": {},
   "outputs": [],
   "source": [
    "# Final Score\n",
    "final_accuracy = accuracy(test_data, net, test_set_y_orig)\n",
    "print(\"Epoch: {}\\nLoss: {}\\nTest Set Accuracy: {}%\".format(e,cumulative_loss/num_examples, final_accuracy*100))\n",
    "\n",
    "# Plot the convergence of the cost function\n",
    "%matplotlib inline\n",
    "import matplotlib\n",
    "import matplotlib.pyplot as plt\n",
    "plt.figure(num=None,figsize=(8, 6))\n",
    "plt.plot(costs)\n",
    "plt.grid(True, which=\"both\")\n",
    "plt.xlabel('Epoch',fontsize=14)\n",
    "plt.ylabel('Cost',fontsize=14)\n",
    "plt.title(\"Learning Rate: \" + str(lr))\n",
    "plt.show;"
   ]
  },
  {
   "cell_type": "markdown",
   "metadata": {},
   "source": [
    "### Predict on Unseen Data"
   ]
  },
  {
   "cell_type": "code",
   "execution_count": null,
   "metadata": {
    "collapsed": true
   },
   "outputs": [],
   "source": [
    "# Predict Funciton\n",
    "def predict(image, nn):\n",
    "    data = nd.array(image).as_in_context(model_ctx)\n",
    "    output = nn(data)\n",
    "    prediction = (nd.sign(output) + 1) /2\n",
    "    return prediction"
   ]
  },
  {
   "cell_type": "markdown",
   "metadata": {},
   "source": [
    "#### Grumpy Cat"
   ]
  },
  {
   "cell_type": "code",
   "execution_count": null,
   "metadata": {},
   "outputs": [],
   "source": [
    "# Display and predict against grumpy cat image\n",
    "from skimage import transform\n",
    "classes = ['non-cat', 'cat']\n",
    "my_image = \"grumpy_cat.jpeg\"\n",
    "#y = [1] # the true class label of the image (1 -> cat)\n",
    "fname = \"images/\" + my_image\n",
    "# Read the image\n",
    "img = plt.imread(fname)\n",
    "# Pre-process the image\n",
    "image = transform.resize(img, (64, 64), mode='constant').reshape((1, 64 * 64 * 3))\n",
    "# Run the model against the image\n",
    "my_predicted_image = np.squeeze(predict(image, net).asnumpy()[0])\n",
    "# Plot the final image\n",
    "plt.rcParams['figure.figsize'] = (6.0, 7.0)\n",
    "plt.imshow(img);\n",
    "# Print the results\n",
    "print (\"y = \" + str(np.squeeze(my_predicted_image)) + \\\n",
    "       \"\\nThe trained model predicts a \\\"\" + \\\n",
    "       classes[int(my_predicted_image)] +  \"\\\" picture.\")"
   ]
  },
  {
   "cell_type": "markdown",
   "metadata": {},
   "source": [
    "#### Gargouille"
   ]
  },
  {
   "cell_type": "code",
   "execution_count": null,
   "metadata": {},
   "outputs": [],
   "source": [
    "# Display and predict against the gargouille image\n",
    "my_image = \"gargouille.jpeg\"\n",
    "#y = [1] # the true class label of the image (1 -> cat)\n",
    "fname = \"images/\" + my_image\n",
    "# Read the image\n",
    "img = plt.imread(fname)\n",
    "# Pre-process the image\n",
    "image = transform.resize(img, (64, 64), mode='constant').reshape((1, 64 * 64 * 3))\n",
    "# Run the model against the image\n",
    "my_predicted_image = np.squeeze(predict(image, net).asnumpy()[0])\n",
    "# Plot the final image\n",
    "plt.rcParams['figure.figsize'] = (6.0, 7.0)\n",
    "plt.imshow(img);\n",
    "# Print the results\n",
    "print (\"y = \" + str(np.squeeze(my_predicted_image)) + \\\n",
    "       \"\\nThe trained model predicts a \\\"\" + \\\n",
    "       classes[int()] +  \"\\\" picture.\")"
   ]
  },
  {
   "cell_type": "markdown",
   "metadata": {},
   "source": [
    "### Save the Model and Optmized Parameters"
   ]
  },
  {
   "cell_type": "code",
   "execution_count": null,
   "metadata": {
    "collapsed": true
   },
   "outputs": [],
   "source": [
    "# Create aplaceholder\n",
    "z = net(mx.sym.var('data'))\n",
    "\n",
    "# Save the model\n",
    "z.save('model.json')\n",
    "\n",
    "# Save the Optimized Parameters\n",
    "net.collect_params().save('model.params')"
   ]
  },
  {
   "cell_type": "markdown",
   "metadata": {},
   "source": [
    "### Load the Model and Test"
   ]
  },
  {
   "cell_type": "code",
   "execution_count": null,
   "metadata": {
    "collapsed": true
   },
   "outputs": [],
   "source": [
    "symbol = mx.sym.load('model.json')\n",
    "outputs = mx.sym.sigmoid(data=symbol, name='sigmoid_label')\n",
    "inputs = mx.sym.var('data')\n",
    "param_dict = gluon.ParameterDict('model_')\n",
    "model = gluon.SymbolBlock(outputs, inputs, param_dict)\n",
    "model.load_params('model.params', ctx=model_ctx)"
   ]
  },
  {
   "cell_type": "code",
   "execution_count": null,
   "metadata": {},
   "outputs": [],
   "source": [
    "# Display and predict against grumpy cat image\n",
    "from skimage import transform\n",
    "classes = ['non-cat', 'cat']\n",
    "my_image = \"grumpy_cat.jpeg\"\n",
    "#y = [1] # the true class label of the image (1 -> cat)\n",
    "fname = \"images/\" + my_image\n",
    "# Read the image\n",
    "img = plt.imread(fname)\n",
    "# Pre-process the image\n",
    "image = transform.resize(img, (64, 64), mode='constant').reshape((1, 64 * 64 * 3))\n",
    "# Run the model against the image\n",
    "my_predicted_image = np.squeeze(predict(image, model).asnumpy()[0])\n",
    "# Plot the final image\n",
    "plt.rcParams['figure.figsize'] = (6.0, 7.0)\n",
    "plt.imshow(img);\n",
    "# Print the results\n",
    "print (\"y = \" + str(np.squeeze(my_predicted_image)) + \\\n",
    "       \"\\nThe trained model predicts a \\\"\" + \\\n",
    "       classes[int(my_predicted_image)] +  \"\\\" picture.\")"
   ]
  },
  {
   "cell_type": "code",
   "execution_count": null,
   "metadata": {},
   "outputs": [],
   "source": [
    "# Display and predict against the gargouille image\n",
    "my_image = \"my_image.jpeg\"\n",
    "#y = [1] # the true class label of the image (1 -> cat)\n",
    "fname = \"images/\" + my_image\n",
    "# Read the image\n",
    "img = plt.imread(fname)\n",
    "# Pre-process the image\n",
    "image = transform.resize(img, (64, 64), mode='constant').reshape((1, 64 * 64 * 3))\n",
    "# Run the model against the image\n",
    "my_predicted_image = np.squeeze(predict(image, model).asnumpy()[0])\n",
    "# Plot the final image\n",
    "plt.rcParams['figure.figsize'] = (6.0, 7.0)\n",
    "plt.imshow(img);\n",
    "# Print the results\n",
    "print (\"y = \" + str(np.squeeze(my_predicted_image)) + \\\n",
    "       \"\\nThe trained model predicts a \\\"\" + \\\n",
    "       classes[int()] +  \"\\\" picture.\")"
   ]
  }
 ],
 "metadata": {
  "kernelspec": {
   "display_name": "conda_mxnet_p27",
   "language": "python",
   "name": "conda_mxnet_p27"
  },
  "language_info": {
   "codemirror_mode": {
    "name": "ipython",
    "version": 2
   },
   "file_extension": ".py",
   "mimetype": "text/x-python",
   "name": "python",
   "nbconvert_exporter": "python",
   "pygments_lexer": "ipython2",
   "version": "2.7.11"
  }
 },
 "nbformat": 4,
 "nbformat_minor": 2
}
