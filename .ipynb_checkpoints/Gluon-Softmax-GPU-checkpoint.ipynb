{
 "cells": [
  {
   "cell_type": "markdown",
   "metadata": {},
   "source": [
    "# Gluon Model Evaluation using `SoftmaxCrossEntropyLoss`"
   ]
  },
  {
   "cell_type": "code",
   "execution_count": 1,
   "metadata": {},
   "outputs": [
    {
     "name": "stderr",
     "output_type": "stream",
     "text": [
      "/home/ec2-user/anaconda3/envs/mxnet_p27/lib/python2.7/site-packages/urllib3/contrib/pyopenssl.py:46: DeprecationWarning: OpenSSL.rand is deprecated - you should use os.urandom instead\n",
      "  import OpenSSL.SSL\n"
     ]
    }
   ],
   "source": [
    "# Import necessary Libraries\n",
    "from __future__ import print_function\n",
    "import mxnet as mx\n",
    "from mxnet import nd, autograd, gluon\n",
    "import numpy as np\n",
    "import h5py\n",
    "from sklearn.metrics import accuracy_score"
   ]
  },
  {
   "cell_type": "markdown",
   "metadata": {},
   "source": [
    "### Datasets"
   ]
  },
  {
   "cell_type": "code",
   "execution_count": 2,
   "metadata": {
    "collapsed": true
   },
   "outputs": [],
   "source": [
    "# Import the Datasets\n",
    "dataset = h5py.File('datasets/datasets.h5', 'r')\n",
    "train_set_x_orig = np.array(dataset['train_set_x'][:])\n",
    "train_set_y_orig = np.array(dataset['train_set_y'][:])\n",
    "test_set_x_orig = np.array(dataset['test_set_x'][:])\n",
    "test_set_y_orig = np.array(dataset['test_set_y'][:])"
   ]
  },
  {
   "cell_type": "code",
   "execution_count": 3,
   "metadata": {},
   "outputs": [
    {
     "name": "stdout",
     "output_type": "stream",
     "text": [
      "Training Data Dimensions: (209, 64, 64, 3)\n",
      "No. Examples: 209\n",
      "No. Inputs: 12288\n"
     ]
    }
   ],
   "source": [
    "# View Training Dataset\n",
    "print(\"Training Data Dimensions: {}\".format(train_set_x_orig.shape))\n",
    "print(\"No. Examples: {}\".format(train_set_x_orig.reshape((-1, 12288)).shape[0]))\n",
    "print(\"No. Inputs: {}\".format(train_set_x_orig.reshape((-1, 12288)).shape[1]))"
   ]
  },
  {
   "cell_type": "code",
   "execution_count": 4,
   "metadata": {},
   "outputs": [
    {
     "name": "stdout",
     "output_type": "stream",
     "text": [
      "Testing Data Dimensions: (50, 64, 64, 3)\n",
      "No. Examples: 50\n",
      "No. Inputs: 12288\n"
     ]
    }
   ],
   "source": [
    "# View Testing Dataset\n",
    "print(\"Testing Data Dimensions: {}\".format(test_set_x_orig.shape))\n",
    "print(\"No. Examples: {}\".format(test_set_x_orig.reshape((-1, 12288)).shape[0]))\n",
    "print(\"No. Inputs: {}\".format(test_set_x_orig.reshape((-1, 12288)).shape[1]))"
   ]
  },
  {
   "cell_type": "code",
   "execution_count": 5,
   "metadata": {},
   "outputs": [
    {
     "name": "stdout",
     "output_type": "stream",
     "text": [
      "Final Training Data Dimensions: (209, 12288)\n",
      "Final Testing Data Dimensions: (50, 12288)\n"
     ]
    }
   ],
   "source": [
    "# Pre-process Data\n",
    "def transform(x):\n",
    "    v = x.reshape((x.shape[0], (x.shape[1] * x.shape[2]) * x.shape[3]))\n",
    "    return v.astype(np.float32) / 255\n",
    "train_data = transform(train_set_x_orig)\n",
    "train_label = train_set_y_orig.astype(np.float32)\n",
    "test_data = transform(test_set_x_orig)\n",
    "test_label = test_set_y_orig.astype(np.float32)\n",
    "print(\"Final Training Data Dimensions: {}\".format(train_data.shape))\n",
    "print(\"Final Testing Data Dimensions: {}\".format(test_data.shape))"
   ]
  },
  {
   "cell_type": "markdown",
   "metadata": {},
   "source": [
    "### Neural Network Configuration"
   ]
  },
  {
   "cell_type": "code",
   "execution_count": 6,
   "metadata": {
    "collapsed": true
   },
   "outputs": [],
   "source": [
    "# Network Config\n",
    "epochs = 2500\n",
    "num_examples = train_data.shape[0]\n",
    "batch_size = 64\n",
    "lr = 0.0075\n",
    "\n",
    "# Create Training and Test Data Iterator\n",
    "train_data = mx.gluon.data.DataLoader(\n",
    "    mx.gluon.data.ArrayDataset(\n",
    "        train_data,\n",
    "        train_label\n",
    "    ),\n",
    "    shuffle=True,\n",
    "    batch_size=batch_size\n",
    ")\n",
    "test_data = mx.gluon.data.DataLoader(\n",
    "    mx.gluon.data.ArrayDataset(\n",
    "        test_data,\n",
    "        test_label\n",
    "    ),\n",
    "    shuffle=False,\n",
    "    batch_size=batch_size\n",
    ")"
   ]
  },
  {
   "cell_type": "markdown",
   "metadata": {},
   "source": [
    "### Neural Network Model"
   ]
  },
  {
   "cell_type": "code",
   "execution_count": 7,
   "metadata": {
    "collapsed": true
   },
   "outputs": [],
   "source": [
    "# Network Model\n",
    "model_ctx = mx.cpu()\n",
    "net = gluon.nn.HybridSequential()\n",
    "with net.name_scope():\n",
    "    net.add(gluon.nn.Dense(20, activation='relu'))\n",
    "    net.add(gluon.nn.Dense(7, activation='relu'))\n",
    "    net.add(gluon.nn.Dense(5, activation='relu'))\n",
    "    net.add(gluon.nn.Dense(2))\n",
    "net.hybridize()\n",
    "\n",
    "# Parameter Initialization\n",
    "#net.collect_params().initialize(mx.init.Xavier(magnitude=2))\n",
    "#net.collect_params().initialize(mx.init.Normal(sigma=1.))\n",
    "#net.collect_params().initialize(mx.init.Xavier(factor_type=\"in\", rnd_type='gaussian', magnitude=2))\n",
    "net.collect_params().initialize(mx.init.MSRAPrelu())\n",
    "# Optimizer\n",
    "trainer = gluon.Trainer(net.collect_params(), 'sgd', {'learning_rate': lr})\n",
    "# Cross Entropy Loss Function\n",
    "softmax_ce = gluon.loss.SoftmaxCrossEntropyLoss()"
   ]
  },
  {
   "cell_type": "code",
   "execution_count": 8,
   "metadata": {
    "collapsed": true
   },
   "outputs": [],
   "source": [
    "# Evlauation metric\n",
    "def eval_acc(data_iterator, net):\n",
    "    acc = mx.metric.Accuracy()\n",
    "    for i, (data, label) in enumerate(data_iterator):\n",
    "        #acc.reset()\n",
    "        data = data.as_in_context(model_ctx)\n",
    "        label = label.as_in_context(model_ctx)\n",
    "        output = net(data)\n",
    "        predictions = nd.argmax(output, axis=1)\n",
    "        acc.update(preds=predictions, labels=label)\n",
    "    return acc.get()[1]"
   ]
  },
  {
   "cell_type": "markdown",
   "metadata": {},
   "source": [
    "### Model Training"
   ]
  },
  {
   "cell_type": "code",
   "execution_count": 9,
   "metadata": {},
   "outputs": [
    {
     "name": "stdout",
     "output_type": "stream",
     "text": [
      "Epoch0; Loss = 0.72030085696; Train-accuracy = 0.645933014354; Validation-accuracy = 0.32\n",
      "Epoch100; Loss = 0.318416408375; Train-accuracy = 0.870813397129; Validation-accuracy = 0.76\n",
      "Epoch200; Loss = 0.114144747337; Train-accuracy = 0.956937799043; Validation-accuracy = 0.66\n"
     ]
    },
    {
     "ename": "KeyboardInterrupt",
     "evalue": "",
     "output_type": "error",
     "traceback": [
      "\u001b[0;31m\u001b[0m",
      "\u001b[0;31mKeyboardInterrupt\u001b[0mTraceback (most recent call last)",
      "\u001b[0;32m<ipython-input-9-35a99966c600>\u001b[0m in \u001b[0;36m<module>\u001b[0;34m()\u001b[0m\n\u001b[1;32m      9\u001b[0m         \u001b[0;31m# Record for calculating derivatives from forward pass\u001b[0m\u001b[0;34m\u001b[0m\u001b[0;34m\u001b[0m\u001b[0m\n\u001b[1;32m     10\u001b[0m         \u001b[0;32mwith\u001b[0m \u001b[0mautograd\u001b[0m\u001b[0;34m.\u001b[0m\u001b[0mrecord\u001b[0m\u001b[0;34m(\u001b[0m\u001b[0;34m)\u001b[0m\u001b[0;34m:\u001b[0m\u001b[0;34m\u001b[0m\u001b[0m\n\u001b[0;32m---> 11\u001b[0;31m             \u001b[0moutput\u001b[0m \u001b[0;34m=\u001b[0m \u001b[0mnet\u001b[0m\u001b[0;34m(\u001b[0m\u001b[0mdata\u001b[0m\u001b[0;34m)\u001b[0m\u001b[0;34m\u001b[0m\u001b[0m\n\u001b[0m\u001b[1;32m     12\u001b[0m             \u001b[0mloss\u001b[0m \u001b[0;34m=\u001b[0m \u001b[0msoftmax_ce\u001b[0m\u001b[0;34m(\u001b[0m\u001b[0moutput\u001b[0m\u001b[0;34m,\u001b[0m \u001b[0mlabel\u001b[0m\u001b[0;34m)\u001b[0m\u001b[0;34m\u001b[0m\u001b[0m\n\u001b[1;32m     13\u001b[0m             \u001b[0;31m# Run backward pass\u001b[0m\u001b[0;34m\u001b[0m\u001b[0;34m\u001b[0m\u001b[0m\n",
      "\u001b[0;32m/home/ec2-user/anaconda3/envs/mxnet_p27/lib/python2.7/site-packages/mxnet/gluon/block.pyc\u001b[0m in \u001b[0;36m__call__\u001b[0;34m(self, *args)\u001b[0m\n\u001b[1;32m    288\u001b[0m     \u001b[0;32mdef\u001b[0m \u001b[0m__call__\u001b[0m\u001b[0;34m(\u001b[0m\u001b[0mself\u001b[0m\u001b[0;34m,\u001b[0m \u001b[0;34m*\u001b[0m\u001b[0margs\u001b[0m\u001b[0;34m)\u001b[0m\u001b[0;34m:\u001b[0m\u001b[0;34m\u001b[0m\u001b[0m\n\u001b[1;32m    289\u001b[0m         \u001b[0;34m\"\"\"Calls forward. Only accepts positional arguments.\"\"\"\u001b[0m\u001b[0;34m\u001b[0m\u001b[0m\n\u001b[0;32m--> 290\u001b[0;31m         \u001b[0;32mreturn\u001b[0m \u001b[0mself\u001b[0m\u001b[0;34m.\u001b[0m\u001b[0mforward\u001b[0m\u001b[0;34m(\u001b[0m\u001b[0;34m*\u001b[0m\u001b[0margs\u001b[0m\u001b[0;34m)\u001b[0m\u001b[0;34m\u001b[0m\u001b[0m\n\u001b[0m\u001b[1;32m    291\u001b[0m \u001b[0;34m\u001b[0m\u001b[0m\n\u001b[1;32m    292\u001b[0m     \u001b[0;32mdef\u001b[0m \u001b[0mforward\u001b[0m\u001b[0;34m(\u001b[0m\u001b[0mself\u001b[0m\u001b[0;34m,\u001b[0m \u001b[0;34m*\u001b[0m\u001b[0margs\u001b[0m\u001b[0;34m)\u001b[0m\u001b[0;34m:\u001b[0m\u001b[0;34m\u001b[0m\u001b[0m\n",
      "\u001b[0;32m/home/ec2-user/anaconda3/envs/mxnet_p27/lib/python2.7/site-packages/mxnet/gluon/block.pyc\u001b[0m in \u001b[0;36mforward\u001b[0;34m(self, x, *args)\u001b[0m\n\u001b[1;32m    464\u001b[0m             \u001b[0;32mwith\u001b[0m \u001b[0mx\u001b[0m\u001b[0;34m.\u001b[0m\u001b[0mcontext\u001b[0m \u001b[0;32mas\u001b[0m \u001b[0mctx\u001b[0m\u001b[0;34m:\u001b[0m\u001b[0;34m\u001b[0m\u001b[0m\n\u001b[1;32m    465\u001b[0m                 \u001b[0;32mif\u001b[0m \u001b[0mself\u001b[0m\u001b[0;34m.\u001b[0m\u001b[0m_active\u001b[0m\u001b[0;34m:\u001b[0m\u001b[0;34m\u001b[0m\u001b[0m\n\u001b[0;32m--> 466\u001b[0;31m                     \u001b[0;32mreturn\u001b[0m \u001b[0mself\u001b[0m\u001b[0;34m.\u001b[0m\u001b[0m_call_cached_op\u001b[0m\u001b[0;34m(\u001b[0m\u001b[0mx\u001b[0m\u001b[0;34m,\u001b[0m \u001b[0;34m*\u001b[0m\u001b[0margs\u001b[0m\u001b[0;34m)\u001b[0m\u001b[0;34m\u001b[0m\u001b[0m\n\u001b[0m\u001b[1;32m    467\u001b[0m                 \u001b[0;32mtry\u001b[0m\u001b[0;34m:\u001b[0m\u001b[0;34m\u001b[0m\u001b[0m\n\u001b[1;32m    468\u001b[0m                     \u001b[0mparams\u001b[0m \u001b[0;34m=\u001b[0m \u001b[0;34m{\u001b[0m\u001b[0mi\u001b[0m\u001b[0;34m:\u001b[0m \u001b[0mj\u001b[0m\u001b[0;34m.\u001b[0m\u001b[0mdata\u001b[0m\u001b[0;34m(\u001b[0m\u001b[0mctx\u001b[0m\u001b[0;34m)\u001b[0m \u001b[0;32mfor\u001b[0m \u001b[0mi\u001b[0m\u001b[0;34m,\u001b[0m \u001b[0mj\u001b[0m \u001b[0;32min\u001b[0m \u001b[0mself\u001b[0m\u001b[0;34m.\u001b[0m\u001b[0m_reg_params\u001b[0m\u001b[0;34m.\u001b[0m\u001b[0mitems\u001b[0m\u001b[0;34m(\u001b[0m\u001b[0;34m)\u001b[0m\u001b[0;34m}\u001b[0m\u001b[0;34m\u001b[0m\u001b[0m\n",
      "\u001b[0;32m/home/ec2-user/anaconda3/envs/mxnet_p27/lib/python2.7/site-packages/mxnet/gluon/block.pyc\u001b[0m in \u001b[0;36m_call_cached_op\u001b[0;34m(self, *args)\u001b[0m\n\u001b[1;32m    392\u001b[0m         \u001b[0;32mfor\u001b[0m \u001b[0mi\u001b[0m\u001b[0;34m,\u001b[0m \u001b[0mj\u001b[0m \u001b[0;32min\u001b[0m \u001b[0mself\u001b[0m\u001b[0;34m.\u001b[0m\u001b[0m_in_idx\u001b[0m\u001b[0;34m:\u001b[0m\u001b[0;34m\u001b[0m\u001b[0m\n\u001b[1;32m    393\u001b[0m             \u001b[0mcargs\u001b[0m\u001b[0;34m[\u001b[0m\u001b[0mi\u001b[0m\u001b[0;34m]\u001b[0m \u001b[0;34m=\u001b[0m \u001b[0margs\u001b[0m\u001b[0;34m[\u001b[0m\u001b[0mj\u001b[0m\u001b[0;34m]\u001b[0m\u001b[0;34m\u001b[0m\u001b[0m\n\u001b[0;32m--> 394\u001b[0;31m         \u001b[0mout\u001b[0m \u001b[0;34m=\u001b[0m \u001b[0mself\u001b[0m\u001b[0;34m.\u001b[0m\u001b[0m_cached_op\u001b[0m\u001b[0;34m(\u001b[0m\u001b[0;34m*\u001b[0m\u001b[0mcargs\u001b[0m\u001b[0;34m)\u001b[0m\u001b[0;34m\u001b[0m\u001b[0m\n\u001b[0m\u001b[1;32m    395\u001b[0m         \u001b[0;32mif\u001b[0m \u001b[0misinstance\u001b[0m\u001b[0;34m(\u001b[0m\u001b[0mout\u001b[0m\u001b[0;34m,\u001b[0m \u001b[0mNDArray\u001b[0m\u001b[0;34m)\u001b[0m\u001b[0;34m:\u001b[0m\u001b[0;34m\u001b[0m\u001b[0m\n\u001b[1;32m    396\u001b[0m             \u001b[0mout\u001b[0m \u001b[0;34m=\u001b[0m \u001b[0;34m[\u001b[0m\u001b[0mout\u001b[0m\u001b[0;34m]\u001b[0m\u001b[0;34m\u001b[0m\u001b[0m\n",
      "\u001b[0;32m/home/ec2-user/anaconda3/envs/mxnet_p27/lib/python2.7/site-packages/mxnet/_ctypes/ndarray.pyc\u001b[0m in \u001b[0;36m__call__\u001b[0;34m(self, *args, **kwargs)\u001b[0m\n\u001b[1;32m    144\u001b[0m             \u001b[0mctypes\u001b[0m\u001b[0;34m.\u001b[0m\u001b[0mbyref\u001b[0m\u001b[0;34m(\u001b[0m\u001b[0mnum_output\u001b[0m\u001b[0;34m)\u001b[0m\u001b[0;34m,\u001b[0m\u001b[0;34m\u001b[0m\u001b[0m\n\u001b[1;32m    145\u001b[0m             \u001b[0mctypes\u001b[0m\u001b[0;34m.\u001b[0m\u001b[0mbyref\u001b[0m\u001b[0;34m(\u001b[0m\u001b[0moutput_vars\u001b[0m\u001b[0;34m)\u001b[0m\u001b[0;34m,\u001b[0m\u001b[0;34m\u001b[0m\u001b[0m\n\u001b[0;32m--> 146\u001b[0;31m             ctypes.byref(out_stypes)))\n\u001b[0m\u001b[1;32m    147\u001b[0m \u001b[0;34m\u001b[0m\u001b[0m\n\u001b[1;32m    148\u001b[0m         \u001b[0;32mif\u001b[0m \u001b[0moriginal_output\u001b[0m \u001b[0;32mis\u001b[0m \u001b[0;32mnot\u001b[0m \u001b[0mNone\u001b[0m\u001b[0;34m:\u001b[0m\u001b[0;34m\u001b[0m\u001b[0m\n",
      "\u001b[0;31mKeyboardInterrupt\u001b[0m: "
     ]
    }
   ],
   "source": [
    "# Training Loop\n",
    "costs = []\n",
    "for e in range(epochs):\n",
    "    cumulative_loss = 0\n",
    "    # Enumerate bacthes\n",
    "    for i, (data, label) in enumerate(train_data):\n",
    "        data = data.as_in_context(model_ctx)\n",
    "        label = label.as_in_context(model_ctx)\n",
    "        # Record for calculating derivatives from forward pass\n",
    "        with autograd.record():\n",
    "            output = net(data)\n",
    "            loss = softmax_ce(output, label)\n",
    "            # Run backward pass\n",
    "            loss.backward()\n",
    "        # Next batch\n",
    "        trainer.step(data.shape[0])\n",
    "        cumulative_loss += nd.sum(loss).asscalar()\n",
    "    # Accuracy score (formatting for SageMaker HPO)    \n",
    "    valid_accuracy = eval_acc(test_data, net)\n",
    "    train_accuracy = eval_acc(train_data, net)\n",
    "    costs.append(cumulative_loss/num_examples)\n",
    "    if e % 100 == 0:\n",
    "        print(\"Epoch{}; Loss = {}; Train-accuracy = {}; Validation-accuracy = {}\"\\\n",
    "              .format(e,cumulative_loss/num_examples,train_accuracy,valid_accuracy))"
   ]
  },
  {
   "cell_type": "markdown",
   "metadata": {},
   "source": [
    "### Training Analysis"
   ]
  },
  {
   "cell_type": "code",
   "execution_count": null,
   "metadata": {
    "collapsed": true
   },
   "outputs": [],
   "source": [
    "# Final Score\n",
    "final_accuracy = eval_acc(test_data, net)\n",
    "print(\"Final Scaore:\\nEpoch{}; Loss = {}\\nValidation-ccuracy {}%\".format(\n",
    "    e,cumulative_loss/num_examples, final_accuracy*100)\n",
    ")\n",
    "\n",
    "# Plot the convergence of the cost function\n",
    "%matplotlib inline\n",
    "import matplotlib\n",
    "import matplotlib.pyplot as plt\n",
    "plt.figure(num=None,figsize=(8, 6))\n",
    "plt.plot(costs)\n",
    "plt.grid(True, which=\"both\")\n",
    "plt.xlabel('Epoch',fontsize=14)\n",
    "plt.ylabel('Cost',fontsize=14)\n",
    "plt.title(\"Learning Rate: \" + str(lr))\n",
    "plt.show;"
   ]
  },
  {
   "cell_type": "markdown",
   "metadata": {},
   "source": [
    "### Predict on Unseen Data"
   ]
  },
  {
   "cell_type": "code",
   "execution_count": null,
   "metadata": {
    "collapsed": true
   },
   "outputs": [],
   "source": [
    "# Predict Funciton\n",
    "def predict(image, net):\n",
    "    data = nd.array(image).as_in_context(model_ctx)\n",
    "    output = net(data)\n",
    "    prediction = nd.argmax(output, axis=1)\n",
    "    return prediction"
   ]
  },
  {
   "cell_type": "markdown",
   "metadata": {},
   "source": [
    "#### Grumpy Cat"
   ]
  },
  {
   "cell_type": "code",
   "execution_count": null,
   "metadata": {
    "collapsed": true
   },
   "outputs": [],
   "source": [
    "# Display and predict against grumpy cat image\n",
    "from skimage import transform\n",
    "classes = ['non-cat', 'cat']\n",
    "my_image = \"grumpy_cat.jpeg\"\n",
    "#y = [1] # the true class label of the image (1 -> cat)\n",
    "fname = \"images/\" + my_image\n",
    "# Read the image\n",
    "img = plt.imread(fname)\n",
    "# Pre-process the image\n",
    "image = transform.resize(img, (64, 64), mode='constant').reshape((1, 64 * 64 * 3))\n",
    "# Run the model against the image\n",
    "my_predicted_image = np.squeeze(predict(image, net).asnumpy()[0])\n",
    "# Plot the final image\n",
    "plt.rcParams['figure.figsize'] = (6.0, 7.0)\n",
    "plt.imshow(img);\n",
    "# Print the results\n",
    "print (\"y = \" + str(np.squeeze(my_predicted_image)) + \\\n",
    "       \"\\nThe trained model predicts a \\\"\" + \\\n",
    "       classes[int(my_predicted_image)] +  \"\\\" picture.\")"
   ]
  },
  {
   "cell_type": "markdown",
   "metadata": {},
   "source": [
    "#### Gargouille"
   ]
  },
  {
   "cell_type": "code",
   "execution_count": null,
   "metadata": {
    "collapsed": true
   },
   "outputs": [],
   "source": [
    "# Display and predict against the gargouille image\n",
    "my_image = \"gargouille.jpeg\"\n",
    "#y = [1] # the true class label of the image (1 -> cat)\n",
    "fname = \"images/\" + my_image\n",
    "# Read the image\n",
    "img = plt.imread(fname)\n",
    "# Pre-process the image\n",
    "image = transform.resize(img, (64, 64), mode='constant').reshape((1, 64 * 64 * 3))\n",
    "# Run the model against the image\n",
    "my_predicted_image = np.squeeze(predict(image, net).asnumpy()[0])\n",
    "# Plot the final image\n",
    "plt.rcParams['figure.figsize'] = (6.0, 7.0)\n",
    "plt.imshow(img);\n",
    "# Print the results\n",
    "print (\"y = \" + str(np.squeeze(my_predicted_image)) + \\\n",
    "       \"\\nThe trained model predicts a \\\"\" + \\\n",
    "       classes[int()] +  \"\\\" picture.\")"
   ]
  },
  {
   "cell_type": "markdown",
   "metadata": {},
   "source": [
    "### Save the Model and Optmized Parameters"
   ]
  },
  {
   "cell_type": "code",
   "execution_count": null,
   "metadata": {
    "collapsed": true
   },
   "outputs": [],
   "source": [
    "# Create aplaceholder\n",
    "z = net(mx.sym.var('data'))\n",
    "\n",
    "# Save the model\n",
    "z.save('model.json')\n",
    "\n",
    "# Save the Optimized Parameters\n",
    "net.collect_params().save('model.params')"
   ]
  },
  {
   "cell_type": "markdown",
   "metadata": {},
   "source": [
    "### Load the Model and Test"
   ]
  },
  {
   "cell_type": "code",
   "execution_count": null,
   "metadata": {
    "collapsed": true
   },
   "outputs": [],
   "source": [
    "symbol = mx.sym.load('model.json')\n",
    "outputs = mx.sym.sigmoid(data=symbol, name='sigmoid_label')\n",
    "inputs = mx.sym.var('data')\n",
    "param_dict = gluon.ParameterDict('model_')\n",
    "model = gluon.SymbolBlock(outputs, inputs, param_dict)\n",
    "model.load_params('model.params', ctx=model_ctx)"
   ]
  },
  {
   "cell_type": "code",
   "execution_count": null,
   "metadata": {
    "collapsed": true
   },
   "outputs": [],
   "source": [
    "# Display and predict against grumpy cat image\n",
    "from skimage import transform\n",
    "classes = ['non-cat', 'cat']\n",
    "my_image = \"grumpy_cat.jpeg\"\n",
    "#y = [1] # the true class label of the image (1 -> cat)\n",
    "fname = \"images/\" + my_image\n",
    "# Read the image\n",
    "img = plt.imread(fname)\n",
    "# Pre-process the image\n",
    "image = transform.resize(img, (64, 64), mode='constant').reshape((1, 64 * 64 * 3))\n",
    "# Run the model against the image\n",
    "my_predicted_image = np.squeeze(predict(image, model).asnumpy()[0])\n",
    "# Plot the final image\n",
    "plt.rcParams['figure.figsize'] = (6.0, 7.0)\n",
    "plt.imshow(img);\n",
    "# Print the results\n",
    "print (\"y = \" + str(np.squeeze(my_predicted_image)) + \\\n",
    "       \"\\nThe trained model predicts a \\\"\" + \\\n",
    "       classes[int(my_predicted_image)] +  \"\\\" picture.\")"
   ]
  },
  {
   "cell_type": "code",
   "execution_count": null,
   "metadata": {
    "collapsed": true
   },
   "outputs": [],
   "source": [
    "# Display and predict against the my_image\n",
    "my_image = \"my_image.jpeg\"\n",
    "#y = [1] # the true class label of the image (1 -> cat)\n",
    "fname = \"images/\" + my_image\n",
    "# Read the image\n",
    "img = plt.imread(fname)\n",
    "# Pre-process the image\n",
    "image = transform.resize(img, (64, 64), mode='constant').reshape((1, 64 * 64 * 3))\n",
    "# Run the model against the image\n",
    "my_predicted_image = np.squeeze(predict(image, model).asnumpy()[0])\n",
    "# Plot the final image\n",
    "plt.rcParams['figure.figsize'] = (6.0, 7.0)\n",
    "plt.imshow(img);\n",
    "# Print the results\n",
    "print (\"y = \" + str(np.squeeze(my_predicted_image)) + \\\n",
    "       \"\\nThe trained model predicts a \\\"\" + \\\n",
    "       classes[int()] +  \"\\\" picture.\")"
   ]
  }
 ],
 "metadata": {
  "kernelspec": {
   "display_name": "conda_mxnet_p27",
   "language": "python",
   "name": "conda_mxnet_p27"
  },
  "language_info": {
   "codemirror_mode": {
    "name": "ipython",
    "version": 2
   },
   "file_extension": ".py",
   "mimetype": "text/x-python",
   "name": "python",
   "nbconvert_exporter": "python",
   "pygments_lexer": "ipython2",
   "version": "2.7.11"
  }
 },
 "nbformat": 4,
 "nbformat_minor": 2
}
