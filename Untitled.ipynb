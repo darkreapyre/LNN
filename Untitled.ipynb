{
 "cells": [
  {
   "cell_type": "markdown",
   "metadata": {},
   "source": [
    "## Average Parameter Gradient Descent"
   ]
  },
  {
   "cell_type": "code",
   "execution_count": 7,
   "metadata": {},
   "outputs": [],
   "source": [
    "import numpy as np\n",
    "layers = 4\n",
    "batches = 4"
   ]
  },
  {
   "cell_type": "code",
   "execution_count": 8,
   "metadata": {},
   "outputs": [
    {
     "name": "stdout",
     "output_type": "stream",
     "text": [
      "[[-0.94159544 -0.67390903]\n",
      " [-0.74801652  1.57832848]]\n",
      "[[-1.60437985 -0.09601444]\n",
      " [-0.24484424 -0.74584546]]\n",
      "[[ 0.22560436 -0.88379888]\n",
      " [-0.90434518  0.73207119]]\n",
      "[[ 1.10254336  0.2717537 ]\n",
      " [ 0.34303071 -1.54779495]]\n"
     ]
    }
   ],
   "source": [
    "\"\"\"\n",
    "Siumulate Averging the weights, per layer.\n",
    "\"\"\"\n",
    "# Get the Weight for the layer from ElastiCache Master\n",
    "master_W = np.random.randn(2, 2)\n",
    "# Create an zero array matching the size fo the master weight\n",
    "total_W = np.zeros_like(master_W)\n",
    "\n",
    "# Get the Weight from eacxh mini-batch and add them together\n",
    "for batch in range(batches):\n",
    "    W = np.random.randn(2, 2)\n",
    "    print(W)\n",
    "    total_W = total_W + W"
   ]
  },
  {
   "cell_type": "code",
   "execution_count": 9,
   "metadata": {},
   "outputs": [
    {
     "data": {
      "text/plain": [
       "array([[-1.21782757, -1.38196865],\n",
       "       [-1.55417523,  0.01675926]])"
      ]
     },
     "execution_count": 9,
     "metadata": {},
     "output_type": "execute_result"
    }
   ],
   "source": [
    "total_W"
   ]
  },
  {
   "cell_type": "code",
   "execution_count": 10,
   "metadata": {},
   "outputs": [
    {
     "data": {
      "text/plain": [
       "array([[-0.30445689, -0.34549216],\n",
       "       [-0.38854381,  0.00418981]])"
      ]
     },
     "execution_count": 10,
     "metadata": {},
     "output_type": "execute_result"
    }
   ],
   "source": [
    "#Take the average across the number of mini-batches\n",
    "avg_W = total_W / batches\n",
    "avg_W"
   ]
  },
  {
   "cell_type": "markdown",
   "metadata": {},
   "source": [
    "__Mathamatical Intuition__"
   ]
  },
  {
   "cell_type": "code",
   "execution_count": 12,
   "metadata": {},
   "outputs": [
    {
     "data": {
      "text/plain": [
       "-1.2178275699999996"
      ]
     },
     "execution_count": 12,
     "metadata": {},
     "output_type": "execute_result"
    }
   ],
   "source": [
    "(-0.94159544) + (-1.60437985) + (0.22560436) + (1.10254336)"
   ]
  },
  {
   "cell_type": "code",
   "execution_count": 13,
   "metadata": {},
   "outputs": [
    {
     "data": {
      "text/plain": [
       "-0.3044568924999999"
      ]
     },
     "execution_count": 13,
     "metadata": {},
     "output_type": "execute_result"
    }
   ],
   "source": [
    "((-0.94159544) + (-1.60437985) + (0.22560436) + (1.10254336)) / 4"
   ]
  },
  {
   "cell_type": "markdown",
   "metadata": {},
   "source": [
    "---\n",
    "## Average Error Gradient Descent"
   ]
  },
  {
   "cell_type": "code",
   "execution_count": 15,
   "metadata": {},
   "outputs": [],
   "source": [
    "import random\n",
    "# Create a sample error for each mini-batch\n",
    "total_Costs = []\n",
    "for cost in range(batches):\n",
    "    total_Costs.append(random.uniform(1, -1))"
   ]
  },
  {
   "cell_type": "code",
   "execution_count": 16,
   "metadata": {},
   "outputs": [
    {
     "data": {
      "text/plain": [
       "[0.8075997862390385,\n",
       " -0.251936056766916,\n",
       " -0.25885431731855824,\n",
       " 0.9044097896936059]"
      ]
     },
     "execution_count": 16,
     "metadata": {},
     "output_type": "execute_result"
    }
   ],
   "source": [
    "total_Costs"
   ]
  },
  {
   "cell_type": "code",
   "execution_count": 18,
   "metadata": {},
   "outputs": [
    {
     "data": {
      "text/plain": [
       "-0.25885431731855824"
      ]
     },
     "execution_count": 18,
     "metadata": {},
     "output_type": "execute_result"
    }
   ],
   "source": [
    "min(total_Costs)"
   ]
  },
  {
   "cell_type": "code",
   "execution_count": 19,
   "metadata": {},
   "outputs": [
    {
     "data": {
      "text/plain": [
       "2"
      ]
     },
     "execution_count": 19,
     "metadata": {},
     "output_type": "execute_result"
    }
   ],
   "source": [
    "np.argmin(total_Costs)"
   ]
  },
  {
   "cell_type": "code",
   "execution_count": 21,
   "metadata": {},
   "outputs": [
    {
     "data": {
      "text/plain": [
       "-0.25885431731855824"
      ]
     },
     "execution_count": 21,
     "metadata": {},
     "output_type": "execute_result"
    }
   ],
   "source": [
    "total_Costs[2]"
   ]
  }
 ],
 "metadata": {
  "kernelspec": {
   "display_name": "conda_python3",
   "language": "python",
   "name": "conda_python3"
  },
  "language_info": {
   "codemirror_mode": {
    "name": "ipython",
    "version": 3
   },
   "file_extension": ".py",
   "mimetype": "text/x-python",
   "name": "python",
   "nbconvert_exporter": "python",
   "pygments_lexer": "ipython3",
   "version": "3.6.2"
  }
 },
 "nbformat": 4,
 "nbformat_minor": 2
}
