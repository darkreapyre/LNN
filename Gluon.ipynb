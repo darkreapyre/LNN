{
 "cells": [
  {
   "cell_type": "code",
   "execution_count": 1,
   "metadata": {},
   "outputs": [
    {
     "name": "stderr",
     "output_type": "stream",
     "text": [
      "/home/ec2-user/anaconda3/envs/mxnet_p36/lib/python3.6/site-packages/urllib3/contrib/pyopenssl.py:46: DeprecationWarning: OpenSSL.rand is deprecated - you should use os.urandom instead\n",
      "  import OpenSSL.SSL\n"
     ]
    }
   ],
   "source": [
    "# Import necessary Libraries\n",
    "import mxnet as mx\n",
    "from mxnet import nd, autograd, gluon\n",
    "import numpy as np\n",
    "import h5py\n",
    "#import logging\n",
    "#logging.getLogger().setLevel(logging.INFO)"
   ]
  },
  {
   "cell_type": "code",
   "execution_count": 2,
   "metadata": {
    "collapsed": true
   },
   "outputs": [],
   "source": [
    "# Import the Dataset\n",
    "dataset = h5py.File('datasets/datasets.h5', 'r')\n",
    "train_set_x_orig = np.array(dataset['train_set_x'][:])\n",
    "train_set_y_orig = np.array(dataset['train_set_y'][:])\n",
    "test_set_x_orig = np.array(dataset['test_set_x'][:])\n",
    "test_set_y_orig = np.array(dataset['test_set_y'][:])"
   ]
  },
  {
   "cell_type": "code",
   "execution_count": 9,
   "metadata": {},
   "outputs": [
    {
     "name": "stdout",
     "output_type": "stream",
     "text": [
      "Training Data Dimensions: (209, 64, 64, 3)\n",
      "No. Examples: 209\n",
      "No. Inputs: 12288\n"
     ]
    }
   ],
   "source": [
    "# View Dataset\n",
    "print(\"Training Data Dimensions: {}\".format(train_set_x_orig.shape))\n",
    "print(\"No. Examples: {}\".format(train_set_x_orig.reshape((-1, 12288)).shape[0]))\n",
    "print(\"No. Inputs: {}\".format(train_set_x_orig.reshape((-1, 12288)).shape[1]))"
   ]
  },
  {
   "cell_type": "code",
   "execution_count": 54,
   "metadata": {
    "collapsed": true
   },
   "outputs": [],
   "source": [
    "# Standardize Images\n",
    "def transform(x):\n",
    "    x = x.reshape((x.shape[0], -1))\n",
    "    return x.astype(np.float32)/255\n",
    "train_x = transform(train_set_y_orig)\n",
    "train_y = train_set_y_orig.astype(np.float32)\n",
    "test_x = transform(test_set_x_orig)\n",
    "test_y = test_set_y_orig.astype(np.float32)"
   ]
  },
  {
   "cell_type": "code",
   "execution_count": 65,
   "metadata": {
    "collapsed": true
   },
   "outputs": [],
   "source": [
    "# Configure the Dataset\n",
    "batch_size = 209 # Using full set of observations\n",
    "num_inputs = train_set_x_orig.reshape((-1, 12288)).shape[1]\n",
    "num_examples = train_set_x_orig.reshape((-1, 12288)).shape[0]\n",
    "num_outputs = 1\n",
    "net_dims = [20, 7, 5, 1]\n",
    "\n",
    "# Create Training and Test Data\n",
    "train_data = mx.gluon.data.DataLoader(\n",
    "    mx.gluon.data.ArrayDataset(\n",
    "        train_x,\n",
    "        train_y\n",
    "    ),\n",
    "    shuffle=False,\n",
    "    batch_size=batch_size\n",
    ")\n",
    "test_data = mx.gluon.data.DataLoader(\n",
    "    mx.gluon.data.ArrayDataset(\n",
    "        test_x,\n",
    "        test_y\n",
    "    ),\n",
    "    shuffle=False,\n",
    "    batch_size=50\n",
    ")"
   ]
  },
  {
   "cell_type": "code",
   "execution_count": 66,
   "metadata": {
    "collapsed": true
   },
   "outputs": [],
   "source": [
    "# Network Model\n",
    "net = gluon.nn.Sequential()\n",
    "with net.name_scope():\n",
    "    net.add(gluon.nn.Dense(net_dims[0], activation='relu'))\n",
    "    net.add(gluon.nn.Dense(net_dims[1], activation='relu'))\n",
    "    net.add(gluon.nn.Dense(net_dims[2], activation='relu'))\n",
    "    net.add(gluon.nn.Dense(net_dims[3]))"
   ]
  },
  {
   "cell_type": "code",
   "execution_count": null,
   "metadata": {
    "collapsed": true
   },
   "outputs": [],
   "source": [
    "# Parameter Initialization\n",
    "net.collect_params"
   ]
  }
 ],
 "metadata": {
  "kernelspec": {
   "display_name": "conda_mxnet_p36",
   "language": "python",
   "name": "conda_mxnet_p36"
  },
  "language_info": {
   "codemirror_mode": {
    "name": "ipython",
    "version": 3
   },
   "file_extension": ".py",
   "mimetype": "text/x-python",
   "name": "python",
   "nbconvert_exporter": "python",
   "pygments_lexer": "ipython3",
   "version": "3.6.2"
  }
 },
 "nbformat": 4,
 "nbformat_minor": 2
}
