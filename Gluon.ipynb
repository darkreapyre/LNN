{
 "cells": [
  {
   "cell_type": "markdown",
   "metadata": {},
   "source": [
    "# Gluon Model Evaluation"
   ]
  },
  {
   "cell_type": "code",
   "execution_count": 1,
   "metadata": {},
   "outputs": [
    {
     "name": "stderr",
     "output_type": "stream",
     "text": [
      "/home/ec2-user/anaconda3/envs/mxnet_p27/lib/python2.7/site-packages/urllib3/contrib/pyopenssl.py:46: DeprecationWarning: OpenSSL.rand is deprecated - you should use os.urandom instead\n",
      "  import OpenSSL.SSL\n"
     ]
    }
   ],
   "source": [
    "# Import necessary Libraries\n",
    "from __future__ import print_function\n",
    "import mxnet as mx\n",
    "from mxnet import nd, autograd, gluon\n",
    "import numpy as np\n",
    "import h5py\n",
    "from sklearn.metrics import accuracy_score"
   ]
  },
  {
   "cell_type": "markdown",
   "metadata": {},
   "source": [
    "### Datasets"
   ]
  },
  {
   "cell_type": "code",
   "execution_count": 2,
   "metadata": {
    "collapsed": true
   },
   "outputs": [],
   "source": [
    "# Import the Datasets\n",
    "dataset = h5py.File('datasets/datasets.h5', 'r')\n",
    "train_set_x_orig = np.array(dataset['train_set_x'][:])\n",
    "train_set_y_orig = np.array(dataset['train_set_y'][:])\n",
    "test_set_x_orig = np.array(dataset['test_set_x'][:])\n",
    "test_set_y_orig = np.array(dataset['test_set_y'][:])"
   ]
  },
  {
   "cell_type": "code",
   "execution_count": 3,
   "metadata": {},
   "outputs": [
    {
     "name": "stdout",
     "output_type": "stream",
     "text": [
      "Training Data Dimensions: (209, 64, 64, 3)\n",
      "No. Examples: 209\n",
      "No. Inputs: 12288\n"
     ]
    }
   ],
   "source": [
    "# View Training Dataset\n",
    "print(\"Training Data Dimensions: {}\".format(train_set_x_orig.shape))\n",
    "print(\"No. Examples: {}\".format(train_set_x_orig.reshape((-1, 12288)).shape[0]))\n",
    "print(\"No. Inputs: {}\".format(train_set_x_orig.reshape((-1, 12288)).shape[1]))"
   ]
  },
  {
   "cell_type": "code",
   "execution_count": 4,
   "metadata": {},
   "outputs": [
    {
     "name": "stdout",
     "output_type": "stream",
     "text": [
      "Testing Data Dimensions: (50, 64, 64, 3)\n",
      "No. Examples: 50\n",
      "No. Inputs: 12288\n"
     ]
    }
   ],
   "source": [
    "# View Testing Dataset\n",
    "print(\"Testing Data Dimensions: {}\".format(test_set_x_orig.shape))\n",
    "print(\"No. Examples: {}\".format(test_set_x_orig.reshape((-1, 12288)).shape[0]))\n",
    "print(\"No. Inputs: {}\".format(test_set_x_orig.reshape((-1, 12288)).shape[1]))"
   ]
  },
  {
   "cell_type": "code",
   "execution_count": 5,
   "metadata": {},
   "outputs": [
    {
     "name": "stdout",
     "output_type": "stream",
     "text": [
      "Final Training Data Dimensions: (209, 12288)\n",
      "Final Testing Data Dimensions: (50, 12288)\n"
     ]
    }
   ],
   "source": [
    "# Pre-process Data\n",
    "def transform(x):\n",
    "    v = x.reshape((x.shape[0], (x.shape[1] * x.shape[2]) * x.shape[3]))\n",
    "    return v.astype(np.float32) / 255\n",
    "train_data = transform(train_set_x_orig)\n",
    "train_label = train_set_y_orig.astype(np.float32)\n",
    "test_data = transform(test_set_x_orig)\n",
    "test_label = test_set_y_orig.astype(np.float32)\n",
    "print(\"Final Training Data Dimensions: {}\".format(train_data.shape))\n",
    "print(\"Final Testing Data Dimensions: {}\".format(test_data.shape))"
   ]
  },
  {
   "cell_type": "markdown",
   "metadata": {},
   "source": [
    "### Neural Network Configuration"
   ]
  },
  {
   "cell_type": "code",
   "execution_count": 6,
   "metadata": {
    "collapsed": true
   },
   "outputs": [],
   "source": [
    "# Configure the Dataset\n",
    "batch_size = 64 # Using full set of observations\n",
    "num_examples = 209\n",
    "net_dims = [20, 7, 5, 1]\n",
    "lr = 0.0075\n",
    "\n",
    "# Create Training and Test Data Iterator\n",
    "train_data = mx.gluon.data.DataLoader(\n",
    "    mx.gluon.data.ArrayDataset(\n",
    "        train_data,\n",
    "        train_label\n",
    "    ),\n",
    "    shuffle=True,\n",
    "    batch_size=batch_size\n",
    ")\n",
    "test_data = mx.gluon.data.DataLoader(\n",
    "    mx.gluon.data.ArrayDataset(\n",
    "        test_data,\n",
    "        test_label\n",
    "    ),\n",
    "    shuffle=False,\n",
    "    batch_size=batch_size\n",
    ")"
   ]
  },
  {
   "cell_type": "markdown",
   "metadata": {},
   "source": [
    "### Neural Network Model"
   ]
  },
  {
   "cell_type": "code",
   "execution_count": 7,
   "metadata": {
    "collapsed": true
   },
   "outputs": [],
   "source": [
    "# Network Model\n",
    "model_ctx = mx.cpu()\n",
    "net = gluon.nn.HybridSequential()\n",
    "with net.name_scope():\n",
    "    net.add(gluon.nn.Dense(net_dims[0], activation='relu'))\n",
    "    net.add(gluon.nn.Dense(net_dims[1], activation='relu'))\n",
    "    net.add(gluon.nn.Dense(net_dims[2], activation='relu'))\n",
    "    net.add(gluon.nn.Dense(net_dims[3], activation='sigmoid'))\n",
    "net.hybridize()\n",
    "\n",
    "# Parameter Initialization\n",
    "net.collect_params().initialize(mx.init.Xavier(magnitude=2.24))\n",
    "# Optimizer\n",
    "trainer = gluon.Trainer(net.collect_params(), 'sgd', {'learning_rate': lr})\n",
    "# Cross Entropy Loss Function\n",
    "binary_ce = gluon.loss.SigmoidBinaryCrossEntropyLoss(from_sigmoid=True)\n",
    "\n",
    "# Evlauation metric\n",
    "def eval_acc(data_iterator, net):\n",
    "    acc = mx.metric.Accuracy()\n",
    "    acc.reset()\n",
    "    for i, (data, label) in enumerate(data_iterator):\n",
    "        #acc.reset()\n",
    "        data = data.as_in_context(model_ctx)\n",
    "        label = label.as_in_context(model_ctx)\n",
    "        output = net(data)\n",
    "        #predictions = nd.argmax(output, axis=1)\n",
    "        predictions = (nd.sign(output) + 1) / 2\n",
    "        #num_correct = nd.sum(predictions == label)\n",
    "        acc.update(preds=output, labels=label)\n",
    "    return acc.get()[1]\n",
    "    #return num_correct.asscalar()/209"
   ]
  },
  {
   "cell_type": "code",
   "execution_count": 8,
   "metadata": {
    "collapsed": true
   },
   "outputs": [],
   "source": [
    "# Accuracy Score\n",
    "def accuracy(data_iterator, net, Y):\n",
    "    for i, (data, label) in enumerate(data_iterator):\n",
    "        data = data.as_in_context(model_ctx)\n",
    "        label = label.as_in_context(model_ctx)\n",
    "        output = net(data)\n",
    "        decision_boundary = np.vectorize(lambda x: 1 if x > 0.5 else 0)\n",
    "        y_pred = list(decision_boundary(output.asnumpy()).flat)\n",
    "        Y = list(Y.flat)\n",
    "        \n",
    "    return accuracy_score(Y, y_pred)"
   ]
  },
  {
   "cell_type": "markdown",
   "metadata": {},
   "source": [
    "### Model Training"
   ]
  },
  {
   "cell_type": "code",
   "execution_count": null,
   "metadata": {
    "collapsed": true
   },
   "outputs": [],
   "source": [
    "# Training Loop\n",
    "epochs = 2500\n",
    "costs = []\n",
    "\n",
    "for e in range(epochs):\n",
    "    cumulative_loss = 0\n",
    "    # Enumerate bacthes\n",
    "    for i, (data, label) in enumerate(train_data):\n",
    "        data = data.as_in_context(model_ctx)\n",
    "        label = label.as_in_context(model_ctx)\n",
    "        # Record for calculating derivatives for forward pass\n",
    "        with autograd.record():\n",
    "            output = net(data)\n",
    "            loss = binary_ce(output, label)\n",
    "        # Run backward pass\n",
    "        loss.backward()\n",
    "        trainer.step(data.shape[0])\n",
    "        cumulative_loss += nd.sum(loss).asscalar()\n",
    "    test_accuracy = accuracy(test_data, net, test_set_y_orig)\n",
    "    #train_accuracy = accuracy(train_data, net, train_set_y_orig)\n",
    "    costs.append(cumulative_loss/num_examples)\n",
    "    if e % 100 ==0:\n",
    "        #print(\"Epoch: {}; Loss: {}; Training Acc: {}; Testing Acc: {}\"\\\n",
    "        #      .format(e,cumulative_loss/num_examples,train_accuracy,test_accuracy))\n",
    "        print(\"Epoch: {}; Loss: {}; Test Set Accuracy: {}\"\\\n",
    "              .format(e,cumulative_loss/num_examples,test_accuracy))"
   ]
  },
  {
   "cell_type": "markdown",
   "metadata": {},
   "source": [
    "### Training Analysis"
   ]
  },
  {
   "cell_type": "code",
   "execution_count": null,
   "metadata": {
    "collapsed": true
   },
   "outputs": [],
   "source": [
    "# Final Score\n",
    "final_accuracy = accuracy(test_data, net, test_set_y_orig)\n",
    "print(\"Epoch: {}\\nLoss: {}\\nTest Set Accuracy: {}%\".format(e,cumulative_loss/num_examples, final_accuracy*100))\n",
    "\n",
    "# Plot the convergence of the cost function\n",
    "%matplotlib inline\n",
    "import matplotlib\n",
    "import matplotlib.pyplot as plt\n",
    "plt.figure(num=None,figsize=(8, 6))\n",
    "plt.plot(costs)\n",
    "plt.grid(True, which=\"both\")\n",
    "plt.xlabel('Epoch',fontsize=14)\n",
    "plt.ylabel('Cost',fontsize=14)\n",
    "plt.title(\"Learning Rate: \" + str(lr))\n",
    "plt.show;"
   ]
  },
  {
   "cell_type": "markdown",
   "metadata": {},
   "source": [
    "### Predict on Unseen Data"
   ]
  },
  {
   "cell_type": "code",
   "execution_count": null,
   "metadata": {
    "collapsed": true
   },
   "outputs": [],
   "source": [
    "# Predict Funciton\n",
    "def predict(image, nn):\n",
    "    data = nd.array(image).as_in_context(model_ctx)\n",
    "    output = nn(data)\n",
    "    prediction = (nd.sign(output) + 1) /2\n",
    "    return prediction"
   ]
  },
  {
   "cell_type": "markdown",
   "metadata": {},
   "source": [
    "#### Grumpy Cat"
   ]
  },
  {
   "cell_type": "code",
   "execution_count": null,
   "metadata": {
    "collapsed": true
   },
   "outputs": [],
   "source": [
    "# Display and predict against grumpy cat image\n",
    "from skimage import transform\n",
    "classes = ['non-cat', 'cat']\n",
    "my_image = \"grumpy_cat.jpeg\"\n",
    "#y = [1] # the true class label of the image (1 -> cat)\n",
    "fname = \"images/\" + my_image\n",
    "# Read the image\n",
    "img = plt.imread(fname)\n",
    "# Pre-process the image\n",
    "image = transform.resize(img, (64, 64), mode='constant').reshape((1, 64 * 64 * 3))\n",
    "# Run the model against the image\n",
    "my_predicted_image = np.squeeze(predict(image, net).asnumpy()[0])\n",
    "# Plot the final image\n",
    "plt.rcParams['figure.figsize'] = (6.0, 7.0)\n",
    "plt.imshow(img);\n",
    "# Print the results\n",
    "print (\"y = \" + str(np.squeeze(my_predicted_image)) + \\\n",
    "       \"\\nThe trained model predicts a \\\"\" + \\\n",
    "       classes[int(my_predicted_image)] +  \"\\\" picture.\")"
   ]
  },
  {
   "cell_type": "markdown",
   "metadata": {},
   "source": [
    "#### Gargouille"
   ]
  },
  {
   "cell_type": "code",
   "execution_count": null,
   "metadata": {
    "collapsed": true
   },
   "outputs": [],
   "source": [
    "# Display and predict against the gargouille image\n",
    "my_image = \"gargouille.jpeg\"\n",
    "#y = [1] # the true class label of the image (1 -> cat)\n",
    "fname = \"images/\" + my_image\n",
    "# Read the image\n",
    "img = plt.imread(fname)\n",
    "# Pre-process the image\n",
    "image = transform.resize(img, (64, 64), mode='constant').reshape((1, 64 * 64 * 3))\n",
    "# Run the model against the image\n",
    "my_predicted_image = np.squeeze(predict(image, net).asnumpy()[0])\n",
    "# Plot the final image\n",
    "plt.rcParams['figure.figsize'] = (6.0, 7.0)\n",
    "plt.imshow(img);\n",
    "# Print the results\n",
    "print (\"y = \" + str(np.squeeze(my_predicted_image)) + \\\n",
    "       \"\\nThe trained model predicts a \\\"\" + \\\n",
    "       classes[int()] +  \"\\\" picture.\")"
   ]
  },
  {
   "cell_type": "markdown",
   "metadata": {},
   "source": [
    "### Save the Model and Optmized Parameters"
   ]
  },
  {
   "cell_type": "code",
   "execution_count": null,
   "metadata": {
    "collapsed": true
   },
   "outputs": [],
   "source": [
    "# Create aplaceholder\n",
    "z = net(mx.sym.var('data'))\n",
    "\n",
    "# Save the model\n",
    "z.save('model.json')\n",
    "\n",
    "# Save the Optimized Parameters\n",
    "net.collect_params().save('model.params')"
   ]
  },
  {
   "cell_type": "markdown",
   "metadata": {},
   "source": [
    "### Load the Model and Test"
   ]
  },
  {
   "cell_type": "code",
   "execution_count": null,
   "metadata": {
    "collapsed": true
   },
   "outputs": [],
   "source": [
    "symbol = mx.sym.load('model.json')\n",
    "outputs = mx.sym.sigmoid(data=symbol, name='sigmoid_label')\n",
    "inputs = mx.sym.var('data')\n",
    "param_dict = gluon.ParameterDict('model_')\n",
    "model = gluon.SymbolBlock(outputs, inputs, param_dict)\n",
    "model.load_params('model.params', ctx=model_ctx)"
   ]
  },
  {
   "cell_type": "code",
   "execution_count": null,
   "metadata": {
    "collapsed": true
   },
   "outputs": [],
   "source": [
    "# Display and predict against grumpy cat image\n",
    "from skimage import transform\n",
    "classes = ['non-cat', 'cat']\n",
    "my_image = \"grumpy_cat.jpeg\"\n",
    "#y = [1] # the true class label of the image (1 -> cat)\n",
    "fname = \"images/\" + my_image\n",
    "# Read the image\n",
    "img = plt.imread(fname)\n",
    "# Pre-process the image\n",
    "image = transform.resize(img, (64, 64), mode='constant').reshape((1, 64 * 64 * 3))\n",
    "# Run the model against the image\n",
    "my_predicted_image = np.squeeze(predict(image, model).asnumpy()[0])\n",
    "# Plot the final image\n",
    "plt.rcParams['figure.figsize'] = (6.0, 7.0)\n",
    "plt.imshow(img);\n",
    "# Print the results\n",
    "print (\"y = \" + str(np.squeeze(my_predicted_image)) + \\\n",
    "       \"\\nThe trained model predicts a \\\"\" + \\\n",
    "       classes[int(my_predicted_image)] +  \"\\\" picture.\")"
   ]
  },
  {
   "cell_type": "code",
   "execution_count": null,
   "metadata": {
    "collapsed": true
   },
   "outputs": [],
   "source": [
    "# Display and predict against the gargouille image\n",
    "my_image = \"gargouille.jpeg\"\n",
    "#y = [1] # the true class label of the image (1 -> cat)\n",
    "fname = \"images/\" + my_image\n",
    "# Read the image\n",
    "img = plt.imread(fname)\n",
    "# Pre-process the image\n",
    "image = transform.resize(img, (64, 64), mode='constant').reshape((1, 64 * 64 * 3))\n",
    "# Run the model against the image\n",
    "my_predicted_image = np.squeeze(predict(image, model).asnumpy()[0])\n",
    "# Plot the final image\n",
    "plt.rcParams['figure.figsize'] = (6.0, 7.0)\n",
    "plt.imshow(img);\n",
    "# Print the results\n",
    "print (\"y = \" + str(np.squeeze(my_predicted_image)) + \\\n",
    "       \"\\nThe trained model predicts a \\\"\" + \\\n",
    "       classes[int()] +  \"\\\" picture.\")"
   ]
  },
  {
   "cell_type": "code",
   "execution_count": null,
   "metadata": {
    "collapsed": true
   },
   "outputs": [],
   "source": []
  },
  {
   "cell_type": "code",
   "execution_count": null,
   "metadata": {
    "collapsed": true
   },
   "outputs": [],
   "source": []
  },
  {
   "cell_type": "code",
   "execution_count": null,
   "metadata": {
    "collapsed": true
   },
   "outputs": [],
   "source": [
    "# Training Loop\n",
    "epochs = 25\n",
    "\n",
    "for e in range(epochs):\n",
    "    cumulative_loss = 0\n",
    "    # Enumerate bacthes\n",
    "    for i, (data, label) in enumerate(train_data):\n",
    "        data = data.as_in_context(model_ctx)\n",
    "        label = label.as_in_context(model_ctx)\n",
    "        # Record for calculating derivatives for forward pass\n",
    "        with autograd.record():\n",
    "            output = net(data)\n",
    "            loss = binary_ce(output, label)\n",
    "        # Run backward pass\n",
    "        loss.backward()\n",
    "        trainer.step(data.shape[0])\n",
    "        current_loss = nd.mean(loss).asscalar()\n",
    "    print(\"Epoch: {}; Loss: {}\".format(e,current_loss))"
   ]
  },
  {
   "cell_type": "code",
   "execution_count": null,
   "metadata": {
    "collapsed": true
   },
   "outputs": [],
   "source": [
    "y_pred = np.array([])\n",
    "for data, label in test_data:\n",
    "    data = data.as_in_context(mx.cpu()).astype('float32')\n",
    "    label = label.as_in_context(mx.cpu()).astype('float32')\n",
    "    output = net(data)\n",
    "    y_pred = np.append(y_pred, output.asnumpy())\n",
    "\n",
    "y_pred_labels = np.where(y_pred > 0.5, 1, 0)\n",
    "print(accuracy_score(test_set_y_orig, y_pred_labels))"
   ]
  },
  {
   "cell_type": "code",
   "execution_count": null,
   "metadata": {
    "collapsed": true
   },
   "outputs": [],
   "source": []
  },
  {
   "cell_type": "code",
   "execution_count": null,
   "metadata": {
    "collapsed": true
   },
   "outputs": [],
   "source": []
  },
  {
   "cell_type": "code",
   "execution_count": null,
   "metadata": {
    "collapsed": true
   },
   "outputs": [],
   "source": []
  },
  {
   "cell_type": "code",
   "execution_count": null,
   "metadata": {
    "collapsed": true
   },
   "outputs": [],
   "source": [
    "num_correct = 0.0\n",
    "num_total = 50\n",
    "for data, label in test_data:\n",
    "    data = data.as_in_context(mx.cpu()).astype('float32')\n",
    "    label = label.as_in_context(mx.cpu()).astype('float32')\n",
    "    output = net(data)\n",
    "    prediction = (nd.sign(output) + 1) / 2\n",
    "    num_correct += nd.sum(prediction == label)\n",
    "print(\"Accuracy: %0.3f (%s/%s)\" % (num_correct.asscalar()/num_total, num_correct.asscalar(), num_total))"
   ]
  },
  {
   "cell_type": "code",
   "execution_count": null,
   "metadata": {
    "collapsed": true
   },
   "outputs": [],
   "source": []
  },
  {
   "cell_type": "code",
   "execution_count": null,
   "metadata": {
    "collapsed": true
   },
   "outputs": [],
   "source": []
  },
  {
   "cell_type": "code",
   "execution_count": 11,
   "metadata": {},
   "outputs": [
    {
     "name": "stdout",
     "output_type": "stream",
     "text": [
      "Epoch: 0; Loss: 0.690184593201; Training Acc: accuracy0.655502392344\n",
      "Teting Acc: accuracy0.594594594595\n",
      "Epoch: 100; Loss: 0.563165009022; Training Acc: accuracy0.655502392344\n",
      "Teting Acc: accuracy0.594594594595\n",
      "Epoch: 200; Loss: 0.393676787615; Training Acc: accuracy0.655502392344\n",
      "Teting Acc: accuracy0.594594594595\n",
      "Epoch: 300; Loss: 0.193265274167; Training Acc: accuracy0.655502392344\n",
      "Teting Acc: accuracy0.594594594595\n",
      "Epoch: 400; Loss: 0.110384240746; Training Acc: accuracy0.655502392344\n",
      "Teting Acc: accuracy0.594594594595\n",
      "Epoch: 500; Loss: 0.108408384025; Training Acc: accuracy0.655502392344\n",
      "Teting Acc: accuracy0.594594594595\n",
      "Epoch: 600; Loss: 0.084448993206; Training Acc: accuracy0.655502392344\n",
      "Teting Acc: accuracy0.594594594595\n",
      "Epoch: 700; Loss: 0.0514304675162; Training Acc: accuracy0.655502392344\n",
      "Teting Acc: accuracy0.594594594595\n",
      "Epoch: 800; Loss: 0.345853567123; Training Acc: accuracy0.655502392344\n",
      "Teting Acc: accuracy0.594594594595\n",
      "Epoch: 900; Loss: 0.0508930832148; Training Acc: accuracy0.655502392344\n",
      "Teting Acc: accuracy0.594594594595\n",
      "Epoch: 1000; Loss: 0.042432885617; Training Acc: accuracy0.655502392344\n",
      "Teting Acc: accuracy0.594594594595\n",
      "Epoch: 1100; Loss: 0.0566608794034; Training Acc: accuracy0.655502392344\n",
      "Teting Acc: accuracy0.594594594595\n",
      "Epoch: 1200; Loss: 0.0421257168055; Training Acc: accuracy0.655502392344\n",
      "Teting Acc: accuracy0.594594594595\n",
      "Epoch: 1300; Loss: 0.206638678908; Training Acc: accuracy0.655502392344\n",
      "Teting Acc: accuracy0.594594594595\n",
      "Epoch: 1400; Loss: 0.0424619019032; Training Acc: accuracy0.655502392344\n",
      "Teting Acc: accuracy0.594594594595\n",
      "Epoch: 1500; Loss: 0.212378144264; Training Acc: accuracy0.655502392344\n",
      "Teting Acc: accuracy0.594594594595\n",
      "Epoch: 1600; Loss: 0.383184790611; Training Acc: accuracy0.655502392344\n",
      "Teting Acc: accuracy0.594594594595\n",
      "Epoch: 1700; Loss: 0.0228416863829; Training Acc: accuracy0.655502392344\n",
      "Teting Acc: accuracy0.594594594595\n",
      "Epoch: 1800; Loss: 0.0345905125141; Training Acc: accuracy0.655502392344\n",
      "Teting Acc: accuracy0.594594594595\n",
      "Epoch: 1900; Loss: 0.0333090238273; Training Acc: accuracy0.655502392344\n",
      "Teting Acc: accuracy0.594594594595\n",
      "Epoch: 2000; Loss: 0.217732295394; Training Acc: accuracy0.655502392344\n",
      "Teting Acc: accuracy0.594594594595\n",
      "Epoch: 2100; Loss: 0.0238281935453; Training Acc: accuracy0.655502392344\n",
      "Teting Acc: accuracy0.594594594595\n",
      "Epoch: 2200; Loss: 0.0230609830469; Training Acc: accuracy0.655502392344\n",
      "Teting Acc: accuracy0.594594594595\n",
      "Epoch: 2300; Loss: 0.0289528444409; Training Acc: accuracy0.655502392344\n",
      "Teting Acc: accuracy0.594594594595\n",
      "Epoch: 2400; Loss: 0.219567194581; Training Acc: accuracy0.655502392344\n",
      "Teting Acc: accuracy0.594594594595\n"
     ]
    }
   ],
   "source": [
    "metric = mx.metric.Accuracy()\n",
    "def test(ctx, net, val_data):\n",
    "    for data, label in val_data:\n",
    "        data = data.as_in_context(ctx)\n",
    "        label = label.as_in_context(ctx)\n",
    "        output = net(data)\n",
    "        metric.update([label], [output])\n",
    "    return metric.get()\n",
    "\n",
    "ctx = mx.cpu()\n",
    "epochs = 2500\n",
    "for e in range(epochs):\n",
    "    metric.reset()\n",
    "    for data, label in train_data:\n",
    "        data = data.as_in_context(mx.cpu())\n",
    "        label = label.as_in_context(mx.cpu())\n",
    "        # Record for calculating derivatives for forward pass\n",
    "        with autograd.record():\n",
    "            output = net(data)\n",
    "            loss = binary_ce(output, label)\n",
    "            # Run backward pass\n",
    "            loss.backward()\n",
    "        trainer.step(data.shape[0])\n",
    "        current_loss = nd.mean(loss).asscalar()\n",
    "        metric.update([label], [output])\n",
    "    \n",
    "    if e % 100 == 0:\n",
    "        name, acc = metric.get()\n",
    "        print(\"Epoch: {}; Loss: {}; Training Acc: {}{}\" .format(e,current_loss, name, acc))\n",
    "        name, val_acc = test(ctx, net, test_data)\n",
    "        print(\"Teting Acc: {}{}\".format(name, val_acc))"
   ]
  },
  {
   "cell_type": "code",
   "execution_count": 21,
   "metadata": {},
   "outputs": [
    {
     "ename": "AttributeError",
     "evalue": "'float' object has no attribute 'get'",
     "output_type": "error",
     "traceback": [
      "\u001b[0;31m\u001b[0m",
      "\u001b[0;31mAttributeError\u001b[0mTraceback (most recent call last)",
      "\u001b[0;32m<ipython-input-21-925ba7110e86>\u001b[0m in \u001b[0;36m<module>\u001b[0;34m()\u001b[0m\n\u001b[0;32m----> 1\u001b[0;31m \u001b[0macc\u001b[0m\u001b[0;34m.\u001b[0m\u001b[0mget\u001b[0m\u001b[0;34m(\u001b[0m\u001b[0;34m)\u001b[0m\u001b[0;34m\u001b[0m\u001b[0m\n\u001b[0m",
      "\u001b[0;31mAttributeError\u001b[0m: 'float' object has no attribute 'get'"
     ]
    }
   ],
   "source": [
    "acc.get()"
   ]
  },
  {
   "cell_type": "code",
   "execution_count": null,
   "metadata": {
    "collapsed": true
   },
   "outputs": [],
   "source": []
  },
  {
   "cell_type": "code",
   "execution_count": null,
   "metadata": {
    "collapsed": true
   },
   "outputs": [],
   "source": []
  },
  {
   "cell_type": "code",
   "execution_count": null,
   "metadata": {
    "collapsed": true
   },
   "outputs": [],
   "source": []
  },
  {
   "cell_type": "code",
   "execution_count": null,
   "metadata": {
    "collapsed": true
   },
   "outputs": [],
   "source": []
  },
  {
   "cell_type": "code",
   "execution_count": null,
   "metadata": {
    "collapsed": true
   },
   "outputs": [],
   "source": []
  },
  {
   "cell_type": "code",
   "execution_count": null,
   "metadata": {
    "collapsed": true
   },
   "outputs": [],
   "source": [
    "acc = mx.metric.Accuracy()\n",
    "for data, label in test_data:\n",
    "    #acc.reset()\n",
    "    data = data.as_in_context(mx.cpu())\n",
    "    label = label.as_in_context(mx.cpu())\n",
    "    output = net(data)\n",
    "    acc.update(preds = output, labels = label)\n",
    "    \n"
   ]
  },
  {
   "cell_type": "code",
   "execution_count": null,
   "metadata": {
    "collapsed": true
   },
   "outputs": [],
   "source": [
    "acc.get()"
   ]
  },
  {
   "cell_type": "code",
   "execution_count": null,
   "metadata": {
    "collapsed": true
   },
   "outputs": [],
   "source": []
  }
 ],
 "metadata": {
  "kernelspec": {
   "display_name": "conda_mxnet_p27",
   "language": "python",
   "name": "conda_mxnet_p27"
  },
  "language_info": {
   "codemirror_mode": {
    "name": "ipython",
    "version": 2
   },
   "file_extension": ".py",
   "mimetype": "text/x-python",
   "name": "python",
   "nbconvert_exporter": "python",
   "pygments_lexer": "ipython2",
   "version": "2.7.11"
  }
 },
 "nbformat": 4,
 "nbformat_minor": 2
}
