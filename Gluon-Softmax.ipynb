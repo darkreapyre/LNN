{
 "cells": [
  {
   "cell_type": "markdown",
   "metadata": {},
   "source": [
    "# Gluon Model Evaluation using `SoftmaxCrossEntropyLoss`"
   ]
  },
  {
   "cell_type": "code",
   "execution_count": 1,
   "metadata": {},
   "outputs": [
    {
     "name": "stderr",
     "output_type": "stream",
     "text": [
      "/home/ec2-user/anaconda3/envs/mxnet_p27/lib/python2.7/site-packages/urllib3/contrib/pyopenssl.py:46: DeprecationWarning: OpenSSL.rand is deprecated - you should use os.urandom instead\n",
      "  import OpenSSL.SSL\n"
     ]
    }
   ],
   "source": [
    "# Import necessary Libraries\n",
    "from __future__ import print_function\n",
    "import mxnet as mx\n",
    "from mxnet import nd, autograd, gluon\n",
    "import numpy as np\n",
    "import h5py\n",
    "from sklearn.metrics import accuracy_score"
   ]
  },
  {
   "cell_type": "markdown",
   "metadata": {},
   "source": [
    "### Datasets"
   ]
  },
  {
   "cell_type": "code",
   "execution_count": 2,
   "metadata": {
    "collapsed": true
   },
   "outputs": [],
   "source": [
    "# Import the Datasets\n",
    "dataset = h5py.File('datasets/datasets.h5', 'r')\n",
    "train_set_x_orig = np.array(dataset['train_set_x'][:])\n",
    "train_set_y_orig = np.array(dataset['train_set_y'][:])\n",
    "test_set_x_orig = np.array(dataset['test_set_x'][:])\n",
    "test_set_y_orig = np.array(dataset['test_set_y'][:])"
   ]
  },
  {
   "cell_type": "code",
   "execution_count": 3,
   "metadata": {},
   "outputs": [
    {
     "name": "stdout",
     "output_type": "stream",
     "text": [
      "Training Data Dimensions: (209, 64, 64, 3)\n",
      "No. Examples: 209\n",
      "No. Inputs: 12288\n"
     ]
    }
   ],
   "source": [
    "# View Training Dataset\n",
    "print(\"Training Data Dimensions: {}\".format(train_set_x_orig.shape))\n",
    "print(\"No. Examples: {}\".format(train_set_x_orig.reshape((-1, 12288)).shape[0]))\n",
    "print(\"No. Inputs: {}\".format(train_set_x_orig.reshape((-1, 12288)).shape[1]))"
   ]
  },
  {
   "cell_type": "code",
   "execution_count": 4,
   "metadata": {},
   "outputs": [
    {
     "name": "stdout",
     "output_type": "stream",
     "text": [
      "Testing Data Dimensions: (50, 64, 64, 3)\n",
      "No. Examples: 50\n",
      "No. Inputs: 12288\n"
     ]
    }
   ],
   "source": [
    "# View Testing Dataset\n",
    "print(\"Testing Data Dimensions: {}\".format(test_set_x_orig.shape))\n",
    "print(\"No. Examples: {}\".format(test_set_x_orig.reshape((-1, 12288)).shape[0]))\n",
    "print(\"No. Inputs: {}\".format(test_set_x_orig.reshape((-1, 12288)).shape[1]))"
   ]
  },
  {
   "cell_type": "code",
   "execution_count": 5,
   "metadata": {},
   "outputs": [
    {
     "name": "stdout",
     "output_type": "stream",
     "text": [
      "Final Training Data Dimensions: (209, 12288)\n",
      "Final Testing Data Dimensions: (50, 12288)\n"
     ]
    }
   ],
   "source": [
    "# Pre-process Data\n",
    "def transform(x):\n",
    "    v = x.reshape((x.shape[0], (x.shape[1] * x.shape[2]) * x.shape[3]))\n",
    "    return v.astype(np.float32) / 255\n",
    "train_data = transform(train_set_x_orig)\n",
    "train_label = train_set_y_orig.astype(np.float32)\n",
    "test_data = transform(test_set_x_orig)\n",
    "test_label = test_set_y_orig.astype(np.float32)\n",
    "print(\"Final Training Data Dimensions: {}\".format(train_data.shape))\n",
    "print(\"Final Testing Data Dimensions: {}\".format(test_data.shape))"
   ]
  },
  {
   "cell_type": "markdown",
   "metadata": {},
   "source": [
    "### Neural Network Configuration"
   ]
  },
  {
   "cell_type": "code",
   "execution_count": null,
   "metadata": {
    "collapsed": true
   },
   "outputs": [],
   "source": [
    "# Configure the Dataset\n",
    "batch_size = 64 # Using full set of observations\n",
    "num_examples = 209\n",
    "net_dims = [20, 7, 5, 1]\n",
    "lr = 0.0075\n",
    "\n",
    "# Create Training and Test Data Iterator\n",
    "train_data = mx.gluon.data.DataLoader(\n",
    "    mx.gluon.data.ArrayDataset(\n",
    "        train_data,\n",
    "        train_label\n",
    "    ),\n",
    "    shuffle=True,\n",
    "    batch_size=batch_size\n",
    ")\n",
    "test_data = mx.gluon.data.DataLoader(\n",
    "    mx.gluon.data.ArrayDataset(\n",
    "        test_data,\n",
    "        test_label\n",
    "    ),\n",
    "    shuffle=False,\n",
    "    batch_size=batch_size\n",
    ")"
   ]
  },
  {
   "cell_type": "markdown",
   "metadata": {},
   "source": [
    "### Neural Network Model"
   ]
  },
  {
   "cell_type": "code",
   "execution_count": null,
   "metadata": {
    "collapsed": true
   },
   "outputs": [],
   "source": [
    "# Network Model\n",
    "model_ctx = mx.cpu()\n",
    "net = gluon.nn.HybridSequential()\n",
    "with net.name_scope():\n",
    "    net.add(gluon.nn.Dense(net_dims[0], activation='relu'))\n",
    "    net.add(gluon.nn.Dense(net_dims[1], activation='relu'))\n",
    "    net.add(gluon.nn.Dense(net_dims[2], activation='relu'))\n",
    "    net.add(gluon.nn.Dense(net_dims[3], activation='sigmoid'))\n",
    "net.hybridize()\n",
    "\n",
    "# Parameter Initialization\n",
    "net.collect_params().initialize(mx.init.Xavier(magnitude=2.24))\n",
    "# Optimizer\n",
    "trainer = gluon.Trainer(net.collect_params(), 'sgd', {'learning_rate': lr})\n",
    "# Cross Entropy Loss Function\n",
    "binary_ce = gluon.loss.SigmoidBinaryCrossEntropyLoss(from_sigmoid=True)\n",
    "\n",
    "# Evlauation metric\n",
    "def eval_acc(data_iterator, net):\n",
    "    acc = mx.metric.Accuracy()\n",
    "    acc.reset()\n",
    "    for i, (data, label) in enumerate(data_iterator):\n",
    "        #acc.reset()\n",
    "        data = data.as_in_context(model_ctx)\n",
    "        label = label.as_in_context(model_ctx)\n",
    "        output = net(data)\n",
    "        #predictions = nd.argmax(output, axis=1)\n",
    "        predictions = (nd.sign(output) + 1) / 2\n",
    "        #num_correct = nd.sum(predictions == label)\n",
    "        acc.update(preds=output, labels=label)\n",
    "    return acc.get()[1]\n",
    "    #return num_correct.asscalar()/209"
   ]
  },
  {
   "cell_type": "code",
   "execution_count": null,
   "metadata": {
    "collapsed": true
   },
   "outputs": [],
   "source": [
    "# Scikit Accuracy Score\n",
    "def accuracy(data_iterator, net, Y):\n",
    "    for i, (data, label) in enumerate(data_iterator):\n",
    "        data = data.as_in_context(model_ctx)\n",
    "        label = label.as_in_context(model_ctx)\n",
    "        output = net(data)\n",
    "        decision_boundary = np.vectorize(lambda x: 1 if x > 0.5 else 0)\n",
    "        y_pred = list(decision_boundary(output.asnumpy()).flat)\n",
    "        Y = list(Y.flat)\n",
    "        \n",
    "    return accuracy_score(Y, y_pred)"
   ]
  },
  {
   "cell_type": "markdown",
   "metadata": {},
   "source": [
    "### Model Training"
   ]
  },
  {
   "cell_type": "code",
   "execution_count": null,
   "metadata": {
    "collapsed": true
   },
   "outputs": [],
   "source": [
    "# Training Loop\n",
    "epochs = 2500\n",
    "costs = []\n",
    "\n",
    "for e in range(epochs):\n",
    "    cumulative_loss = 0\n",
    "    # Enumerate bacthes\n",
    "    for i, (data, label) in enumerate(train_data):\n",
    "        data = data.as_in_context(model_ctx)\n",
    "        label = label.as_in_context(model_ctx)\n",
    "        # Record for calculating derivatives for forward pass\n",
    "        with autograd.record():\n",
    "            output = net(data)\n",
    "            loss = binary_ce(output, label)\n",
    "        # Run backward pass\n",
    "        loss.backward()\n",
    "        trainer.step(data.shape[0])\n",
    "        cumulative_loss += nd.sum(loss).asscalar()\n",
    "    test_accuracy = accuracy(test_data, net, test_set_y_orig)\n",
    "    #train_accuracy = accuracy(train_data, net, train_set_y_orig)\n",
    "    costs.append(cumulative_loss/num_examples)\n",
    "    if e % 100 ==0:\n",
    "        #print(\"Epoch: {}; Loss: {}; Training Acc: {}; Testing Acc: {}\"\\\n",
    "        #      .format(e,cumulative_loss/num_examples,train_accuracy,test_accuracy))\n",
    "        print(\"Epoch: {}; Loss: {}; Test Set Accuracy: {}\"\\\n",
    "              .format(e,cumulative_loss/num_examples,test_accuracy))"
   ]
  },
  {
   "cell_type": "markdown",
   "metadata": {},
   "source": [
    "### Training Analysis"
   ]
  },
  {
   "cell_type": "code",
   "execution_count": null,
   "metadata": {
    "collapsed": true
   },
   "outputs": [],
   "source": [
    "# Final Score\n",
    "final_accuracy = accuracy(test_data, net, test_set_y_orig)\n",
    "print(\"Epoch: {}\\nLoss: {}\\nTest Set Accuracy: {}%\".format(e,cumulative_loss/num_examples, final_accuracy*100))\n",
    "\n",
    "# Plot the convergence of the cost function\n",
    "%matplotlib inline\n",
    "import matplotlib\n",
    "import matplotlib.pyplot as plt\n",
    "plt.figure(num=None,figsize=(8, 6))\n",
    "plt.plot(costs)\n",
    "plt.grid(True, which=\"both\")\n",
    "plt.xlabel('Epoch',fontsize=14)\n",
    "plt.ylabel('Cost',fontsize=14)\n",
    "plt.title(\"Learning Rate: \" + str(lr))\n",
    "plt.show;"
   ]
  },
  {
   "cell_type": "markdown",
   "metadata": {},
   "source": [
    "### Predict on Unseen Data"
   ]
  },
  {
   "cell_type": "code",
   "execution_count": null,
   "metadata": {
    "collapsed": true
   },
   "outputs": [],
   "source": [
    "# Predict Funciton\n",
    "def predict(image, nn):\n",
    "    data = nd.array(image).as_in_context(model_ctx)\n",
    "    output = nn(data)\n",
    "    prediction = (nd.sign(output) + 1) /2\n",
    "    return prediction"
   ]
  },
  {
   "cell_type": "markdown",
   "metadata": {},
   "source": [
    "#### Grumpy Cat"
   ]
  },
  {
   "cell_type": "code",
   "execution_count": null,
   "metadata": {
    "collapsed": true
   },
   "outputs": [],
   "source": [
    "# Display and predict against grumpy cat image\n",
    "from skimage import transform\n",
    "classes = ['non-cat', 'cat']\n",
    "my_image = \"grumpy_cat.jpeg\"\n",
    "#y = [1] # the true class label of the image (1 -> cat)\n",
    "fname = \"images/\" + my_image\n",
    "# Read the image\n",
    "img = plt.imread(fname)\n",
    "# Pre-process the image\n",
    "image = transform.resize(img, (64, 64), mode='constant').reshape((1, 64 * 64 * 3))\n",
    "# Run the model against the image\n",
    "my_predicted_image = np.squeeze(predict(image, net).asnumpy()[0])\n",
    "# Plot the final image\n",
    "plt.rcParams['figure.figsize'] = (6.0, 7.0)\n",
    "plt.imshow(img);\n",
    "# Print the results\n",
    "print (\"y = \" + str(np.squeeze(my_predicted_image)) + \\\n",
    "       \"\\nThe trained model predicts a \\\"\" + \\\n",
    "       classes[int(my_predicted_image)] +  \"\\\" picture.\")"
   ]
  },
  {
   "cell_type": "markdown",
   "metadata": {},
   "source": [
    "#### Gargouille"
   ]
  },
  {
   "cell_type": "code",
   "execution_count": null,
   "metadata": {
    "collapsed": true
   },
   "outputs": [],
   "source": [
    "# Display and predict against the gargouille image\n",
    "my_image = \"gargouille.jpeg\"\n",
    "#y = [1] # the true class label of the image (1 -> cat)\n",
    "fname = \"images/\" + my_image\n",
    "# Read the image\n",
    "img = plt.imread(fname)\n",
    "# Pre-process the image\n",
    "image = transform.resize(img, (64, 64), mode='constant').reshape((1, 64 * 64 * 3))\n",
    "# Run the model against the image\n",
    "my_predicted_image = np.squeeze(predict(image, net).asnumpy()[0])\n",
    "# Plot the final image\n",
    "plt.rcParams['figure.figsize'] = (6.0, 7.0)\n",
    "plt.imshow(img);\n",
    "# Print the results\n",
    "print (\"y = \" + str(np.squeeze(my_predicted_image)) + \\\n",
    "       \"\\nThe trained model predicts a \\\"\" + \\\n",
    "       classes[int()] +  \"\\\" picture.\")"
   ]
  },
  {
   "cell_type": "markdown",
   "metadata": {},
   "source": [
    "### Save the Model and Optmized Parameters"
   ]
  },
  {
   "cell_type": "code",
   "execution_count": null,
   "metadata": {
    "collapsed": true
   },
   "outputs": [],
   "source": [
    "# Create aplaceholder\n",
    "z = net(mx.sym.var('data'))\n",
    "\n",
    "# Save the model\n",
    "z.save('model.json')\n",
    "\n",
    "# Save the Optimized Parameters\n",
    "net.collect_params().save('model.params')"
   ]
  },
  {
   "cell_type": "markdown",
   "metadata": {},
   "source": [
    "### Load the Model and Test"
   ]
  },
  {
   "cell_type": "code",
   "execution_count": null,
   "metadata": {
    "collapsed": true
   },
   "outputs": [],
   "source": [
    "symbol = mx.sym.load('model.json')\n",
    "outputs = mx.sym.sigmoid(data=symbol, name='sigmoid_label')\n",
    "inputs = mx.sym.var('data')\n",
    "param_dict = gluon.ParameterDict('model_')\n",
    "model = gluon.SymbolBlock(outputs, inputs, param_dict)\n",
    "model.load_params('model.params', ctx=model_ctx)"
   ]
  },
  {
   "cell_type": "code",
   "execution_count": null,
   "metadata": {
    "collapsed": true
   },
   "outputs": [],
   "source": [
    "# Display and predict against grumpy cat image\n",
    "from skimage import transform\n",
    "classes = ['non-cat', 'cat']\n",
    "my_image = \"grumpy_cat.jpeg\"\n",
    "#y = [1] # the true class label of the image (1 -> cat)\n",
    "fname = \"images/\" + my_image\n",
    "# Read the image\n",
    "img = plt.imread(fname)\n",
    "# Pre-process the image\n",
    "image = transform.resize(img, (64, 64), mode='constant').reshape((1, 64 * 64 * 3))\n",
    "# Run the model against the image\n",
    "my_predicted_image = np.squeeze(predict(image, model).asnumpy()[0])\n",
    "# Plot the final image\n",
    "plt.rcParams['figure.figsize'] = (6.0, 7.0)\n",
    "plt.imshow(img);\n",
    "# Print the results\n",
    "print (\"y = \" + str(np.squeeze(my_predicted_image)) + \\\n",
    "       \"\\nThe trained model predicts a \\\"\" + \\\n",
    "       classes[int(my_predicted_image)] +  \"\\\" picture.\")"
   ]
  },
  {
   "cell_type": "code",
   "execution_count": null,
   "metadata": {
    "collapsed": true
   },
   "outputs": [],
   "source": [
    "# Display and predict against the gargouille image\n",
    "my_image = \"gargouille.jpeg\"\n",
    "#y = [1] # the true class label of the image (1 -> cat)\n",
    "fname = \"images/\" + my_image\n",
    "# Read the image\n",
    "img = plt.imread(fname)\n",
    "# Pre-process the image\n",
    "image = transform.resize(img, (64, 64), mode='constant').reshape((1, 64 * 64 * 3))\n",
    "# Run the model against the image\n",
    "my_predicted_image = np.squeeze(predict(image, model).asnumpy()[0])\n",
    "# Plot the final image\n",
    "plt.rcParams['figure.figsize'] = (6.0, 7.0)\n",
    "plt.imshow(img);\n",
    "# Print the results\n",
    "print (\"y = \" + str(np.squeeze(my_predicted_image)) + \\\n",
    "       \"\\nThe trained model predicts a \\\"\" + \\\n",
    "       classes[int()] +  \"\\\" picture.\")"
   ]
  },
  {
   "cell_type": "code",
   "execution_count": null,
   "metadata": {
    "collapsed": true
   },
   "outputs": [],
   "source": []
  },
  {
   "cell_type": "code",
   "execution_count": null,
   "metadata": {
    "collapsed": true
   },
   "outputs": [],
   "source": []
  },
  {
   "cell_type": "code",
   "execution_count": null,
   "metadata": {
    "collapsed": true
   },
   "outputs": [],
   "source": [
    "# Training Loop\n",
    "epochs = 25\n",
    "\n",
    "for e in range(epochs):\n",
    "    cumulative_loss = 0\n",
    "    # Enumerate bacthes\n",
    "    for i, (data, label) in enumerate(train_data):\n",
    "        data = data.as_in_context(model_ctx)\n",
    "        label = label.as_in_context(model_ctx)\n",
    "        # Record for calculating derivatives for forward pass\n",
    "        with autograd.record():\n",
    "            output = net(data)\n",
    "            loss = binary_ce(output, label)\n",
    "        # Run backward pass\n",
    "        loss.backward()\n",
    "        trainer.step(data.shape[0])\n",
    "        current_loss = nd.mean(loss).asscalar()\n",
    "    print(\"Epoch: {}; Loss: {}\".format(e,current_loss))"
   ]
  },
  {
   "cell_type": "code",
   "execution_count": null,
   "metadata": {
    "collapsed": true
   },
   "outputs": [],
   "source": [
    "y_pred = np.array([])\n",
    "for data, label in test_data:\n",
    "    data = data.as_in_context(mx.cpu()).astype('float32')\n",
    "    label = label.as_in_context(mx.cpu()).astype('float32')\n",
    "    output = net(data)\n",
    "    y_pred = np.append(y_pred, output.asnumpy())\n",
    "\n",
    "y_pred_labels = np.where(y_pred > 0.5, 1, 0)\n",
    "print(accuracy_score(test_set_y_orig, y_pred_labels))"
   ]
  },
  {
   "cell_type": "markdown",
   "metadata": {
    "collapsed": true
   },
   "source": [
    "---"
   ]
  },
  {
   "cell_type": "code",
   "execution_count": null,
   "metadata": {
    "collapsed": true
   },
   "outputs": [],
   "source": []
  },
  {
   "cell_type": "code",
   "execution_count": null,
   "metadata": {
    "collapsed": true
   },
   "outputs": [],
   "source": []
  },
  {
   "cell_type": "code",
   "execution_count": null,
   "metadata": {
    "collapsed": true
   },
   "outputs": [],
   "source": [
    "num_correct = 0.0\n",
    "num_total = 50\n",
    "for data, label in test_data:\n",
    "    data = data.as_in_context(mx.cpu()).astype('float32')\n",
    "    label = label.as_in_context(mx.cpu()).astype('float32')\n",
    "    output = net(data)\n",
    "    prediction = (nd.sign(output) + 1) / 2\n",
    "    num_correct += nd.sum(prediction == label)\n",
    "print(\"Accuracy: %0.3f\" % (num_correct.asscalar()/num_total))"
   ]
  },
  {
   "cell_type": "code",
   "execution_count": null,
   "metadata": {
    "collapsed": true
   },
   "outputs": [],
   "source": []
  },
  {
   "cell_type": "code",
   "execution_count": null,
   "metadata": {
    "collapsed": true
   },
   "outputs": [],
   "source": []
  },
  {
   "cell_type": "code",
   "execution_count": null,
   "metadata": {
    "collapsed": true
   },
   "outputs": [],
   "source": [
    "metric = mx.metric.Accuracy()\n",
    "def test(ctx, net, val_data):\n",
    "    for data, label in val_data:\n",
    "        data = data.as_in_context(ctx)\n",
    "        label = label.as_in_context(ctx)\n",
    "        output = net(data)\n",
    "        metric.update([label], [output])\n",
    "    return metric.get()\n",
    "\n",
    "ctx = mx.cpu()\n",
    "epochs = 2500\n",
    "for e in range(epochs):\n",
    "    metric.reset()\n",
    "    for data, label in train_data:\n",
    "        data = data.as_in_context(mx.cpu())\n",
    "        label = label.as_in_context(mx.cpu())\n",
    "        # Record for calculating derivatives for forward pass\n",
    "        with autograd.record():\n",
    "            output = net(data)\n",
    "            loss = binary_ce(output, label)\n",
    "            # Run backward pass\n",
    "            loss.backward()\n",
    "        trainer.step(data.shape[0])\n",
    "        current_loss = nd.mean(loss).asscalar()\n",
    "        metric.update([label], [output])\n",
    "    \n",
    "    if e % 100 == 0:\n",
    "        name, acc = metric.get()\n",
    "        print(\"Epoch: {}; Loss: {}; Training Acc: {}{}\" .format(e,current_loss, name, acc))\n",
    "        name, val_acc = test(ctx, net, test_data)\n",
    "        print(\"Teting Acc: {}{}\".format(name, val_acc))"
   ]
  },
  {
   "cell_type": "code",
   "execution_count": null,
   "metadata": {
    "collapsed": true
   },
   "outputs": [],
   "source": []
  },
  {
   "cell_type": "markdown",
   "metadata": {
    "collapsed": true
   },
   "source": [
    "---\n",
    "__Using MXNet__"
   ]
  },
  {
   "cell_type": "code",
   "execution_count": null,
   "metadata": {
    "collapsed": true
   },
   "outputs": [],
   "source": [
    "# Load Data\n",
    "train_data = transform(train_set_x_orig)\n",
    "train_label = train_set_y_orig.astype(np.float32)\n",
    "test_data = transform(test_set_x_orig)\n",
    "test_label = test_set_y_orig.astype(np.float32)"
   ]
  },
  {
   "cell_type": "code",
   "execution_count": null,
   "metadata": {
    "collapsed": true
   },
   "outputs": [],
   "source": [
    "# Custom Metric\n",
    "def binary_acc(label, pred):\n",
    "    return int(label[0]) == int(pred[0]>=0.5)"
   ]
  },
  {
   "cell_type": "code",
   "execution_count": null,
   "metadata": {
    "collapsed": true
   },
   "outputs": [],
   "source": [
    "# Define the Model\n",
    "x_sym = mx.symbol.Variable('data')\n",
    "y_sym = mx.symbol.Variable('softmax_label')\n",
    "\n",
    "h1 = mx.symbol.FullyConnected(data=x_sym, name='h1', num_hidden=20)\n",
    "net = mx.symbol.Activation(data=h1, act_type='relu')\n",
    "h2 = mx.symbol.FullyConnected(data=net, name='h2', num_hidden=7)\n",
    "net = mx.symbol.Activation(data=h2, act_type='relu')\n",
    "h3 = mx.symbol.FullyConnected(data=net, name='h3', num_hidden=5)\n",
    "net = mx.symbol.Activation(data=h3, act_type='relu')\n",
    "h4 = mx.symbol.FullyConnected(data=net, name='h4', num_hidden=1)\n",
    "#net = mx.symbol.Activation(data=h4, act_type='sigmoid')\n",
    "loss = mx.symbol.LogisticRegressionOutput(data=h4, label=y_sym, name='loss')\n",
    "\n",
    "# Binding the model\n",
    "model = mx.model.FeedForward(\n",
    "    ctx=mx.cpu(),\n",
    "    symbol=loss,\n",
    "    num_epoch=2500,\n",
    "    learning_rate=0.0075,\n",
    "    optimizer='sgd'\n",
    ")\n",
    "\n",
    "#logging.basicConfig(level=logging.INFO)\n",
    "\n",
    "# Build Iterator\n",
    "train_iter = mx.io.NDArrayIter(\n",
    "    data=train_data, label=train_label, batch_size=64, shuffle=True\n",
    ")\n",
    "\n",
    "test_iter = mx.io.NDArrayIter(data=test_data, shuffle=False)\n",
    "\n",
    "# Train\n",
    "model.fit(X=train_iter,eval_metric=mx.metric.np(binary_acc))\n",
    "\n",
    "\n",
    "\n",
    "\n",
    "\n"
   ]
  },
  {
   "cell_type": "code",
   "execution_count": null,
   "metadata": {
    "collapsed": true
   },
   "outputs": [],
   "source": [
    "model.predict(test_iter)"
   ]
  },
  {
   "cell_type": "code",
   "execution_count": null,
   "metadata": {
    "collapsed": true
   },
   "outputs": [],
   "source": [
    "metric = mx.metric.Accuracy()\n",
    "model.score(test_data, metric)"
   ]
  },
  {
   "cell_type": "code",
   "execution_count": null,
   "metadata": {
    "collapsed": true
   },
   "outputs": [],
   "source": []
  },
  {
   "cell_type": "code",
   "execution_count": null,
   "metadata": {
    "collapsed": true
   },
   "outputs": [],
   "source": []
  },
  {
   "cell_type": "code",
   "execution_count": null,
   "metadata": {
    "collapsed": true
   },
   "outputs": [],
   "source": []
  },
  {
   "cell_type": "code",
   "execution_count": null,
   "metadata": {
    "collapsed": true
   },
   "outputs": [],
   "source": []
  },
  {
   "cell_type": "code",
   "execution_count": null,
   "metadata": {
    "collapsed": true
   },
   "outputs": [],
   "source": []
  },
  {
   "cell_type": "code",
   "execution_count": null,
   "metadata": {
    "collapsed": true
   },
   "outputs": [],
   "source": []
  },
  {
   "cell_type": "markdown",
   "metadata": {},
   "source": [
    "---\n",
    "__Softmax (with GLuon)__"
   ]
  },
  {
   "cell_type": "code",
   "execution_count": 6,
   "metadata": {
    "collapsed": true
   },
   "outputs": [],
   "source": [
    "# Config\n",
    "epochs = 2500\n",
    "num_examples = 209\n",
    "batch_size=64\n",
    "\n",
    "# Load Data\n",
    "train_data = transform(train_set_x_orig)\n",
    "train_label = train_set_y_orig.astype(np.float32)\n",
    "test_data = transform(test_set_x_orig)\n",
    "test_label = test_set_y_orig.astype(np.float32)"
   ]
  },
  {
   "cell_type": "code",
   "execution_count": 7,
   "metadata": {
    "collapsed": true
   },
   "outputs": [],
   "source": [
    "# Create Training and Test Data Iterator\n",
    "train_data = mx.gluon.data.DataLoader(\n",
    "    mx.gluon.data.ArrayDataset(\n",
    "        train_data,\n",
    "        train_label\n",
    "    ),\n",
    "    shuffle=True,\n",
    "    batch_size=batch_size\n",
    ")\n",
    "test_data = mx.gluon.data.DataLoader(\n",
    "    mx.gluon.data.ArrayDataset(\n",
    "        test_data,\n",
    "        test_label\n",
    "    ),\n",
    "    shuffle=False,\n",
    "    batch_size=batch_size\n",
    ")"
   ]
  },
  {
   "cell_type": "code",
   "execution_count": 8,
   "metadata": {
    "collapsed": true
   },
   "outputs": [],
   "source": [
    "# Network Model\n",
    "model_ctx = mx.cpu()\n",
    "net = gluon.nn.HybridSequential()\n",
    "with net.name_scope():\n",
    "    net.add(gluon.nn.Dense(20, activation='relu'))\n",
    "    net.add(gluon.nn.Dense(7, activation='relu'))\n",
    "    net.add(gluon.nn.Dense(5, activation='relu'))\n",
    "    net.add(gluon.nn.Dense(2))\n",
    "net.hybridize()\n",
    "\n",
    "# Parameter Initialization\n",
    "net.collect_params().initialize(mx.init.Xavier(magnitude=2.24))\n",
    "# Optimizer\n",
    "trainer = gluon.Trainer(net.collect_params(), 'sgd', {'learning_rate': 0.0075})\n",
    "# Cross Entropy Loss Function\n",
    "softmax_ce = gluon.loss.SoftmaxCrossEntropyLoss()\n",
    "\n",
    "# Evlauation metric\n",
    "def eval_acc(data_iterator, net):\n",
    "    acc = mx.metric.Accuracy()\n",
    "    for i, (data, label) in enumerate(data_iterator):\n",
    "        #acc.reset()\n",
    "        data = data.as_in_context(model_ctx)\n",
    "        label = label.as_in_context(model_ctx)\n",
    "        output = net(data)\n",
    "        predictions = nd.argmax(output, axis=1)\n",
    "        #predictions = (nd.sign(output) + 1) / 2\n",
    "        #num_correct = nd.sum(predictions == label)\n",
    "        acc.update(preds=predictions, labels=label)\n",
    "    return acc.get()[1]\n",
    "    #return num_correct.asscalar()/209"
   ]
  },
  {
   "cell_type": "code",
   "execution_count": 9,
   "metadata": {},
   "outputs": [
    {
     "name": "stdout",
     "output_type": "stream",
     "text": [
      "Epoch: 0; Loss: 0.652624367527; Training Acc: 0.655502392344; Testing Acc: 0.34\n",
      "Epoch: 100; Loss: 0.371152850429; Training Acc: 0.851674641148; Testing Acc: 0.54\n",
      "Epoch: 200; Loss: 0.289497756502; Training Acc: 0.99043062201; Testing Acc: 0.6\n",
      "Epoch: 300; Loss: 0.126050449444; Training Acc: 1.0; Testing Acc: 0.6\n",
      "Epoch: 400; Loss: 0.0893592418096; Training Acc: 1.0; Testing Acc: 0.62\n"
     ]
    },
    {
     "ename": "KeyboardInterrupt",
     "evalue": "",
     "output_type": "error",
     "traceback": [
      "\u001b[0;31m\u001b[0m",
      "\u001b[0;31mKeyboardInterrupt\u001b[0mTraceback (most recent call last)",
      "\u001b[0;32m<ipython-input-9-b6ee78d25c94>\u001b[0m in \u001b[0;36m<module>\u001b[0;34m()\u001b[0m\n\u001b[1;32m     17\u001b[0m \u001b[0;34m\u001b[0m\u001b[0m\n\u001b[1;32m     18\u001b[0m     \u001b[0mtest_accuracy\u001b[0m \u001b[0;34m=\u001b[0m \u001b[0meval_acc\u001b[0m\u001b[0;34m(\u001b[0m\u001b[0mtest_data\u001b[0m\u001b[0;34m,\u001b[0m \u001b[0mnet\u001b[0m\u001b[0;34m)\u001b[0m\u001b[0;34m\u001b[0m\u001b[0m\n\u001b[0;32m---> 19\u001b[0;31m     \u001b[0mtrain_accuracy\u001b[0m \u001b[0;34m=\u001b[0m \u001b[0meval_acc\u001b[0m\u001b[0;34m(\u001b[0m\u001b[0mtrain_data\u001b[0m\u001b[0;34m,\u001b[0m \u001b[0mnet\u001b[0m\u001b[0;34m)\u001b[0m\u001b[0;34m\u001b[0m\u001b[0m\n\u001b[0m\u001b[1;32m     20\u001b[0m     \u001b[0mcosts\u001b[0m\u001b[0;34m.\u001b[0m\u001b[0mappend\u001b[0m\u001b[0;34m(\u001b[0m\u001b[0mcumulative_loss\u001b[0m\u001b[0;34m/\u001b[0m\u001b[0mnum_examples\u001b[0m\u001b[0;34m)\u001b[0m\u001b[0;34m\u001b[0m\u001b[0m\n\u001b[1;32m     21\u001b[0m     \u001b[0;32mif\u001b[0m \u001b[0me\u001b[0m \u001b[0;34m%\u001b[0m \u001b[0;36m100\u001b[0m \u001b[0;34m==\u001b[0m\u001b[0;36m0\u001b[0m\u001b[0;34m:\u001b[0m\u001b[0;34m\u001b[0m\u001b[0m\n",
      "\u001b[0;32m<ipython-input-8-c4507354a0a5>\u001b[0m in \u001b[0;36meval_acc\u001b[0;34m(data_iterator, net)\u001b[0m\n\u001b[1;32m     27\u001b[0m         \u001b[0;31m#predictions = (nd.sign(output) + 1) / 2\u001b[0m\u001b[0;34m\u001b[0m\u001b[0;34m\u001b[0m\u001b[0m\n\u001b[1;32m     28\u001b[0m         \u001b[0;31m#num_correct = nd.sum(predictions == label)\u001b[0m\u001b[0;34m\u001b[0m\u001b[0;34m\u001b[0m\u001b[0m\n\u001b[0;32m---> 29\u001b[0;31m         \u001b[0macc\u001b[0m\u001b[0;34m.\u001b[0m\u001b[0mupdate\u001b[0m\u001b[0;34m(\u001b[0m\u001b[0mpreds\u001b[0m\u001b[0;34m=\u001b[0m\u001b[0mpredictions\u001b[0m\u001b[0;34m,\u001b[0m \u001b[0mlabels\u001b[0m\u001b[0;34m=\u001b[0m\u001b[0mlabel\u001b[0m\u001b[0;34m)\u001b[0m\u001b[0;34m\u001b[0m\u001b[0m\n\u001b[0m\u001b[1;32m     30\u001b[0m     \u001b[0;32mreturn\u001b[0m \u001b[0macc\u001b[0m\u001b[0;34m.\u001b[0m\u001b[0mget\u001b[0m\u001b[0;34m(\u001b[0m\u001b[0;34m)\u001b[0m\u001b[0;34m[\u001b[0m\u001b[0;36m1\u001b[0m\u001b[0;34m]\u001b[0m\u001b[0;34m\u001b[0m\u001b[0m\n\u001b[1;32m     31\u001b[0m     \u001b[0;31m#return num_correct.asscalar()/209\u001b[0m\u001b[0;34m\u001b[0m\u001b[0;34m\u001b[0m\u001b[0m\n",
      "\u001b[0;32m/home/ec2-user/anaconda3/envs/mxnet_p27/lib/python2.7/site-packages/mxnet/metric.pyc\u001b[0m in \u001b[0;36mupdate\u001b[0;34m(self, labels, preds)\u001b[0m\n\u001b[1;32m    392\u001b[0m                 \u001b[0mpred_label\u001b[0m \u001b[0;34m=\u001b[0m \u001b[0mndarray\u001b[0m\u001b[0;34m.\u001b[0m\u001b[0margmax\u001b[0m\u001b[0;34m(\u001b[0m\u001b[0mpred_label\u001b[0m\u001b[0;34m,\u001b[0m \u001b[0maxis\u001b[0m\u001b[0;34m=\u001b[0m\u001b[0mself\u001b[0m\u001b[0;34m.\u001b[0m\u001b[0maxis\u001b[0m\u001b[0;34m)\u001b[0m\u001b[0;34m\u001b[0m\u001b[0m\n\u001b[1;32m    393\u001b[0m             \u001b[0mpred_label\u001b[0m \u001b[0;34m=\u001b[0m \u001b[0mpred_label\u001b[0m\u001b[0;34m.\u001b[0m\u001b[0masnumpy\u001b[0m\u001b[0;34m(\u001b[0m\u001b[0;34m)\u001b[0m\u001b[0;34m.\u001b[0m\u001b[0mastype\u001b[0m\u001b[0;34m(\u001b[0m\u001b[0;34m'int32'\u001b[0m\u001b[0;34m)\u001b[0m\u001b[0;34m\u001b[0m\u001b[0m\n\u001b[0;32m--> 394\u001b[0;31m             \u001b[0mlabel\u001b[0m \u001b[0;34m=\u001b[0m \u001b[0mlabel\u001b[0m\u001b[0;34m.\u001b[0m\u001b[0masnumpy\u001b[0m\u001b[0;34m(\u001b[0m\u001b[0;34m)\u001b[0m\u001b[0;34m.\u001b[0m\u001b[0mastype\u001b[0m\u001b[0;34m(\u001b[0m\u001b[0;34m'int32'\u001b[0m\u001b[0;34m)\u001b[0m\u001b[0;34m\u001b[0m\u001b[0m\n\u001b[0m\u001b[1;32m    395\u001b[0m \u001b[0;34m\u001b[0m\u001b[0m\n\u001b[1;32m    396\u001b[0m             \u001b[0mcheck_label_shapes\u001b[0m\u001b[0;34m(\u001b[0m\u001b[0mlabel\u001b[0m\u001b[0;34m,\u001b[0m \u001b[0mpred_label\u001b[0m\u001b[0;34m)\u001b[0m\u001b[0;34m\u001b[0m\u001b[0m\n",
      "\u001b[0;32m/home/ec2-user/anaconda3/envs/mxnet_p27/lib/python2.7/site-packages/mxnet/ndarray/ndarray.pyc\u001b[0m in \u001b[0;36masnumpy\u001b[0;34m(self)\u001b[0m\n\u001b[1;32m   1549\u001b[0m         check_call(_LIB.MXNDArraySyncCopyToCPU(\n\u001b[1;32m   1550\u001b[0m             \u001b[0mself\u001b[0m\u001b[0;34m.\u001b[0m\u001b[0mhandle\u001b[0m\u001b[0;34m,\u001b[0m\u001b[0;34m\u001b[0m\u001b[0m\n\u001b[0;32m-> 1551\u001b[0;31m             \u001b[0mdata\u001b[0m\u001b[0;34m.\u001b[0m\u001b[0mctypes\u001b[0m\u001b[0;34m.\u001b[0m\u001b[0mdata_as\u001b[0m\u001b[0;34m(\u001b[0m\u001b[0mctypes\u001b[0m\u001b[0;34m.\u001b[0m\u001b[0mc_void_p\u001b[0m\u001b[0;34m)\u001b[0m\u001b[0;34m,\u001b[0m\u001b[0;34m\u001b[0m\u001b[0m\n\u001b[0m\u001b[1;32m   1552\u001b[0m             ctypes.c_size_t(data.size)))\n\u001b[1;32m   1553\u001b[0m         \u001b[0;32mreturn\u001b[0m \u001b[0mdata\u001b[0m\u001b[0;34m\u001b[0m\u001b[0m\n",
      "\u001b[0;32m/home/ec2-user/anaconda3/envs/mxnet_p27/lib/python2.7/site-packages/numpy/core/_internal.pyc\u001b[0m in \u001b[0;36m__init__\u001b[0;34m(self, array, ptr)\u001b[0m\n\u001b[1;32m    239\u001b[0m \u001b[0;34m\u001b[0m\u001b[0m\n\u001b[1;32m    240\u001b[0m \u001b[0;32mclass\u001b[0m \u001b[0m_ctypes\u001b[0m\u001b[0;34m(\u001b[0m\u001b[0mobject\u001b[0m\u001b[0;34m)\u001b[0m\u001b[0;34m:\u001b[0m\u001b[0;34m\u001b[0m\u001b[0m\n\u001b[0;32m--> 241\u001b[0;31m     \u001b[0;32mdef\u001b[0m \u001b[0m__init__\u001b[0m\u001b[0;34m(\u001b[0m\u001b[0mself\u001b[0m\u001b[0;34m,\u001b[0m \u001b[0marray\u001b[0m\u001b[0;34m,\u001b[0m \u001b[0mptr\u001b[0m\u001b[0;34m=\u001b[0m\u001b[0mNone\u001b[0m\u001b[0;34m)\u001b[0m\u001b[0;34m:\u001b[0m\u001b[0;34m\u001b[0m\u001b[0m\n\u001b[0m\u001b[1;32m    242\u001b[0m         \u001b[0;32mif\u001b[0m \u001b[0mctypes\u001b[0m\u001b[0;34m:\u001b[0m\u001b[0;34m\u001b[0m\u001b[0m\n\u001b[1;32m    243\u001b[0m             \u001b[0mself\u001b[0m\u001b[0;34m.\u001b[0m\u001b[0m_ctypes\u001b[0m \u001b[0;34m=\u001b[0m \u001b[0mctypes\u001b[0m\u001b[0;34m\u001b[0m\u001b[0m\n",
      "\u001b[0;31mKeyboardInterrupt\u001b[0m: "
     ]
    }
   ],
   "source": [
    "# Training Loop\n",
    "costs = []\n",
    "for e in range(epochs):\n",
    "    cumulative_loss = 0\n",
    "    # Enumerate bacthes\n",
    "    for i, (data, label) in enumerate(train_data):\n",
    "        data = data.as_in_context(model_ctx)\n",
    "        label = label.as_in_context(model_ctx)\n",
    "        # Record for calculating derivatives for forward pass\n",
    "        with autograd.record():\n",
    "            output = net(data)\n",
    "            loss = softmax_ce(output, label)\n",
    "        # Run backward pass\n",
    "        loss.backward()\n",
    "        trainer.step(batch_size)\n",
    "        cumulative_loss += nd.sum(loss).asscalar()\n",
    "        \n",
    "    test_accuracy = eval_acc(test_data, net)\n",
    "    train_accuracy = eval_acc(train_data, net)\n",
    "    costs.append(cumulative_loss/num_examples)\n",
    "    if e % 100 ==0:\n",
    "        print(\"Epoch: {}; Loss: {}; Training Acc: {}; Testing Acc: {}\"\\\n",
    "              .format(e,cumulative_loss/num_examples,train_accuracy,test_accuracy))"
   ]
  },
  {
   "cell_type": "code",
   "execution_count": null,
   "metadata": {
    "collapsed": true
   },
   "outputs": [],
   "source": [
    "# Final Score\n",
    "final_accuracy = eval_acc(test_data, net)\n",
    "print(\"Epoch: {}\\nLoss: {}\\nTest Set Accuracy: {}%\".format(e,cumulative_loss/num_examples, final_accuracy*100))\n",
    "\n",
    "# Plot the convergence of the cost function\n",
    "%matplotlib inline\n",
    "import matplotlib\n",
    "import matplotlib.pyplot as plt\n",
    "plt.figure(num=None,figsize=(8, 6))\n",
    "plt.plot(costs)\n",
    "plt.grid(True, which=\"both\")\n",
    "plt.xlabel('Epoch',fontsize=14)\n",
    "plt.ylabel('Cost',fontsize=14)\n",
    "plt.title(\"Learning Rate: \" + str(0.0075))\n",
    "plt.show;"
   ]
  },
  {
   "cell_type": "code",
   "execution_count": null,
   "metadata": {
    "collapsed": true
   },
   "outputs": [],
   "source": []
  },
  {
   "cell_type": "code",
   "execution_count": null,
   "metadata": {
    "collapsed": true
   },
   "outputs": [],
   "source": []
  },
  {
   "cell_type": "code",
   "execution_count": null,
   "metadata": {
    "collapsed": true
   },
   "outputs": [],
   "source": []
  },
  {
   "cell_type": "code",
   "execution_count": null,
   "metadata": {
    "collapsed": true
   },
   "outputs": [],
   "source": []
  },
  {
   "cell_type": "code",
   "execution_count": null,
   "metadata": {
    "collapsed": true
   },
   "outputs": [],
   "source": []
  }
 ],
 "metadata": {
  "kernelspec": {
   "display_name": "conda_mxnet_p27",
   "language": "python",
   "name": "conda_mxnet_p27"
  },
  "language_info": {
   "codemirror_mode": {
    "name": "ipython",
    "version": 2
   },
   "file_extension": ".py",
   "mimetype": "text/x-python",
   "name": "python",
   "nbconvert_exporter": "python",
   "pygments_lexer": "ipython2",
   "version": "2.7.11"
  }
 },
 "nbformat": 4,
 "nbformat_minor": 2
}
