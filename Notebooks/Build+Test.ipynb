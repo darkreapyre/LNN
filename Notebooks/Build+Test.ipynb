{
 "cells": [
  {
   "cell_type": "markdown",
   "metadata": {},
   "source": [
    "# DevOps Build Integration"
   ]
  },
  {
   "cell_type": "code",
   "execution_count": null,
   "metadata": {
    "collapsed": true
   },
   "outputs": [],
   "source": [
    "# Import Libraries\n",
    "import time\n",
    "import boto3\n",
    "import sagemaker\n",
    "from sagemaker import get_execution_role\n",
    "from sagemaker.mxnet import MXNet\n",
    "\n",
    "# Global Variables\n",
    "sagemaker_client = boto3.client('sagemaker')\n",
    "iam_client = boto3.client('iam')\n",
    "training_job = 'itsacat-train-v0-001'\n",
    "build_id = '12345' # Build ID is generated from CodePipeline input artifacts\n",
    "model_name = str(training_job.split('-')[0]+'-prod-'+''.join(training_job.split('-')[2:])+'-'+build_id)\n",
    "training_job_info = sagemaker_client.describe_training_job(TrainingJobName=training_job)\n",
    "training_job_name = str(training_job_info['HyperParameters']['sagemaker_job_name'].split('\"')[1])\n",
    "\n",
    "# Create IAM Role for SageMaker Session\n",
    "role_response = iam_client.create_role(\n",
    "    RoleName=model_name+'-Role',\n",
    "    AssumeRolePolicyDocument='{ \"Version\": \"2012-10-17\", \"Statement\": [ { \"Effect\": \"Allow\", \"Principal\": { \"Service\": \"sagemaker.amazonaws.com\" }, \"Action\": \"sts:AssumeRole\" } ] }'\n",
    ")\n",
    "time.sleep(5)\n",
    "print(\"Created IAM Role for SageMaker Session.\")\n",
    "\n",
    "# Attach Managed Role Policy\n",
    "iam_client.attach_role_policy(\n",
    "    PolicyArn='arn:aws:iam::aws:policy/AmazonSageMakerFullAccess',\n",
    "    RoleName=role_response['Role']['RoleName']\n",
    ")\n",
    "print(\"Attached Managed Policy to SageMaker Session.\")\n",
    "time.sleep(5)\n",
    "\n",
    "# Create a model using the Session API\n",
    "# by attaching to the training job\n",
    "print(\"Attaching estimator to training job: {}\".format(training_job_name))\n",
    "sagemaker_role = role_response['Role']['Arn']\n",
    "estimator = MXNet.attach(training_job_name)\n",
    "session = sagemaker.Session()\n",
    "time.sleep(5)\n",
    "model = estimator.create_model()\n",
    "container_def = model.prepare_container_def(instance_type='ml.m4.xlarge')\n",
    "session.create_model(model_name, sagemaker_role, container_def)\n",
    "\n",
    "# Create endpoint config using the Session API\n",
    "endpoint_config_name = session.create_endpoint_config(\n",
    "    name=model_name,\n",
    "    model_name=model_name,\n",
    "    initial_instance_count=1,\n",
    "    instance_type='ml.m4.xlarge'\n",
    ")\n",
    "\n",
    "# Create endpoint using the boto3 API\n",
    "print(\"Creating Endpoint ...\")\n",
    "create_endpoint_response = sagemaker_client.create_endpoint(\n",
    "    EndpointName=model_name,\n",
    "    EndpointConfigName=endpoint_config_name\n",
    ")\n",
    "\n",
    "# Wait until the status has changed\n",
    "sagemaker_client.get_waiter('endpoint_in_service').wait(EndpointName=model_name)\n",
    "\n",
    "# Print the final status of the endpoint\n",
    "endpoint_response = sagemaker_client.describe_endpoint(EndpointName=model_name)\n",
    "status = endpoint_response['EndpointStatus']\n",
    "print('Endpoint status: {}'.format(status))\n",
    "\n",
    "if status != 'InService':\n",
    "    raise Exception('Endpoint creation failed.')"
   ]
  },
  {
   "cell_type": "markdown",
   "metadata": {},
   "source": [
    "---\n",
    "# DevOps Prod Integration"
   ]
  },
  {
   "cell_type": "code",
   "execution_count": null,
   "metadata": {
    "collapsed": true
   },
   "outputs": [],
   "source": [
    "runtime = boto3.client(service_name='runtime.sagemaker')"
   ]
  },
  {
   "cell_type": "code",
   "execution_count": null,
   "metadata": {
    "collapsed": true
   },
   "outputs": [],
   "source": []
  }
 ],
 "metadata": {
  "kernelspec": {
   "display_name": "conda_mxnet_p27",
   "language": "python",
   "name": "conda_mxnet_p27"
  },
  "language_info": {
   "codemirror_mode": {
    "name": "ipython",
    "version": 2
   },
   "file_extension": ".py",
   "mimetype": "text/x-python",
   "name": "python",
   "nbconvert_exporter": "python",
   "pygments_lexer": "ipython2",
   "version": "2.7.11"
  }
 },
 "nbformat": 4,
 "nbformat_minor": 2
}
