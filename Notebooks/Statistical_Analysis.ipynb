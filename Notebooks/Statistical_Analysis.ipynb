{
 "cells": [
  {
   "cell_type": "markdown",
   "metadata": {},
   "source": [
    "# Statistical Analysis"
   ]
  },
  {
   "cell_type": "code",
   "execution_count": null,
   "metadata": {},
   "outputs": [],
   "source": [
    "# Confusion Matrix\n",
    "y_pred = []\n",
    "y = np.load('/tmp/data/test_X.npy').reshape((-1, 12288))\n",
    "for i in range(len(y)):\n",
    "    y_pred.append(predictor.predict(y[i].reshape((1, y[i].shape[0]))))\n",
    "from sklearn.metrics import confusion_matrix, accuracy_score\n",
    "y_true = np.load('/tmp/data/test_Y.npy').tolist()\n",
    "cm = confusion_matrix(y_true, y_pred)\n",
    "\n",
    "# Plot confusion Matrix\n",
    "plt.rcParams['figure.figsize'] = (6.0, 7.0)\n",
    "plt.clf()\n",
    "plt.imshow(cm, interpolation='nearest', cmap=plt.cm.cool)\n",
    "classNames = [\"non-cat\", \"cat\"]\n",
    "plt.title('Non-Cat vs. Cat Classification')\n",
    "plt.ylabel('True label')\n",
    "plt.xlabel('Predicted label')\n",
    "tick_marks = np.arange(len(classNames))\n",
    "plt.xticks(tick_marks, classNames, rotation=45)\n",
    "plt.yticks(tick_marks, classNames)\n",
    "s = [['TN','FP'], ['FN', 'TP']]\n",
    "for i in range(2):\n",
    "    for j in range(2):\n",
    "        plt.text(j,i, str(s[i][j])+\" = \"+str(cm[i][j]))\n",
    "plt.show();\n",
    "print(\"Sensitivity: {}%\".format(float((cm[1, 1]/(cm[1,1]+cm[1, 0])))*100))\n",
    "print(\"Specificity: {}%\".format(float((cm[0, 0]/(cm[0, 0]+cm[0, 1])))*100))\n",
    "print(\"False Positive Rate: {}%\".format((float(cm[0, 1]/(cm[0, 1]+cm[0, 0])))*100))\n",
    "print(\"Precision: {}%\".format(float((cm[1,1]/(cm[1, 1]+cm[0, 1])))*100))\n",
    "print(\"Overall Accuracy: {}\".format(accuracy_score(y_true, y_pred)))"
   ]
  }
 ],
 "metadata": {
  "kernelspec": {
   "display_name": "conda_mxnet_p36",
   "language": "python",
   "name": "conda_mxnet_p36"
  },
  "language_info": {
   "codemirror_mode": {
    "name": "ipython",
    "version": 3
   },
   "file_extension": ".py",
   "mimetype": "text/x-python",
   "name": "python",
   "nbconvert_exporter": "python",
   "pygments_lexer": "ipython3",
   "version": "3.6.4"
  }
 },
 "nbformat": 4,
 "nbformat_minor": 2
}
